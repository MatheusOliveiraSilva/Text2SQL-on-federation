{
 "cells": [
  {
   "cell_type": "code",
   "execution_count": 29,
   "id": "initial_id",
   "metadata": {
    "collapsed": true,
    "ExecuteTime": {
     "end_time": "2024-12-28T16:57:08.599927Z",
     "start_time": "2024-12-28T16:57:08.571431Z"
    }
   },
   "outputs": [
    {
     "data": {
      "text/plain": "True"
     },
     "execution_count": 29,
     "metadata": {},
     "output_type": "execute_result"
    }
   ],
   "source": [
    "import re\n",
    "import os\n",
    "import sys\n",
    "import json\n",
    "import langchain\n",
    "import pandas as pd\n",
    "from pathlib import Path\n",
    "from dotenv import load_dotenv\n",
    "from langchain.chains import LLMChain\n",
    "from langchain_openai import ChatOpenAI\n",
    "from langchain_core.output_parsers import StrOutputParser\n",
    "from langgraph.prebuilt import tools_condition, ToolNode\n",
    "from langgraph.graph import START, StateGraph, MessagesState\n",
    "from langchain_core.messages import SystemMessage, HumanMessage\n",
    "from schemas.mondial_federated_schema import MONDIAL_ECONOMY, MONDIAL_GEO, MONDIAL_POlITICS, MONDIAL_SOCIAL, MONDIAL_FULL_SCHEMA\n",
    "\n",
    "load_dotenv()"
   ]
  },
  {
   "cell_type": "code",
   "outputs": [
    {
     "data": {
      "text/plain": "[{'Endpoint Source': 'MONDIAL_ECONOMY',\n  'Class Source': 'Economy',\n  'Properties Source': 'country',\n  'Endpoint Destination': 'MONDIAL_SOCIAL',\n  'Class Destination': 'Religion',\n  'Properties Destination': 'Country'},\n {'Endpoint Source': 'MONDIAL_ECONOMY',\n  'Class Source': 'Economy',\n  'Properties Source': 'country',\n  'Endpoint Destination': 'MONDIAL_SOCIAL',\n  'Class Destination': 'EthnicGroup',\n  'Properties Destination': 'Country'},\n {'Endpoint Source': 'MONDIAL_ECONOMY',\n  'Class Source': 'Economy',\n  'Properties Source': 'country',\n  'Endpoint Destination': 'MONDIAL_SOCIAL',\n  'Class Destination': 'Language',\n  'Properties Destination': 'Country'},\n {'Endpoint Source': 'MONDIAL_ECONOMY',\n  'Class Source': 'Economy',\n  'Properties Source': 'country',\n  'Endpoint Destination': 'MONDIAL_SOCIAL',\n  'Class Destination': 'Countrylocalname',\n  'Properties Destination': 'Country'},\n {'Endpoint Source': 'MONDIAL_ECONOMY',\n  'Class Source': 'Economy',\n  'Properties Source': 'country',\n  'Endpoint Destination': 'MONDIAL_SOCIAL',\n  'Class Destination': 'Countryothername',\n  'Properties Destination': 'Country'},\n {'Endpoint Source': 'MONDIAL_ECONOMY',\n  'Class Source': 'Economy',\n  'Properties Source': 'country',\n  'Endpoint Destination': 'MONDIAL_SOCIAL',\n  'Class Destination': 'Countrypops',\n  'Properties Destination': 'Country'},\n {'Endpoint Source': 'MONDIAL_ECONOMY',\n  'Class Source': 'Economy',\n  'Properties Source': 'country',\n  'Endpoint Destination': 'MONDIAL_GEO',\n  'Class Destination': 'Country',\n  'Properties Destination': 'Code'},\n {'Endpoint Source': 'MONDIAL_ECONOMY',\n  'Class Source': 'Economy',\n  'Properties Source': 'country',\n  'Endpoint Destination': 'MONDIAL_GEO',\n  'Class Destination': 'encompasses',\n  'Properties Destination': 'Country'},\n {'Endpoint Source': 'MONDIAL_ECONOMY',\n  'Class Source': 'Economy',\n  'Properties Source': 'country',\n  'Endpoint Destination': 'MONDIAL_POLITICS',\n  'Class Destination': 'Politics',\n  'Properties Destination': 'Country'},\n {'Endpoint Source': 'MONDIAL_ECONOMY',\n  'Class Source': 'Economy',\n  'Properties Source': 'country',\n  'Endpoint Destination': 'MONDIAL_POLITICS',\n  'Class Destination': 'borders',\n  'Properties Destination': 'Country1'},\n {'Endpoint Source': 'MONDIAL_ECONOMY',\n  'Class Source': 'Economy',\n  'Properties Source': 'country',\n  'Endpoint Destination': 'MONDIAL_POLITICS',\n  'Class Destination': 'borders',\n  'Properties Destination': 'Country2'},\n {'Endpoint Source': 'MONDIAL_ECONOMY',\n  'Class Source': 'Economy',\n  'Properties Source': 'country',\n  'Endpoint Destination': 'MONDIAL_POLITICS',\n  'Class Destination': 'Organization',\n  'Properties Destination': 'Country'},\n {'Endpoint Source': 'MONDIAL_ECONOMY',\n  'Class Source': 'Economy',\n  'Properties Source': 'country',\n  'Endpoint Destination': 'MONDIAL_POLITICS',\n  'Class Destination': 'isMember',\n  'Properties Destination': 'Country'},\n {'Endpoint Source': 'MONDIAL_ECONOMY',\n  'Class Source': 'Population',\n  'Properties Source': 'country',\n  'Endpoint Destination': 'MONDIAL_SOCIAL',\n  'Class Destination': 'Countrypops',\n  'Properties Destination': 'Country'},\n {'Endpoint Source': 'MONDIAL_ECONOMY',\n  'Class Source': 'Population',\n  'Properties Source': 'country',\n  'Endpoint Destination': 'MONDIAL_GEO',\n  'Class Destination': 'Country',\n  'Properties Destination': 'Code'},\n {'Endpoint Source': 'MONDIAL_ECONOMY',\n  'Class Source': 'Population',\n  'Properties Source': 'country',\n  'Endpoint Destination': 'MONDIAL_POLITICS',\n  'Class Destination': 'Politics',\n  'Properties Destination': 'Country'},\n {'Endpoint Source': 'MONDIAL_SOCIAL',\n  'Class Source': 'CountryLocalName',\n  'Properties Source': 'country',\n  'Endpoint Destination': 'MONDIAL_GEO',\n  'Class Destination': 'Country',\n  'Properties Destination': 'Code'},\n {'Endpoint Source': 'MONDIAL_SOCIAL',\n  'Class Source': 'CountryLocalName',\n  'Properties Source': 'country',\n  'Endpoint Destination': 'MONDIAL_POLITICS',\n  'Class Destination': 'Politics',\n  'Properties Destination': 'Country'},\n {'Endpoint Source': 'MONDIAL_SOCIAL',\n  'Class Source': 'CountryLocalName',\n  'Properties Source': 'country',\n  'Endpoint Destination': 'MONDIAL_ECONOMY',\n  'Class Destination': 'Economy',\n  'Properties Destination': 'Country'},\n {'Endpoint Source': 'MONDIAL_SOCIAL',\n  'Class Source': 'CountryLocalName',\n  'Properties Source': 'country',\n  'Endpoint Destination': 'MONDIAL_ECONOMY',\n  'Class Destination': 'Population',\n  'Properties Destination': 'Country'},\n {'Endpoint Source': 'MONDIAL_SOCIAL',\n  'Class Source': 'Religion',\n  'Properties Source': 'Country',\n  'Endpoint Destination': 'MONDIAL_GEO',\n  'Class Destination': 'Country',\n  'Properties Destination': 'Code'},\n {'Endpoint Source': 'MONDIAL_SOCIAL',\n  'Class Source': 'Religion',\n  'Properties Source': 'Country',\n  'Endpoint Destination': 'MONDIAL_POLITICS',\n  'Class Destination': 'Politics',\n  'Properties Destination': 'Country'},\n {'Endpoint Source': 'MONDIAL_SOCIAL',\n  'Class Source': 'Religion',\n  'Properties Source': 'Country',\n  'Endpoint Destination': 'MONDIAL_ECONOMY',\n  'Class Destination': 'Economy',\n  'Properties Destination': 'Country'},\n {'Endpoint Source': 'MONDIAL_SOCIAL',\n  'Class Source': 'Religion',\n  'Properties Source': 'Country',\n  'Endpoint Destination': 'MONDIAL_ECONOMY',\n  'Class Destination': 'Population',\n  'Properties Destination': 'Country'},\n {'Endpoint Source': 'MONDIAL_POLITICS',\n  'Class Source': 'borders',\n  'Properties Source': 'Country1',\n  'Endpoint Destination': 'MONDIAL_SOCIAL',\n  'Class Destination': 'Religion',\n  'Properties Destination': 'Country'},\n {'Endpoint Source': 'MONDIAL_POLITICS',\n  'Class Source': 'borders',\n  'Properties Source': 'Country1',\n  'Endpoint Destination': 'MONDIAL_SOCIAL',\n  'Class Destination': 'EthnicGroup',\n  'Properties Destination': 'Country'},\n {'Endpoint Source': 'MONDIAL_POLITICS',\n  'Class Source': 'borders',\n  'Properties Source': 'Country1',\n  'Endpoint Destination': 'MONDIAL_SOCIAL',\n  'Class Destination': 'Language',\n  'Properties Destination': 'Country'},\n {'Endpoint Source': 'MONDIAL_POLITICS',\n  'Class Source': 'borders',\n  'Properties Source': 'Country1',\n  'Endpoint Destination': 'MONDIAL_SOCIAL',\n  'Class Destination': 'Countrylocalname',\n  'Properties Destination': 'Country'},\n {'Endpoint Source': 'MONDIAL_POLITICS',\n  'Class Source': 'borders',\n  'Properties Source': 'Country1',\n  'Endpoint Destination': 'MONDIAL_SOCIAL',\n  'Class Destination': 'Countryothername',\n  'Properties Destination': 'Country'},\n {'Endpoint Source': 'MONDIAL_POLITICS',\n  'Class Source': 'borders',\n  'Properties Source': 'Country1',\n  'Endpoint Destination': 'MONDIAL_SOCIAL',\n  'Class Destination': 'Countrypops',\n  'Properties Destination': 'Country'},\n {'Endpoint Source': 'MONDIAL_POLITICS',\n  'Class Source': 'borders',\n  'Properties Source': 'Country1',\n  'Endpoint Destination': 'MONDIAL_GEO',\n  'Class Destination': 'Country',\n  'Properties Destination': 'Code'},\n {'Endpoint Source': 'MONDIAL_POLITICS',\n  'Class Source': 'borders',\n  'Properties Source': 'Country1',\n  'Endpoint Destination': 'MONDIAL_GEO',\n  'Class Destination': 'encompasses',\n  'Properties Destination': 'Country'},\n {'Endpoint Source': 'MONDIAL_POLITICS',\n  'Class Source': 'borders',\n  'Properties Source': 'Country1',\n  'Endpoint Destination': 'MONDIAL_GEO',\n  'Class Destination': 'City',\n  'Properties Destination': 'Country'},\n {'Endpoint Source': 'MONDIAL_POLITICS',\n  'Class Source': 'borders',\n  'Properties Source': 'Country1',\n  'Endpoint Destination': 'MONDIAL_GEO',\n  'Class Destination': 'Province',\n  'Properties Destination': 'Country'},\n {'Endpoint Source': 'MONDIAL_POLITICS',\n  'Class Source': 'borders',\n  'Properties Source': 'Country1',\n  'Endpoint Destination': 'MONDIAL_GEO',\n  'Class Destination': 'Airport',\n  'Properties Destination': 'Country'},\n {'Endpoint Source': 'MONDIAL_POLITICS',\n  'Class Source': 'borders',\n  'Properties Source': 'Country1',\n  'Endpoint Destination': 'MONDIAL_POLITICS',\n  'Class Destination': 'Politics',\n  'Properties Destination': 'Country'},\n {'Endpoint Source': 'MONDIAL_POLITICS',\n  'Class Source': 'borders',\n  'Properties Source': 'Country1',\n  'Endpoint Destination': 'MONDIAL_POLITICS',\n  'Class Destination': 'isMember',\n  'Properties Destination': 'Country'},\n {'Endpoint Source': 'MONDIAL_POLITICS',\n  'Class Source': 'borders',\n  'Properties Source': 'Country2',\n  'Endpoint Destination': 'MONDIAL_SOCIAL',\n  'Class Destination': 'Religion',\n  'Properties Destination': 'Country'},\n {'Endpoint Source': 'MONDIAL_POLITICS',\n  'Class Source': 'borders',\n  'Properties Source': 'Country2',\n  'Endpoint Destination': 'MONDIAL_SOCIAL',\n  'Class Destination': 'EthnicGroup',\n  'Properties Destination': 'Country'},\n {'Endpoint Source': 'MONDIAL_POLITICS',\n  'Class Source': 'borders',\n  'Properties Source': 'Country2',\n  'Endpoint Destination': 'MONDIAL_SOCIAL',\n  'Class Destination': 'Language',\n  'Properties Destination': 'Country'},\n {'Endpoint Source': 'MONDIAL_POLITICS',\n  'Class Source': 'borders',\n  'Properties Source': 'Country2',\n  'Endpoint Destination': 'MONDIAL_SOCIAL',\n  'Class Destination': 'Countrylocalname',\n  'Properties Destination': 'Country'},\n {'Endpoint Source': 'MONDIAL_POLITICS',\n  'Class Source': 'borders',\n  'Properties Source': 'Country2',\n  'Endpoint Destination': 'MONDIAL_SOCIAL',\n  'Class Destination': 'Countryothername',\n  'Properties Destination': 'Country'},\n {'Endpoint Source': 'MONDIAL_POLITICS',\n  'Class Source': 'borders',\n  'Properties Source': 'Country2',\n  'Endpoint Destination': 'MONDIAL_SOCIAL',\n  'Class Destination': 'Countrypops',\n  'Properties Destination': 'Country'},\n {'Endpoint Source': 'MONDIAL_POLITICS',\n  'Class Source': 'borders',\n  'Properties Source': 'Country2',\n  'Endpoint Destination': 'MONDIAL_GEO',\n  'Class Destination': 'Country',\n  'Properties Destination': 'Code'},\n {'Endpoint Source': 'MONDIAL_POLITICS',\n  'Class Source': 'borders',\n  'Properties Source': 'Country2',\n  'Endpoint Destination': 'MONDIAL_GEO',\n  'Class Destination': 'encompasses',\n  'Properties Destination': 'Country'},\n {'Endpoint Source': 'MONDIAL_POLITICS',\n  'Class Source': 'borders',\n  'Properties Source': 'Country2',\n  'Endpoint Destination': 'MONDIAL_GEO',\n  'Class Destination': 'City',\n  'Properties Destination': 'Country'},\n {'Endpoint Source': 'MONDIAL_POLITICS',\n  'Class Source': 'borders',\n  'Properties Source': 'Country2',\n  'Endpoint Destination': 'MONDIAL_GEO',\n  'Class Destination': 'Province',\n  'Properties Destination': 'Country'},\n {'Endpoint Source': 'MONDIAL_POLITICS',\n  'Class Source': 'borders',\n  'Properties Source': 'Country2',\n  'Endpoint Destination': 'MONDIAL_GEO',\n  'Class Destination': 'Airport',\n  'Properties Destination': 'Country'},\n {'Endpoint Source': 'MONDIAL_POLITICS',\n  'Class Source': 'borders',\n  'Properties Source': 'Country2',\n  'Endpoint Destination': 'MONDIAL_POLITICS',\n  'Class Destination': 'Politics',\n  'Properties Destination': 'Country'},\n {'Endpoint Source': 'MONDIAL_POLITICS',\n  'Class Source': 'borders',\n  'Properties Source': 'Country2',\n  'Endpoint Destination': 'MONDIAL_POLITICS',\n  'Class Destination': 'isMember',\n  'Properties Destination': 'Country'},\n {'Endpoint Source': 'MONDIAL_GEO',\n  'Class Source': 'encompasses',\n  'Properties Source': 'Country',\n  'Endpoint Destination': 'MONDIAL_SOCIAL',\n  'Class Destination': 'Religion',\n  'Properties Destination': 'Country'},\n {'Endpoint Source': 'MONDIAL_GEO',\n  'Class Source': 'encompasses',\n  'Properties Source': 'Country',\n  'Endpoint Destination': 'MONDIAL_SOCIAL',\n  'Class Destination': 'EthnicGroup',\n  'Properties Destination': 'Country'},\n {'Endpoint Source': 'MONDIAL_GEO',\n  'Class Source': 'encompasses',\n  'Properties Source': 'Country',\n  'Endpoint Destination': 'MONDIAL_SOCIAL',\n  'Class Destination': 'Language',\n  'Properties Destination': 'Country'},\n {'Endpoint Source': 'MONDIAL_GEO',\n  'Class Source': 'encompasses',\n  'Properties Source': 'Country',\n  'Endpoint Destination': 'MONDIAL_SOCIAL',\n  'Class Destination': 'Countrypops',\n  'Properties Destination': 'Country'},\n {'Endpoint Source': 'MONDIAL_GEO',\n  'Class Source': 'encompasses',\n  'Properties Source': 'Country',\n  'Endpoint Destination': 'MONDIAL_POLITICS',\n  'Class Destination': 'Politics',\n  'Properties Destination': 'Country'},\n {'Endpoint Source': 'MONDIAL_GEO',\n  'Class Source': 'encompasses',\n  'Properties Source': 'Country',\n  'Endpoint Destination': 'MONDIAL_ECONOMY',\n  'Class Destination': 'Economy',\n  'Properties Destination': 'Country'},\n {'Endpoint Source': 'MONDIAL_GEO',\n  'Class Source': 'encompasses',\n  'Properties Source': 'Country',\n  'Endpoint Destination': 'MONDIAL_ECONOMY',\n  'Class Destination': 'Population',\n  'Properties Destination': 'Country'},\n {'Endpoint Source': 'MONDIAL_SOCIAL',\n  'Class Source': 'Citypops',\n  'Properties Source': 'City',\n  'Endpoint Destination': 'MONDIAL_GEO',\n  'Class Destination': 'City',\n  'Properties Destination': 'Name'},\n {'Endpoint Source': 'MONDIAL_SOCIAL',\n  'Class Source': 'Citypops',\n  'Properties Source': 'Country',\n  'Endpoint Destination': 'MONDIAL_GEO',\n  'Class Destination': 'City',\n  'Properties Destination': 'Country'},\n {'Endpoint Source': 'MONDIAL_SOCIAL',\n  'Class Source': 'Citypops',\n  'Properties Source': 'Province',\n  'Endpoint Destination': 'MONDIAL_GEO',\n  'Class Destination': 'City',\n  'Properties Destination': 'Province'},\n {'Endpoint Source': 'MONDIAL_GEO',\n  'Class Source': 'Province',\n  'Properties Source': 'name',\n  'Endpoint Destination': 'MONDIAL_SOCIAL',\n  'Class Destination': 'Provincelocalname',\n  'Properties Destination': 'Province'},\n {'Endpoint Source': 'MONDIAL_GEO',\n  'Class Source': 'Province',\n  'Properties Source': 'country',\n  'Endpoint Destination': 'MONDIAL_SOCIAL',\n  'Class Destination': 'Provincelocalname',\n  'Properties Destination': 'Country'},\n {'Endpoint Source': 'MONDIAL_GEO',\n  'Class Source': 'Province',\n  'Properties Source': 'name',\n  'Endpoint Destination': 'MONDIAL_SOCIAL',\n  'Class Destination': 'Provinceothername',\n  'Properties Destination': 'Province'},\n {'Endpoint Source': 'MONDIAL_GEO',\n  'Class Source': 'Province',\n  'Properties Source': 'country',\n  'Endpoint Destination': 'MONDIAL_SOCIAL',\n  'Class Destination': 'Provinceothername',\n  'Properties Destination': 'Country'},\n {'Endpoint Source': 'MONDIAL_GEO',\n  'Class Source': 'Province',\n  'Properties Source': 'population',\n  'Endpoint Destination': 'MONDIAL_SOCIAL',\n  'Class Destination': 'Provpops',\n  'Properties Destination': 'Population'},\n {'Endpoint Source': 'MONDIAL_GEO',\n  'Class Source': 'Province',\n  'Properties Source': 'name',\n  'Endpoint Destination': 'MONDIAL_SOCIAL',\n  'Class Destination': 'Provpops',\n  'Properties Destination': 'Province'},\n {'Endpoint Source': 'MONDIAL_GEO',\n  'Class Source': 'Province',\n  'Properties Source': 'country',\n  'Endpoint Destination': 'MONDIAL_SOCIAL',\n  'Class Destination': 'Provpops',\n  'Properties Destination': 'Country'},\n {'Endpoint Source': 'MONDIAL_SOCIAL',\n  'Class Source': 'ProvinceLocalName',\n  'Properties Source': 'province',\n  'Endpoint Destination': 'MONDIAL_GEO',\n  'Class Destination': 'Province',\n  'Properties Destination': 'Name'},\n {'Endpoint Source': 'MONDIAL_SOCIAL',\n  'Class Source': 'ProvinceLocalName',\n  'Properties Source': 'country',\n  'Endpoint Destination': 'MONDIAL_GEO',\n  'Class Destination': 'Country',\n  'Properties Destination': 'Code'},\n {'Endpoint Source': 'MONDIAL_SOCIAL',\n  'Class Source': 'ProvinceLocalName',\n  'Properties Source': 'localname',\n  'Endpoint Destination': 'MONDIAL_SOCIAL',\n  'Class Destination': 'Provincelocalname',\n  'Properties Destination': 'localname'},\n {'Endpoint Source': 'MONDIAL_POLITICS',\n  'Class Source': 'isMember',\n  'Properties Source': 'Country',\n  'Endpoint Destination': 'MONDIAL_SOCIAL',\n  'Class Destination': 'Religion',\n  'Properties Destination': 'Country'},\n {'Endpoint Source': 'MONDIAL_POLITICS',\n  'Class Source': 'isMember',\n  'Properties Source': 'Country',\n  'Endpoint Destination': 'MONDIAL_SOCIAL',\n  'Class Destination': 'EthnicGroup',\n  'Properties Destination': 'Country'},\n {'Endpoint Source': 'MONDIAL_POLITICS',\n  'Class Source': 'isMember',\n  'Properties Source': 'Country',\n  'Endpoint Destination': 'MONDIAL_SOCIAL',\n  'Class Destination': 'Language',\n  'Properties Destination': 'Country'},\n {'Endpoint Source': 'MONDIAL_POLITICS',\n  'Class Source': 'isMember',\n  'Properties Source': 'Country',\n  'Endpoint Destination': 'MONDIAL_SOCIAL',\n  'Class Destination': 'Countrylocalname',\n  'Properties Destination': 'Country'},\n {'Endpoint Source': 'MONDIAL_POLITICS',\n  'Class Source': 'isMember',\n  'Properties Source': 'Country',\n  'Endpoint Destination': 'MONDIAL_SOCIAL',\n  'Class Destination': 'Countryothername',\n  'Properties Destination': 'Country'},\n {'Endpoint Source': 'MONDIAL_POLITICS',\n  'Class Source': 'isMember',\n  'Properties Source': 'Country',\n  'Endpoint Destination': 'MONDIAL_SOCIAL',\n  'Class Destination': 'Countrypops',\n  'Properties Destination': 'Country'},\n {'Endpoint Source': 'MONDIAL_POLITICS',\n  'Class Source': 'isMember',\n  'Properties Source': 'Country',\n  'Endpoint Destination': 'MONDIAL_GEO',\n  'Class Destination': 'Country',\n  'Properties Destination': 'Code'},\n {'Endpoint Source': 'MONDIAL_POLITICS',\n  'Class Source': 'isMember',\n  'Properties Source': 'Country',\n  'Endpoint Destination': 'MONDIAL_GEO',\n  'Class Destination': 'City',\n  'Properties Destination': 'Country'},\n {'Endpoint Source': 'MONDIAL_POLITICS',\n  'Class Source': 'isMember',\n  'Properties Source': 'Country',\n  'Endpoint Destination': 'MONDIAL_GEO',\n  'Class Destination': 'Province',\n  'Properties Destination': 'Country'},\n {'Endpoint Source': 'MONDIAL_POLITICS',\n  'Class Source': 'isMember',\n  'Properties Source': 'Country',\n  'Endpoint Destination': 'MONDIAL_GEO',\n  'Class Destination': 'Airport',\n  'Properties Destination': 'Country'},\n {'Endpoint Source': 'MONDIAL_POLITICS',\n  'Class Source': 'isMember',\n  'Properties Source': 'Country',\n  'Endpoint Destination': 'MONDIAL_GEO',\n  'Class Destination': 'geo_Mountain',\n  'Properties Destination': 'Country'},\n {'Endpoint Source': 'MONDIAL_POLITICS',\n  'Class Source': 'isMember',\n  'Properties Source': 'Country',\n  'Endpoint Destination': 'MONDIAL_GEO',\n  'Class Destination': 'geo_Desert',\n  'Properties Destination': 'Country'},\n {'Endpoint Source': 'MONDIAL_POLITICS',\n  'Class Source': 'isMember',\n  'Properties Source': 'Country',\n  'Endpoint Destination': 'MONDIAL_GEO',\n  'Class Destination': 'geo_Island',\n  'Properties Destination': 'Country'},\n {'Endpoint Source': 'MONDIAL_POLITICS',\n  'Class Source': 'isMember',\n  'Properties Source': 'Country',\n  'Endpoint Destination': 'MONDIAL_GEO',\n  'Class Destination': 'geo_River',\n  'Properties Destination': 'Country'},\n {'Endpoint Source': 'MONDIAL_POLITICS',\n  'Class Source': 'isMember',\n  'Properties Source': 'Country',\n  'Endpoint Destination': 'MONDIAL_GEO',\n  'Class Destination': 'geo_Sea',\n  'Properties Destination': 'Country'},\n {'Endpoint Source': 'MONDIAL_POLITICS',\n  'Class Source': 'isMember',\n  'Properties Source': 'Country',\n  'Endpoint Destination': 'MONDIAL_GEO',\n  'Class Destination': 'geo_Lake',\n  'Properties Destination': 'Country'},\n {'Endpoint Source': 'MONDIAL_POLITICS',\n  'Class Source': 'isMember',\n  'Properties Source': 'Organization',\n  'Endpoint Destination': 'MONDIAL_POLITICS',\n  'Class Destination': 'Organization',\n  'Properties Destination': 'Abbreviation'},\n {'Endpoint Source': 'MONDIAL_POLITICS',\n  'Class Source': 'isMember',\n  'Properties Source': 'Country',\n  'Endpoint Destination': 'MONDIAL_ECONOMY',\n  'Class Destination': 'Economy',\n  'Properties Destination': 'Country'},\n {'Endpoint Source': 'MONDIAL_POLITICS',\n  'Class Source': 'isMember',\n  'Properties Source': 'Country',\n  'Endpoint Destination': 'MONDIAL_ECONOMY',\n  'Class Destination': 'Population',\n  'Properties Destination': 'Country'},\n {'Endpoint Source': 'MONDIAL_GEO',\n  'Class Source': 'Sea',\n  'Properties Source': 'name',\n  'Endpoint Destination': 'MONDIAL_GEO',\n  'Class Destination': 'geo_Sea',\n  'Properties Destination': 'Sea'},\n {'Endpoint Source': 'MONDIAL_GEO',\n  'Class Source': 'RiverThrough',\n  'Properties Source': 'river',\n  'Endpoint Destination': 'MONDIAL_GEO',\n  'Class Destination': 'geo_River',\n  'Properties Destination': 'River'},\n {'Endpoint Source': 'MONDIAL_GEO',\n  'Class Source': 'RiverThrough',\n  'Properties Source': 'lake',\n  'Endpoint Destination': 'MONDIAL_GEO',\n  'Class Destination': 'geo_Lake',\n  'Properties Destination': 'Lake'},\n {'Endpoint Source': 'MONDIAL_GEO',\n  'Class Source': 'Island',\n  'Properties Source': 'name',\n  'Endpoint Destination': 'MONDIAL_GEO',\n  'Class Destination': 'geo_Island',\n  'Properties Destination': 'Island'},\n {'Endpoint Source': 'MONDIAL_GEO',\n  'Class Source': 'geo_Mountain',\n  'Properties Source': 'Country',\n  'Endpoint Destination': 'MONDIAL_SOCIAL',\n  'Class Destination': 'Religion',\n  'Properties Destination': 'Country'},\n {'Endpoint Source': 'MONDIAL_GEO',\n  'Class Source': 'geo_Mountain',\n  'Properties Source': 'Country',\n  'Endpoint Destination': 'MONDIAL_SOCIAL',\n  'Class Destination': 'EthnicGroup',\n  'Properties Destination': 'Country'},\n {'Endpoint Source': 'MONDIAL_GEO',\n  'Class Source': 'geo_Mountain',\n  'Properties Source': 'Country',\n  'Endpoint Destination': 'MONDIAL_SOCIAL',\n  'Class Destination': 'Language',\n  'Properties Destination': 'Country'},\n {'Endpoint Source': 'MONDIAL_GEO',\n  'Class Source': 'geo_Mountain',\n  'Properties Source': 'Country',\n  'Endpoint Destination': 'MONDIAL_SOCIAL',\n  'Class Destination': 'Countrylocalname',\n  'Properties Destination': 'Country'},\n {'Endpoint Source': 'MONDIAL_GEO',\n  'Class Source': 'geo_Mountain',\n  'Properties Source': 'Country',\n  'Endpoint Destination': 'MONDIAL_SOCIAL',\n  'Class Destination': 'Countryothername',\n  'Properties Destination': 'Country'},\n {'Endpoint Source': 'MONDIAL_GEO',\n  'Class Source': 'geo_Mountain',\n  'Properties Source': 'Country',\n  'Endpoint Destination': 'MONDIAL_SOCIAL',\n  'Class Destination': 'Countrypops',\n  'Properties Destination': 'Country'},\n {'Endpoint Source': 'MONDIAL_GEO',\n  'Class Source': 'geo_Mountain',\n  'Properties Source': 'Country',\n  'Endpoint Destination': 'MONDIAL_POLITICS',\n  'Class Destination': 'Politics',\n  'Properties Destination': 'Country'},\n {'Endpoint Source': 'MONDIAL_GEO',\n  'Class Source': 'geo_Mountain',\n  'Properties Source': 'Country',\n  'Endpoint Destination': 'MONDIAL_POLITICS',\n  'Class Destination': 'Organization',\n  'Properties Destination': 'Country'},\n {'Endpoint Source': 'MONDIAL_GEO',\n  'Class Source': 'geo_Mountain',\n  'Properties Source': 'Country',\n  'Endpoint Destination': 'MONDIAL_POLITICS',\n  'Class Destination': 'isMember',\n  'Properties Destination': 'Country'},\n {'Endpoint Source': 'MONDIAL_GEO',\n  'Class Source': 'geo_Mountain',\n  'Properties Source': 'Country',\n  'Endpoint Destination': 'MONDIAL_ECONOMY',\n  'Class Destination': 'Economy',\n  'Properties Destination': 'Country'},\n {'Endpoint Source': 'MONDIAL_GEO',\n  'Class Source': 'geo_Mountain',\n  'Properties Source': 'Country',\n  'Endpoint Destination': 'MONDIAL_ECONOMY',\n  'Class Destination': 'Population',\n  'Properties Destination': 'Country'},\n {'Endpoint Source': 'MONDIAL_GEO',\n  'Class Source': 'geo_Mountain',\n  'Properties Source': 'Province',\n  'Endpoint Destination': 'MONDIAL_SOCIAL',\n  'Class Destination': 'Provincelocalname',\n  'Properties Destination': 'Province'},\n {'Endpoint Source': 'MONDIAL_GEO',\n  'Class Source': 'geo_Mountain',\n  'Properties Source': 'Province',\n  'Endpoint Destination': 'MONDIAL_SOCIAL',\n  'Class Destination': 'Provinceothername',\n  'Properties Destination': 'Province'},\n {'Endpoint Source': 'MONDIAL_GEO',\n  'Class Source': 'geo_Mountain',\n  'Properties Source': 'Province',\n  'Endpoint Destination': 'MONDIAL_SOCIAL',\n  'Class Destination': 'Provpops',\n  'Properties Destination': 'Province'},\n {'Endpoint Source': 'MONDIAL_GEO',\n  'Class Source': 'located',\n  'Properties Source': 'city',\n  'Endpoint Destination': 'MONDIAL_GEO',\n  'Class Destination': 'City',\n  'Properties Destination': 'Name'},\n {'Endpoint Source': 'MONDIAL_GEO',\n  'Class Source': 'located',\n  'Properties Source': 'country',\n  'Endpoint Destination': 'MONDIAL_GEO',\n  'Class Destination': 'Country',\n  'Properties Destination': 'Code'},\n {'Endpoint Source': 'MONDIAL_GEO',\n  'Class Source': 'located',\n  'Properties Source': 'province',\n  'Endpoint Destination': 'MONDIAL_GEO',\n  'Class Destination': 'Province',\n  'Properties Destination': 'Name'},\n {'Endpoint Source': 'MONDIAL_GEO',\n  'Class Source': 'located',\n  'Properties Source': 'river',\n  'Endpoint Destination': 'MONDIAL_GEO',\n  'Class Destination': 'River',\n  'Properties Destination': 'Name'},\n {'Endpoint Source': 'MONDIAL_GEO',\n  'Class Source': 'located',\n  'Properties Source': 'lake',\n  'Endpoint Destination': 'MONDIAL_GEO',\n  'Class Destination': 'Lake',\n  'Properties Destination': 'Name'},\n {'Endpoint Source': 'MONDIAL_GEO',\n  'Class Source': 'located',\n  'Properties Source': 'sea',\n  'Endpoint Destination': 'MONDIAL_GEO',\n  'Class Destination': 'Sea',\n  'Properties Destination': 'Name'},\n {'Endpoint Source': 'MONDIAL_GEO',\n  'Class Source': 'islandIn',\n  'Properties Source': 'island',\n  'Endpoint Destination': 'MONDIAL_GEO',\n  'Class Destination': 'geo_Island',\n  'Properties Destination': 'Island'},\n {'Endpoint Source': 'MONDIAL_GEO',\n  'Class Source': 'islandIn',\n  'Properties Source': 'sea',\n  'Endpoint Destination': 'MONDIAL_GEO',\n  'Class Destination': 'geo_Sea',\n  'Properties Destination': 'Sea'},\n {'Endpoint Source': 'MONDIAL_GEO',\n  'Class Source': 'islandIn',\n  'Properties Source': 'lake',\n  'Endpoint Destination': 'MONDIAL_GEO',\n  'Class Destination': 'geo_Lake',\n  'Properties Destination': 'Lake'},\n {'Endpoint Source': 'MONDIAL_GEO',\n  'Class Source': 'islandIn',\n  'Properties Source': 'river',\n  'Endpoint Destination': 'MONDIAL_GEO',\n  'Class Destination': 'geo_River',\n  'Properties Destination': 'River'},\n {'Endpoint Source': 'MONDIAL_GEO',\n  'Class Source': 'RiverOnIsland',\n  'Properties Source': 'river',\n  'Endpoint Destination': 'MONDIAL_GEO',\n  'Class Destination': 'geo_River',\n  'Properties Destination': 'River'},\n {'Endpoint Source': 'MONDIAL_GEO',\n  'Class Source': 'RiverOnIsland',\n  'Properties Source': 'island',\n  'Endpoint Destination': 'MONDIAL_GEO',\n  'Class Destination': 'geo_Island',\n  'Properties Destination': 'Island'}]"
     },
     "execution_count": 2,
     "metadata": {},
     "output_type": "execute_result"
    }
   ],
   "source": [
    "SameAsTable_path = \"schemas/consolidated_sameastable.json\"\n",
    "\n",
    "with open(SameAsTable_path) as f:\n",
    "    SameAsTable = json.load(f)\n",
    "    \n",
    "SameAsTable"
   ],
   "metadata": {
    "collapsed": false,
    "ExecuteTime": {
     "end_time": "2024-12-28T15:02:44.669954Z",
     "start_time": "2024-12-28T15:02:44.562130Z"
    }
   },
   "id": "4114633e31491aee",
   "execution_count": 2
  },
  {
   "cell_type": "code",
   "outputs": [
    {
     "name": "stdout",
     "output_type": "stream",
     "text": [
      "{'Endpoint Source': 'MONDIAL_ECONOMY', 'Class Source': 'Economy', 'Properties Source': 'country', 'Endpoint Destination': 'MONDIAL_SOCIAL', 'Class Destination': 'Religion', 'Properties Destination': 'Country'}\n",
      "{'Endpoint Source': 'MONDIAL_ECONOMY', 'Class Source': 'Economy', 'Properties Source': 'country', 'Endpoint Destination': 'MONDIAL_SOCIAL', 'Class Destination': 'EthnicGroup', 'Properties Destination': 'Country'}\n",
      "{'Endpoint Source': 'MONDIAL_ECONOMY', 'Class Source': 'Economy', 'Properties Source': 'country', 'Endpoint Destination': 'MONDIAL_SOCIAL', 'Class Destination': 'Language', 'Properties Destination': 'Country'}\n",
      "{'Endpoint Source': 'MONDIAL_ECONOMY', 'Class Source': 'Economy', 'Properties Source': 'country', 'Endpoint Destination': 'MONDIAL_SOCIAL', 'Class Destination': 'Countrylocalname', 'Properties Destination': 'Country'}\n",
      "{'Endpoint Source': 'MONDIAL_ECONOMY', 'Class Source': 'Economy', 'Properties Source': 'country', 'Endpoint Destination': 'MONDIAL_SOCIAL', 'Class Destination': 'Countryothername', 'Properties Destination': 'Country'}\n",
      "{'Endpoint Source': 'MONDIAL_ECONOMY', 'Class Source': 'Economy', 'Properties Source': 'country', 'Endpoint Destination': 'MONDIAL_SOCIAL', 'Class Destination': 'Countrypops', 'Properties Destination': 'Country'}\n",
      "{'Endpoint Source': 'MONDIAL_ECONOMY', 'Class Source': 'Economy', 'Properties Source': 'country', 'Endpoint Destination': 'MONDIAL_GEO', 'Class Destination': 'Country', 'Properties Destination': 'Code'}\n",
      "{'Endpoint Source': 'MONDIAL_ECONOMY', 'Class Source': 'Economy', 'Properties Source': 'country', 'Endpoint Destination': 'MONDIAL_GEO', 'Class Destination': 'encompasses', 'Properties Destination': 'Country'}\n",
      "{'Endpoint Source': 'MONDIAL_ECONOMY', 'Class Source': 'Economy', 'Properties Source': 'country', 'Endpoint Destination': 'MONDIAL_POLITICS', 'Class Destination': 'Politics', 'Properties Destination': 'Country'}\n",
      "{'Endpoint Source': 'MONDIAL_ECONOMY', 'Class Source': 'Economy', 'Properties Source': 'country', 'Endpoint Destination': 'MONDIAL_POLITICS', 'Class Destination': 'borders', 'Properties Destination': 'Country1'}\n",
      "{'Endpoint Source': 'MONDIAL_ECONOMY', 'Class Source': 'Economy', 'Properties Source': 'country', 'Endpoint Destination': 'MONDIAL_POLITICS', 'Class Destination': 'borders', 'Properties Destination': 'Country2'}\n",
      "{'Endpoint Source': 'MONDIAL_ECONOMY', 'Class Source': 'Economy', 'Properties Source': 'country', 'Endpoint Destination': 'MONDIAL_POLITICS', 'Class Destination': 'Organization', 'Properties Destination': 'Country'}\n",
      "{'Endpoint Source': 'MONDIAL_ECONOMY', 'Class Source': 'Economy', 'Properties Source': 'country', 'Endpoint Destination': 'MONDIAL_POLITICS', 'Class Destination': 'isMember', 'Properties Destination': 'Country'}\n",
      "{'Endpoint Source': 'MONDIAL_ECONOMY', 'Class Source': 'Population', 'Properties Source': 'country', 'Endpoint Destination': 'MONDIAL_POLITICS', 'Class Destination': 'Politics', 'Properties Destination': 'Country'}\n",
      "{'Endpoint Source': 'MONDIAL_SOCIAL', 'Class Source': 'CountryLocalName', 'Properties Source': 'country', 'Endpoint Destination': 'MONDIAL_POLITICS', 'Class Destination': 'Politics', 'Properties Destination': 'Country'}\n",
      "{'Endpoint Source': 'MONDIAL_SOCIAL', 'Class Source': 'CountryLocalName', 'Properties Source': 'country', 'Endpoint Destination': 'MONDIAL_ECONOMY', 'Class Destination': 'Economy', 'Properties Destination': 'Country'}\n",
      "{'Endpoint Source': 'MONDIAL_SOCIAL', 'Class Source': 'Religion', 'Properties Source': 'Country', 'Endpoint Destination': 'MONDIAL_POLITICS', 'Class Destination': 'Politics', 'Properties Destination': 'Country'}\n",
      "{'Endpoint Source': 'MONDIAL_SOCIAL', 'Class Source': 'Religion', 'Properties Source': 'Country', 'Endpoint Destination': 'MONDIAL_ECONOMY', 'Class Destination': 'Economy', 'Properties Destination': 'Country'}\n",
      "{'Endpoint Source': 'MONDIAL_POLITICS', 'Class Source': 'borders', 'Properties Source': 'Country1', 'Endpoint Destination': 'MONDIAL_POLITICS', 'Class Destination': 'Politics', 'Properties Destination': 'Country'}\n",
      "{'Endpoint Source': 'MONDIAL_POLITICS', 'Class Source': 'borders', 'Properties Source': 'Country2', 'Endpoint Destination': 'MONDIAL_POLITICS', 'Class Destination': 'Politics', 'Properties Destination': 'Country'}\n",
      "{'Endpoint Source': 'MONDIAL_GEO', 'Class Source': 'encompasses', 'Properties Source': 'Country', 'Endpoint Destination': 'MONDIAL_POLITICS', 'Class Destination': 'Politics', 'Properties Destination': 'Country'}\n",
      "{'Endpoint Source': 'MONDIAL_GEO', 'Class Source': 'encompasses', 'Properties Source': 'Country', 'Endpoint Destination': 'MONDIAL_ECONOMY', 'Class Destination': 'Economy', 'Properties Destination': 'Country'}\n",
      "{'Endpoint Source': 'MONDIAL_POLITICS', 'Class Source': 'isMember', 'Properties Source': 'Country', 'Endpoint Destination': 'MONDIAL_ECONOMY', 'Class Destination': 'Economy', 'Properties Destination': 'Country'}\n",
      "{'Endpoint Source': 'MONDIAL_GEO', 'Class Source': 'geo_Mountain', 'Properties Source': 'Country', 'Endpoint Destination': 'MONDIAL_POLITICS', 'Class Destination': 'Politics', 'Properties Destination': 'Country'}\n",
      "{'Endpoint Source': 'MONDIAL_GEO', 'Class Source': 'geo_Mountain', 'Properties Source': 'Country', 'Endpoint Destination': 'MONDIAL_ECONOMY', 'Class Destination': 'Economy', 'Properties Destination': 'Country'}\n"
     ]
    }
   ],
   "source": [
    "def retrieve_relevant_sameastable_relations(relevant_tables: list) -> str:\n",
    "    \"\"\"\n",
    "    Retrieve relevant same-as-table relations based on the provided list of relevant tables.\n",
    "    Args:\n",
    "        relevant_tables (list): A list of relevant table names.\n",
    "    \"\"\"\n",
    "    \n",
    "    SameAsTable_path = \"schemas/consolidated_sameastable.json\"\n",
    "    \n",
    "    with open(SameAsTable_path) as f:\n",
    "        same_as_table_json = json.load(f)\n",
    "        \n",
    "    relevant_relations = []\n",
    "    \n",
    "    for relation in same_as_table_json:\n",
    "        is_relevant = (\n",
    "                (relation['Class Source'] in relevant_tables) \n",
    "                or \n",
    "                (relation['Class Destination'] in relevant_tables)\n",
    "        )\n",
    "        \n",
    "        if is_relevant:\n",
    "            relevant_relations.append(relation)\n",
    "    \n",
    "    final_relations = \"\" \n",
    "    for relation in relevant_relations:\n",
    "        relation = json.dumps(relation)\n",
    "        final_relations += relation + \"\\n\"\n",
    "        \n",
    "    return final_relations\n",
    "\n",
    "final_relations = retrieve_relevant_sameastable_relations(['Economy', 'Politics'])\n",
    "\n",
    "for relation in relevant_relations:\n",
    "    print(relation)"
   ],
   "metadata": {
    "collapsed": false,
    "ExecuteTime": {
     "end_time": "2024-12-28T17:18:08.759940Z",
     "start_time": "2024-12-28T17:18:08.742238Z"
    }
   },
   "id": "9d05171b116be860",
   "execution_count": 55
  },
  {
   "cell_type": "code",
   "outputs": [
    {
     "name": "stdout",
     "output_type": "stream",
     "text": [
      "['Economy', 'Religion']\n"
     ]
    }
   ],
   "source": [
    "llm = ChatOpenAI(temperature=0, model=\"gpt-4o\")\n",
    "\n",
    "def get_relevant_tables(question: str) -> list:\n",
    "    \"\"\"\n",
    "    Retrieve the relevant tables based on the user's question.\n",
    "    Args:\n",
    "        question (str): The user's question.\n",
    "    \"\"\"\n",
    "    \n",
    "    prompt = \"\"\"\n",
    "    You are an assistant especialized in extracting relevant tables from a question.\n",
    "    Your task is to determine which tables in the database are relevant to the user's question.\n",
    "    \n",
    "    The database schema is provided below:\n",
    "    {schema}\n",
    "    \n",
    "    The user's question is: {question}\n",
    "    \n",
    "    YOU ONLY CAN ANSWER 2 TYPES OF ANSWERS:\n",
    "    1- A list of tables that are relevant to the user's question.\n",
    "    2- A question about the user's question, to solve any ambiguities. It always need to be the type of answers if in user question have any entity that isn't in the schema explicity.\n",
    "    \n",
    "    YOUR ANSWER IS 1. MUST BE A LIST OF TABLES, SEPARATED BY COMMAS.\n",
    "    \"\"\"\n",
    "    \n",
    "    chain = llm | StrOutputParser()\n",
    "    \n",
    "    relevant_tables = chain.invoke(prompt.format(schema=MONDIAL_FULL_SCHEMA, question=question))\n",
    "    \n",
    "    # convert relevant tables in a list of strings\n",
    "    relevant_tables = relevant_tables.split(\", \")\n",
    "    return relevant_tables\n",
    "\n",
    "print(get_relevant_tables(\"What is the GDP and religions of Brazil?\"))"
   ],
   "metadata": {
    "collapsed": false,
    "ExecuteTime": {
     "end_time": "2024-12-28T17:18:10.366983Z",
     "start_time": "2024-12-28T17:18:08.868848Z"
    }
   },
   "id": "290e5ea13bee1684",
   "execution_count": 56
  },
  {
   "cell_type": "code",
   "outputs": [],
   "source": [
    "subquery_prompt = \"\"\"\n",
    "You are an intelligent assistant specialized in federated databases. Your task is to analyze a query and determine how it can be split into subqueries for different federated databases. \n",
    "\n",
    "Here is the schema of the federated database:\n",
    "1. MONDIAL_ECONOMY:\n",
    "{economy_schema}\n",
    "2. MONDIAL_SOCIAL:\n",
    "{social_schema}\n",
    "3. MONDIAL_GEO:\n",
    "{geo_schema}\n",
    "4. MONDIAL_POLITICS:\n",
    "{politics_schema}\n",
    "\n",
    "Here are the relationships between tables across schemas:\n",
    "1. SameAsTable relationships:\n",
    "{same_as_table}\n",
    "\n",
    "### Query\n",
    "\"{query}\"\n",
    "\n",
    "### Task\n",
    "1. Identify the tables and columns relevant to this query.\n",
    "2. Indicate which federated schema each table belongs to.\n",
    "3. Suggest SQL subqueries for each schema to retrieve the required data.\n",
    "4. Specify conditions that can be applied within each subquery.\n",
    "\n",
    "Answer ALL AND ONLY IN JSON format with the following structure:\n",
    "{{\n",
    "  \"subqueries\": [\n",
    "    {{\n",
    "      \"schema\": \"Schema Name\",\n",
    "      \"tables\": [\"Table1\", \"Table2\"],\n",
    "      \"columns\": [\"Column1\", \"Column2\"],\n",
    "      \"conditions\": [\"Condition1\", \"Condition2\"],\n",
    "      \"sql\": \"Generated SQL\"\n",
    "    }}\n",
    "  ]\n",
    "}}\n",
    "\"\"\"\n",
    "\n",
    "integration_prompt = \"\"\"\n",
    "You are an intelligent assistant responsible for integrating results from multiple federated databases.\n",
    "\n",
    "Here are the SQL subqueries already generated:\n",
    "{subqueries}\n",
    "\n",
    "Here are the relationships between tables:\n",
    "1. SameAsTable relationships:\n",
    "{same_as_table}\n",
    "2. ExternalObjectProperty relationships:\n",
    "{external_object_property}\n",
    "\n",
    "Task:\n",
    "1. Identify how the results of these subqueries should be combined (JOIN or UNION).\n",
    "2. Specify the columns used for integration (e.g., common keys).\n",
    "3. Generate the final SQL query to integrate all subqueries.\n",
    "\n",
    "Answer ALL AND ONLY IN JSON format:\n",
    "{{\n",
    "  \"integration_plan\": {{\n",
    "    \"method\": \"JOIN/UNION\",\n",
    "    \"columns\": [\"Column1\", \"Column2\"],\n",
    "    \"sql\": \"Generated SQL\"\n",
    "  }}\n",
    "}}\n",
    "\"\"\""
   ],
   "metadata": {
    "collapsed": false,
    "ExecuteTime": {
     "end_time": "2024-12-28T17:18:10.372082Z",
     "start_time": "2024-12-28T17:18:10.368853Z"
    }
   },
   "id": "715cc9f898f7c587",
   "execution_count": 57
  },
  {
   "cell_type": "code",
   "outputs": [
    {
     "name": "stdout",
     "output_type": "stream",
     "text": [
      "```json\n",
      "{\n",
      "  \"subqueries\": [\n",
      "    {\n",
      "      \"schema\": \"MONDIAL_ECONOMY\",\n",
      "      \"tables\": [\"Economy\"],\n",
      "      \"columns\": [\"Country\", \"GDP\"],\n",
      "      \"conditions\": [\"Country IN (SELECT Country FROM encompasses WHERE Continent = 'South America')\"],\n",
      "      \"sql\": \"SELECT Country, GDP FROM Economy WHERE Country IN (SELECT Country FROM encompasses WHERE Continent = 'South America')\"\n",
      "    },\n",
      "    {\n",
      "      \"schema\": \"MONDIAL_SOCIAL\",\n",
      "      \"tables\": [\"Religion\"],\n",
      "      \"columns\": [\"Country\", \"Name\", \"Percentage\"],\n",
      "      \"conditions\": [\"Country IN (SELECT Country FROM encompasses WHERE Continent = 'South America')\"],\n",
      "      \"sql\": \"SELECT Country, Name, Percentage FROM Religion WHERE Country IN (SELECT Country FROM encompasses WHERE Continent = 'South America')\"\n",
      "    }\n",
      "  ]\n",
      "}\n",
      "```\n"
     ]
    }
   ],
   "source": [
    "from schemas.mondial_federated_schema import MONDIAL_ECONOMY, MONDIAL_GEO, MONDIAL_POlITICS, MONDIAL_SOCIAL, MONDIAL_FULL_SCHEMA\n",
    "\n",
    "def get_subqueries(query: str, relationships: str) -> str:\n",
    "    \"\"\"\n",
    "    Generate subqueries for each federated schema based on the user's query.\n",
    "    Args:\n",
    "        query (str): The user's query.\n",
    "        relationships (str): The SameAsTabgle relationships between tables across schemas.\n",
    "    \"\"\"\n",
    "    \n",
    "    prompt = subquery_prompt.format(\n",
    "        economy_schema=MONDIAL_ECONOMY,\n",
    "        social_schema=MONDIAL_SOCIAL,\n",
    "        geo_schema=MONDIAL_GEO,\n",
    "        politics_schema=MONDIAL_POlITICS,\n",
    "        same_as_table=relationships,\n",
    "        query=query\n",
    "    )\n",
    "    \n",
    "    human_msg = HumanMessage(\n",
    "        content=prompt\n",
    "    )\n",
    "    \n",
    "    chain = llm | StrOutputParser()\n",
    "    result = chain.invoke([human_msg])\n",
    "    \n",
    "    return result\n",
    "\n",
    "query = \"Retrieve the GDP and religion of countries in South America.\"\n",
    "\n",
    "relevant_tables = get_relevant_tables(query)\n",
    "\n",
    "relations = retrieve_relevant_sameastable_relations(relevant_tables)\n",
    "\n",
    "subqueries = get_subqueries(query, relations)\n",
    "\n",
    "print(subqueries)"
   ],
   "metadata": {
    "collapsed": false,
    "ExecuteTime": {
     "end_time": "2024-12-28T17:22:02.471478Z",
     "start_time": "2024-12-28T17:21:57.357007Z"
    }
   },
   "id": "69615f8f19e538d1",
   "execution_count": 63
  },
  {
   "cell_type": "code",
   "outputs": [],
   "source": [
    "tools = [get_relevant_tables, retrieve_relevant_sameastable_relations, get_subqueries]\n",
    "\n",
    "llm_with_tools = llm.bind_tools(tools)\n",
    "\n",
    "assistant_prompt = \"\"\"\n",
    "# You are a chatbot agent that responds to user questions about a database.\n",
    "\n",
    "# Rules:\n",
    "First, verify if the question is related to the database. If it is not, act as a normal chatbot and answer the question and don't call any tool.\n",
    "\n",
    "If it is, determine whether the question needs to be rewritten.\n",
    "If so, enrich the question with relevant data from the conversation history. Otherwise, use the original question for the next step.\n",
    "\n",
    "You can use 2 types of tools:\n",
    "1- get_relevant_tables: This tool is used to determine which tables in the database are relevant to the user's question.\n",
    "2- retrieve_relevant_sameastable_relations: This tool is used to retrieve the same-as-table relations for the relevant tables.\n",
    "\n",
    "!! Always use the tools in order: get_relevant_tables, retrieve_relevant_sameastable_relations, get_subqueries !! \n",
    "\n",
    "# Attention:\n",
    "Do not attempt to convert the user’s question to SQL; this is the tool's responsibility.\n",
    "\n",
    "# The database schema is provided below. If the user asks a question outside the schema’s scope, apologize and inform them that it is beyond your scope.\n",
    "{schema}\n",
    "\n",
    "# User's question: {input}\n",
    "\"\"\"\n",
    "\n",
    "prompt_with_schema = assistant_prompt.replace(\"{schema}\", MONDIAL_FULL_SCHEMA)\n",
    "\n",
    "def assistant(state: MessagesState):\n",
    "    sys_msg = SystemMessage(\n",
    "        content=prompt_with_schema.format(input=state[\"messages\"][-1].content)\n",
    "    )\n",
    "\n",
    "    return {\"messages\": [llm_with_tools.invoke([sys_msg] + state[\"messages\"])]}\n",
    "\n",
    "# Build graph\n",
    "builder = StateGraph(MessagesState)\n",
    "builder.add_node(\"assistant\", assistant)\n",
    "builder.add_node(\"tools\", ToolNode(tools))\n",
    "builder.add_edge(START, \"assistant\")\n",
    "builder.add_conditional_edges(\n",
    "    \"assistant\",\n",
    "    # If the latest message (result) from assistant is a tool call -> tools_condition routes to tools\n",
    "    # If the latest message (result) from assistant is a not a tool call -> tools_condition routes to END\n",
    "    tools_condition,\n",
    ")\n",
    "builder.add_edge(\"tools\", \"assistant\")\n",
    "\n",
    "# Compile graph\n",
    "graph = builder.compile()"
   ],
   "metadata": {
    "collapsed": false,
    "ExecuteTime": {
     "end_time": "2024-12-28T17:23:46.227366Z",
     "start_time": "2024-12-28T17:23:46.171303Z"
    }
   },
   "id": "ef77163292919ca1",
   "execution_count": 64
  },
  {
   "cell_type": "code",
   "outputs": [
    {
     "data": {
      "image/png": "[encoded data removed]",
      "text/plain": "<IPython.core.display.Image object>"
     },
     "metadata": {},
     "output_type": "display_data"
    }
   ],
   "source": [
    "from IPython.display import Image, display\n",
    "\n",
    "display(Image(graph.get_graph(xray=True).draw_mermaid_png()))"
   ],
   "metadata": {
    "collapsed": false,
    "ExecuteTime": {
     "end_time": "2024-12-28T17:23:47.264532Z",
     "start_time": "2024-12-28T17:23:46.695855Z"
    }
   },
   "id": "dd3a9abc80bd4e2a",
   "execution_count": 65
  },
  {
   "cell_type": "code",
   "outputs": [],
   "source": [
    "messages = [HumanMessage(content=\"Retrieve the GDP and religion of countries in South America?\")]\n",
    "result = graph.invoke({\"messages\": messages})"
   ],
   "metadata": {
    "collapsed": false,
    "ExecuteTime": {
     "end_time": "2024-12-28T17:25:05.464962Z",
     "start_time": "2024-12-28T17:24:28.457533Z"
    }
   },
   "id": "5eccdcfd2231fd97",
   "execution_count": 66
  },
  {
   "cell_type": "code",
   "outputs": [
    {
     "data": {
      "text/plain": "{'messages': [HumanMessage(content='Retrieve the GDP and religion of countries in South America?', additional_kwargs={}, response_metadata={}, id='a7eb4452-c290-485b-9095-dd6cbab948fe'),\n  AIMessage(content='', additional_kwargs={'tool_calls': [{'id': 'call_VrPhXz16NXCJnnj5gmhjYbzw', 'function': {'arguments': '{\"question\":\"Retrieve the GDP and religion of countries in South America?\"}', 'name': 'get_relevant_tables'}, 'type': 'function'}], 'refusal': None}, response_metadata={'token_usage': {'completion_tokens': 27, 'prompt_tokens': 3085, 'total_tokens': 3112, 'completion_tokens_details': {'accepted_prediction_tokens': 0, 'audio_tokens': 0, 'reasoning_tokens': 0, 'rejected_prediction_tokens': 0}, 'prompt_tokens_details': {'audio_tokens': 0, 'cached_tokens': 0}}, 'model_name': 'gpt-4o-2024-08-06', 'system_fingerprint': 'fp_5f20662549', 'finish_reason': 'tool_calls', 'logprobs': None}, id='run-b080c733-d3e1-4ced-a129-54c49bdd9e30-0', tool_calls=[{'name': 'get_relevant_tables', 'args': {'question': 'Retrieve the GDP and religion of countries in South America?'}, 'id': 'call_VrPhXz16NXCJnnj5gmhjYbzw', 'type': 'tool_call'}], usage_metadata={'input_tokens': 3085, 'output_tokens': 27, 'total_tokens': 3112, 'input_token_details': {'audio': 0, 'cache_read': 0}, 'output_token_details': {'audio': 0, 'reasoning': 0}}),\n  ToolMessage(content='[\"Economy\", \"Religion\", \"encompasses\"]', name='get_relevant_tables', id='efe5802f-f236-4c90-91b8-079fb14f5c61', tool_call_id='call_VrPhXz16NXCJnnj5gmhjYbzw'),\n  AIMessage(content='', additional_kwargs={'tool_calls': [{'id': 'call_P8uM5ip040MwybzQEl5tOgOp', 'function': {'arguments': '{\"relevant_tables\":[\"Economy\",\"Religion\",\"encompasses\"]}', 'name': 'retrieve_relevant_sameastable_relations'}, 'type': 'function'}], 'refusal': None}, response_metadata={'token_usage': {'completion_tokens': 31, 'prompt_tokens': 3135, 'total_tokens': 3166, 'completion_tokens_details': {'accepted_prediction_tokens': 0, 'audio_tokens': 0, 'reasoning_tokens': 0, 'rejected_prediction_tokens': 0}, 'prompt_tokens_details': {'audio_tokens': 0, 'cached_tokens': 2560}}, 'model_name': 'gpt-4o-2024-08-06', 'system_fingerprint': 'fp_5f20662549', 'finish_reason': 'tool_calls', 'logprobs': None}, id='run-4a6ccdd0-d9fb-431c-b7f5-166c04ca34c6-0', tool_calls=[{'name': 'retrieve_relevant_sameastable_relations', 'args': {'relevant_tables': ['Economy', 'Religion', 'encompasses']}, 'id': 'call_P8uM5ip040MwybzQEl5tOgOp', 'type': 'tool_call'}], usage_metadata={'input_tokens': 3135, 'output_tokens': 31, 'total_tokens': 3166, 'input_token_details': {'audio': 0, 'cache_read': 2560}, 'output_token_details': {'audio': 0, 'reasoning': 0}}),\n  ToolMessage(content='{\"Endpoint Source\": \"MONDIAL_ECONOMY\", \"Class Source\": \"Economy\", \"Properties Source\": \"country\", \"Endpoint Destination\": \"MONDIAL_SOCIAL\", \"Class Destination\": \"Religion\", \"Properties Destination\": \"Country\"}\\n{\"Endpoint Source\": \"MONDIAL_ECONOMY\", \"Class Source\": \"Economy\", \"Properties Source\": \"country\", \"Endpoint Destination\": \"MONDIAL_SOCIAL\", \"Class Destination\": \"EthnicGroup\", \"Properties Destination\": \"Country\"}\\n{\"Endpoint Source\": \"MONDIAL_ECONOMY\", \"Class Source\": \"Economy\", \"Properties Source\": \"country\", \"Endpoint Destination\": \"MONDIAL_SOCIAL\", \"Class Destination\": \"Language\", \"Properties Destination\": \"Country\"}\\n{\"Endpoint Source\": \"MONDIAL_ECONOMY\", \"Class Source\": \"Economy\", \"Properties Source\": \"country\", \"Endpoint Destination\": \"MONDIAL_SOCIAL\", \"Class Destination\": \"Countrylocalname\", \"Properties Destination\": \"Country\"}\\n{\"Endpoint Source\": \"MONDIAL_ECONOMY\", \"Class Source\": \"Economy\", \"Properties Source\": \"country\", \"Endpoint Destination\": \"MONDIAL_SOCIAL\", \"Class Destination\": \"Countryothername\", \"Properties Destination\": \"Country\"}\\n{\"Endpoint Source\": \"MONDIAL_ECONOMY\", \"Class Source\": \"Economy\", \"Properties Source\": \"country\", \"Endpoint Destination\": \"MONDIAL_SOCIAL\", \"Class Destination\": \"Countrypops\", \"Properties Destination\": \"Country\"}\\n{\"Endpoint Source\": \"MONDIAL_ECONOMY\", \"Class Source\": \"Economy\", \"Properties Source\": \"country\", \"Endpoint Destination\": \"MONDIAL_GEO\", \"Class Destination\": \"Country\", \"Properties Destination\": \"Code\"}\\n{\"Endpoint Source\": \"MONDIAL_ECONOMY\", \"Class Source\": \"Economy\", \"Properties Source\": \"country\", \"Endpoint Destination\": \"MONDIAL_GEO\", \"Class Destination\": \"encompasses\", \"Properties Destination\": \"Country\"}\\n{\"Endpoint Source\": \"MONDIAL_ECONOMY\", \"Class Source\": \"Economy\", \"Properties Source\": \"country\", \"Endpoint Destination\": \"MONDIAL_POLITICS\", \"Class Destination\": \"Politics\", \"Properties Destination\": \"Country\"}\\n{\"Endpoint Source\": \"MONDIAL_ECONOMY\", \"Class Source\": \"Economy\", \"Properties Source\": \"country\", \"Endpoint Destination\": \"MONDIAL_POLITICS\", \"Class Destination\": \"borders\", \"Properties Destination\": \"Country1\"}\\n{\"Endpoint Source\": \"MONDIAL_ECONOMY\", \"Class Source\": \"Economy\", \"Properties Source\": \"country\", \"Endpoint Destination\": \"MONDIAL_POLITICS\", \"Class Destination\": \"borders\", \"Properties Destination\": \"Country2\"}\\n{\"Endpoint Source\": \"MONDIAL_ECONOMY\", \"Class Source\": \"Economy\", \"Properties Source\": \"country\", \"Endpoint Destination\": \"MONDIAL_POLITICS\", \"Class Destination\": \"Organization\", \"Properties Destination\": \"Country\"}\\n{\"Endpoint Source\": \"MONDIAL_ECONOMY\", \"Class Source\": \"Economy\", \"Properties Source\": \"country\", \"Endpoint Destination\": \"MONDIAL_POLITICS\", \"Class Destination\": \"isMember\", \"Properties Destination\": \"Country\"}\\n{\"Endpoint Source\": \"MONDIAL_SOCIAL\", \"Class Source\": \"CountryLocalName\", \"Properties Source\": \"country\", \"Endpoint Destination\": \"MONDIAL_ECONOMY\", \"Class Destination\": \"Economy\", \"Properties Destination\": \"Country\"}\\n{\"Endpoint Source\": \"MONDIAL_SOCIAL\", \"Class Source\": \"Religion\", \"Properties Source\": \"Country\", \"Endpoint Destination\": \"MONDIAL_GEO\", \"Class Destination\": \"Country\", \"Properties Destination\": \"Code\"}\\n{\"Endpoint Source\": \"MONDIAL_SOCIAL\", \"Class Source\": \"Religion\", \"Properties Source\": \"Country\", \"Endpoint Destination\": \"MONDIAL_POLITICS\", \"Class Destination\": \"Politics\", \"Properties Destination\": \"Country\"}\\n{\"Endpoint Source\": \"MONDIAL_SOCIAL\", \"Class Source\": \"Religion\", \"Properties Source\": \"Country\", \"Endpoint Destination\": \"MONDIAL_ECONOMY\", \"Class Destination\": \"Economy\", \"Properties Destination\": \"Country\"}\\n{\"Endpoint Source\": \"MONDIAL_SOCIAL\", \"Class Source\": \"Religion\", \"Properties Source\": \"Country\", \"Endpoint Destination\": \"MONDIAL_ECONOMY\", \"Class Destination\": \"Population\", \"Properties Destination\": \"Country\"}\\n{\"Endpoint Source\": \"MONDIAL_POLITICS\", \"Class Source\": \"borders\", \"Properties Source\": \"Country1\", \"Endpoint Destination\": \"MONDIAL_SOCIAL\", \"Class Destination\": \"Religion\", \"Properties Destination\": \"Country\"}\\n{\"Endpoint Source\": \"MONDIAL_POLITICS\", \"Class Source\": \"borders\", \"Properties Source\": \"Country1\", \"Endpoint Destination\": \"MONDIAL_GEO\", \"Class Destination\": \"encompasses\", \"Properties Destination\": \"Country\"}\\n{\"Endpoint Source\": \"MONDIAL_POLITICS\", \"Class Source\": \"borders\", \"Properties Source\": \"Country2\", \"Endpoint Destination\": \"MONDIAL_SOCIAL\", \"Class Destination\": \"Religion\", \"Properties Destination\": \"Country\"}\\n{\"Endpoint Source\": \"MONDIAL_POLITICS\", \"Class Source\": \"borders\", \"Properties Source\": \"Country2\", \"Endpoint Destination\": \"MONDIAL_GEO\", \"Class Destination\": \"encompasses\", \"Properties Destination\": \"Country\"}\\n{\"Endpoint Source\": \"MONDIAL_GEO\", \"Class Source\": \"encompasses\", \"Properties Source\": \"Country\", \"Endpoint Destination\": \"MONDIAL_SOCIAL\", \"Class Destination\": \"Religion\", \"Properties Destination\": \"Country\"}\\n{\"Endpoint Source\": \"MONDIAL_GEO\", \"Class Source\": \"encompasses\", \"Properties Source\": \"Country\", \"Endpoint Destination\": \"MONDIAL_SOCIAL\", \"Class Destination\": \"EthnicGroup\", \"Properties Destination\": \"Country\"}\\n{\"Endpoint Source\": \"MONDIAL_GEO\", \"Class Source\": \"encompasses\", \"Properties Source\": \"Country\", \"Endpoint Destination\": \"MONDIAL_SOCIAL\", \"Class Destination\": \"Language\", \"Properties Destination\": \"Country\"}\\n{\"Endpoint Source\": \"MONDIAL_GEO\", \"Class Source\": \"encompasses\", \"Properties Source\": \"Country\", \"Endpoint Destination\": \"MONDIAL_SOCIAL\", \"Class Destination\": \"Countrypops\", \"Properties Destination\": \"Country\"}\\n{\"Endpoint Source\": \"MONDIAL_GEO\", \"Class Source\": \"encompasses\", \"Properties Source\": \"Country\", \"Endpoint Destination\": \"MONDIAL_POLITICS\", \"Class Destination\": \"Politics\", \"Properties Destination\": \"Country\"}\\n{\"Endpoint Source\": \"MONDIAL_GEO\", \"Class Source\": \"encompasses\", \"Properties Source\": \"Country\", \"Endpoint Destination\": \"MONDIAL_ECONOMY\", \"Class Destination\": \"Economy\", \"Properties Destination\": \"Country\"}\\n{\"Endpoint Source\": \"MONDIAL_GEO\", \"Class Source\": \"encompasses\", \"Properties Source\": \"Country\", \"Endpoint Destination\": \"MONDIAL_ECONOMY\", \"Class Destination\": \"Population\", \"Properties Destination\": \"Country\"}\\n{\"Endpoint Source\": \"MONDIAL_POLITICS\", \"Class Source\": \"isMember\", \"Properties Source\": \"Country\", \"Endpoint Destination\": \"MONDIAL_SOCIAL\", \"Class Destination\": \"Religion\", \"Properties Destination\": \"Country\"}\\n{\"Endpoint Source\": \"MONDIAL_POLITICS\", \"Class Source\": \"isMember\", \"Properties Source\": \"Country\", \"Endpoint Destination\": \"MONDIAL_ECONOMY\", \"Class Destination\": \"Economy\", \"Properties Destination\": \"Country\"}\\n{\"Endpoint Source\": \"MONDIAL_GEO\", \"Class Source\": \"geo_Mountain\", \"Properties Source\": \"Country\", \"Endpoint Destination\": \"MONDIAL_SOCIAL\", \"Class Destination\": \"Religion\", \"Properties Destination\": \"Country\"}\\n{\"Endpoint Source\": \"MONDIAL_GEO\", \"Class Source\": \"geo_Mountain\", \"Properties Source\": \"Country\", \"Endpoint Destination\": \"MONDIAL_ECONOMY\", \"Class Destination\": \"Economy\", \"Properties Destination\": \"Country\"}\\n', name='retrieve_relevant_sameastable_relations', id='9256c634-582f-47f7-bb40-be379f0f6919', tool_call_id='call_P8uM5ip040MwybzQEl5tOgOp'),\n  AIMessage(content='', additional_kwargs={'tool_calls': [{'id': 'call_piUL1kTdW3rlYLwqjhi2bQNY', 'function': {'arguments': '{\"query\":\"Retrieve the GDP and religion of countries in South America?\",\"relationships\":\"{\\\\\"Endpoint Source\\\\\": \\\\\"MONDIAL_ECONOMY\\\\\", \\\\\"Class Source\\\\\": \\\\\"Economy\\\\\", \\\\\"Properties Source\\\\\": \\\\\"country\\\\\", \\\\\"Endpoint Destination\\\\\": \\\\\"MONDIAL_SOCIAL\\\\\", \\\\\"Class Destination\\\\\": \\\\\"Religion\\\\\", \\\\\"Properties Destination\\\\\": \\\\\"Country\\\\\"}\\\\n{\\\\\"Endpoint Source\\\\\": \\\\\"MONDIAL_ECONOMY\\\\\", \\\\\"Class Source\\\\\": \\\\\"Economy\\\\\", \\\\\"Properties Source\\\\\": \\\\\"country\\\\\", \\\\\"Endpoint Destination\\\\\": \\\\\"MONDIAL_SOCIAL\\\\\", \\\\\"Class Destination\\\\\": \\\\\"EthnicGroup\\\\\", \\\\\"Properties Destination\\\\\": \\\\\"Country\\\\\"}\\\\n{\\\\\"Endpoint Source\\\\\": \\\\\"MONDIAL_ECONOMY\\\\\", \\\\\"Class Source\\\\\": \\\\\"Economy\\\\\", \\\\\"Properties Source\\\\\": \\\\\"country\\\\\", \\\\\"Endpoint Destination\\\\\": \\\\\"MONDIAL_SOCIAL\\\\\", \\\\\"Class Destination\\\\\": \\\\\"Language\\\\\", \\\\\"Properties Destination\\\\\": \\\\\"Country\\\\\"}\\\\n{\\\\\"Endpoint Source\\\\\": \\\\\"MONDIAL_ECONOMY\\\\\", \\\\\"Class Source\\\\\": \\\\\"Economy\\\\\", \\\\\"Properties Source\\\\\": \\\\\"country\\\\\", \\\\\"Endpoint Destination\\\\\": \\\\\"MONDIAL_SOCIAL\\\\\", \\\\\"Class Destination\\\\\": \\\\\"Countrylocalname\\\\\", \\\\\"Properties Destination\\\\\": \\\\\"Country\\\\\"}\\\\n{\\\\\"Endpoint Source\\\\\": \\\\\"MONDIAL_ECONOMY\\\\\", \\\\\"Class Source\\\\\": \\\\\"Economy\\\\\", \\\\\"Properties Source\\\\\": \\\\\"country\\\\\", \\\\\"Endpoint Destination\\\\\": \\\\\"MONDIAL_SOCIAL\\\\\", \\\\\"Class Destination\\\\\": \\\\\"Countryothername\\\\\", \\\\\"Properties Destination\\\\\": \\\\\"Country\\\\\"}\\\\n{\\\\\"Endpoint Source\\\\\": \\\\\"MONDIAL_ECONOMY\\\\\", \\\\\"Class Source\\\\\": \\\\\"Economy\\\\\", \\\\\"Properties Source\\\\\": \\\\\"country\\\\\", \\\\\"Endpoint Destination\\\\\": \\\\\"MONDIAL_SOCIAL\\\\\", \\\\\"Class Destination\\\\\": \\\\\"Countrypops\\\\\", \\\\\"Properties Destination\\\\\": \\\\\"Country\\\\\"}\\\\n{\\\\\"Endpoint Source\\\\\": \\\\\"MONDIAL_ECONOMY\\\\\", \\\\\"Class Source\\\\\": \\\\\"Economy\\\\\", \\\\\"Properties Source\\\\\": \\\\\"country\\\\\", \\\\\"Endpoint Destination\\\\\": \\\\\"MONDIAL_GEO\\\\\", \\\\\"Class Destination\\\\\": \\\\\"Country\\\\\", \\\\\"Properties Destination\\\\\": \\\\\"Code\\\\\"}\\\\n{\\\\\"Endpoint Source\\\\\": \\\\\"MONDIAL_ECONOMY\\\\\", \\\\\"Class Source\\\\\": \\\\\"Economy\\\\\", \\\\\"Properties Source\\\\\": \\\\\"country\\\\\", \\\\\"Endpoint Destination\\\\\": \\\\\"MONDIAL_GEO\\\\\", \\\\\"Class Destination\\\\\": \\\\\"encompasses\\\\\", \\\\\"Properties Destination\\\\\": \\\\\"Country\\\\\"}\\\\n{\\\\\"Endpoint Source\\\\\": \\\\\"MONDIAL_ECONOMY\\\\\", \\\\\"Class Source\\\\\": \\\\\"Economy\\\\\", \\\\\"Properties Source\\\\\": \\\\\"country\\\\\", \\\\\"Endpoint Destination\\\\\": \\\\\"MONDIAL_POLITICS\\\\\", \\\\\"Class Destination\\\\\": \\\\\"Politics\\\\\", \\\\\"Properties Destination\\\\\": \\\\\"Country\\\\\"}\\\\n{\\\\\"Endpoint Source\\\\\": \\\\\"MONDIAL_ECONOMY\\\\\", \\\\\"Class Source\\\\\": \\\\\"Economy\\\\\", \\\\\"Properties Source\\\\\": \\\\\"country\\\\\", \\\\\"Endpoint Destination\\\\\": \\\\\"MONDIAL_POLITICS\\\\\", \\\\\"Class Destination\\\\\": \\\\\"borders\\\\\", \\\\\"Properties Destination\\\\\": \\\\\"Country1\\\\\"}\\\\n{\\\\\"Endpoint Source\\\\\": \\\\\"MONDIAL_ECONOMY\\\\\", \\\\\"Class Source\\\\\": \\\\\"Economy\\\\\", \\\\\"Properties Source\\\\\": \\\\\"country\\\\\", \\\\\"Endpoint Destination\\\\\": \\\\\"MONDIAL_POLITICS\\\\\", \\\\\"Class Destination\\\\\": \\\\\"borders\\\\\", \\\\\"Properties Destination\\\\\": \\\\\"Country2\\\\\"}\\\\n{\\\\\"Endpoint Source\\\\\": \\\\\"MONDIAL_ECONOMY\\\\\", \\\\\"Class Source\\\\\": \\\\\"Economy\\\\\", \\\\\"Properties Source\\\\\": \\\\\"country\\\\\", \\\\\"Endpoint Destination\\\\\": \\\\\"MONDIAL_POLITICS\\\\\", \\\\\"Class Destination\\\\\": \\\\\"Organization\\\\\", \\\\\"Properties Destination\\\\\": \\\\\"Country\\\\\"}\\\\n{\\\\\"Endpoint Source\\\\\": \\\\\"MONDIAL_ECONOMY\\\\\", \\\\\"Class Source\\\\\": \\\\\"Economy\\\\\", \\\\\"Properties Source\\\\\": \\\\\"country\\\\\", \\\\\"Endpoint Destination\\\\\": \\\\\"MONDIAL_POLITICS\\\\\", \\\\\"Class Destination\\\\\": \\\\\"isMember\\\\\", \\\\\"Properties Destination\\\\\": \\\\\"Country\\\\\"}\\\\n{\\\\\"Endpoint Source\\\\\": \\\\\"MONDIAL_SOCIAL\\\\\", \\\\\"Class Source\\\\\": \\\\\"CountryLocalName\\\\\", \\\\\"Properties Source\\\\\": \\\\\"country\\\\\", \\\\\"Endpoint Destination\\\\\": \\\\\"MONDIAL_ECONOMY\\\\\", \\\\\"Class Destination\\\\\": \\\\\"Economy\\\\\", \\\\\"Properties Destination\\\\\": \\\\\"Country\\\\\"}\\\\n{\\\\\"Endpoint Source\\\\\": \\\\\"MONDIAL_SOCIAL\\\\\", \\\\\"Class Source\\\\\": \\\\\"Religion\\\\\", \\\\\"Properties Source\\\\\": \\\\\"Country\\\\\", \\\\\"Endpoint Destination\\\\\": \\\\\"MONDIAL_GEO\\\\\", \\\\\"Class Destination\\\\\": \\\\\"Country\\\\\", \\\\\"Properties Destination\\\\\": \\\\\"Code\\\\\"}\\\\n{\\\\\"Endpoint Source\\\\\": \\\\\"MONDIAL_SOCIAL\\\\\", \\\\\"Class Source\\\\\": \\\\\"Religion\\\\\", \\\\\"Properties Source\\\\\": \\\\\"Country\\\\\", \\\\\"Endpoint Destination\\\\\": \\\\\"MONDIAL_POLITICS\\\\\", \\\\\"Class Destination\\\\\": \\\\\"Politics\\\\\", \\\\\"Properties Destination\\\\\": \\\\\"Country\\\\\"}\\\\n{\\\\\"Endpoint Source\\\\\": \\\\\"MONDIAL_SOCIAL\\\\\", \\\\\"Class Source\\\\\": \\\\\"Religion\\\\\", \\\\\"Properties Source\\\\\": \\\\\"Country\\\\\", \\\\\"Endpoint Destination\\\\\": \\\\\"MONDIAL_ECONOMY\\\\\", \\\\\"Class Destination\\\\\": \\\\\"Economy\\\\\", \\\\\"Properties Destination\\\\\": \\\\\"Country\\\\\"}\\\\n{\\\\\"Endpoint Source\\\\\": \\\\\"MONDIAL_SOCIAL\\\\\", \\\\\"Class Source\\\\\": \\\\\"Religion\\\\\", \\\\\"Properties Source\\\\\": \\\\\"Country\\\\\", \\\\\"Endpoint Destination\\\\\": \\\\\"MONDIAL_ECONOMY\\\\\", \\\\\"Class Destination\\\\\": \\\\\"Population\\\\\", \\\\\"Properties Destination\\\\\": \\\\\"Country\\\\\"}\\\\n{\\\\\"Endpoint Source\\\\\": \\\\\"MONDIAL_POLITICS\\\\\", \\\\\"Class Source\\\\\": \\\\\"borders\\\\\", \\\\\"Properties Source\\\\\": \\\\\"Country1\\\\\", \\\\\"Endpoint Destination\\\\\": \\\\\"MONDIAL_SOCIAL\\\\\", \\\\\"Class Destination\\\\\": \\\\\"Religion\\\\\", \\\\\"Properties Destination\\\\\": \\\\\"Country\\\\\"}\\\\n{\\\\\"Endpoint Source\\\\\": \\\\\"MONDIAL_POLITICS\\\\\", \\\\\"Class Source\\\\\": \\\\\"borders\\\\\", \\\\\"Properties Source\\\\\": \\\\\"Country1\\\\\", \\\\\"Endpoint Destination\\\\\": \\\\\"MONDIAL_GEO\\\\\", \\\\\"Class Destination\\\\\": \\\\\"encompasses\\\\\", \\\\\"Properties Destination\\\\\": \\\\\"Country\\\\\"}\\\\n{\\\\\"Endpoint Source\\\\\": \\\\\"MONDIAL_POLITICS\\\\\", \\\\\"Class Source\\\\\": \\\\\"borders\\\\\", \\\\\"Properties Source\\\\\": \\\\\"Country2\\\\\", \\\\\"Endpoint Destination\\\\\": \\\\\"MONDIAL_SOCIAL\\\\\", \\\\\"Class Destination\\\\\": \\\\\"Religion\\\\\", \\\\\"Properties Destination\\\\\": \\\\\"Country\\\\\"}\\\\n{\\\\\"Endpoint Source\\\\\": \\\\\"MONDIAL_POLITICS\\\\\", \\\\\"Class Source\\\\\": \\\\\"borders\\\\\", \\\\\"Properties Source\\\\\": \\\\\"Country2\\\\\", \\\\\"Endpoint Destination\\\\\": \\\\\"MONDIAL_GEO\\\\\", \\\\\"Class Destination\\\\\": \\\\\"encompasses\\\\\", \\\\\"Properties Destination\\\\\": \\\\\"Country\\\\\"}\\\\n{\\\\\"Endpoint Source\\\\\": \\\\\"MONDIAL_GEO\\\\\", \\\\\"Class Source\\\\\": \\\\\"encompasses\\\\\", \\\\\"Properties Source\\\\\": \\\\\"Country\\\\\", \\\\\"Endpoint Destination\\\\\": \\\\\"MONDIAL_SOCIAL\\\\\", \\\\\"Class Destination\\\\\": \\\\\"Religion\\\\\", \\\\\"Properties Destination\\\\\": \\\\\"Country\\\\\"}\\\\n{\\\\\"Endpoint Source\\\\\": \\\\\"MONDIAL_GEO\\\\\", \\\\\"Class Source\\\\\": \\\\\"encompasses\\\\\", \\\\\"Properties Source\\\\\": \\\\\"Country\\\\\", \\\\\"Endpoint Destination\\\\\": \\\\\"MONDIAL_SOCIAL\\\\\", \\\\\"Class Destination\\\\\": \\\\\"EthnicGroup\\\\\", \\\\\"Properties Destination\\\\\": \\\\\"Country\\\\\"}\\\\n{\\\\\"Endpoint Source\\\\\": \\\\\"MONDIAL_GEO\\\\\", \\\\\"Class Source\\\\\": \\\\\"encompasses\\\\\", \\\\\"Properties Source\\\\\": \\\\\"Country\\\\\", \\\\\"Endpoint Destination\\\\\": \\\\\"MONDIAL_SOCIAL\\\\\", \\\\\"Class Destination\\\\\": \\\\\"Language\\\\\", \\\\\"Properties Destination\\\\\": \\\\\"Country\\\\\"}\\\\n{\\\\\"Endpoint Source\\\\\": \\\\\"MONDIAL_GEO\\\\\", \\\\\"Class Source\\\\\": \\\\\"encompasses\\\\\", \\\\\"Properties Source\\\\\": \\\\\"Country\\\\\", \\\\\"Endpoint Destination\\\\\": \\\\\"MONDIAL_SOCIAL\\\\\", \\\\\"Class Destination\\\\\": \\\\\"Countrypops\\\\\", \\\\\"Properties Destination\\\\\": \\\\\"Country\\\\\"}\\\\n{\\\\\"Endpoint Source\\\\\": \\\\\"MONDIAL_GEO\\\\\", \\\\\"Class Source\\\\\": \\\\\"encompasses\\\\\", \\\\\"Properties Source\\\\\": \\\\\"Country\\\\\", \\\\\"Endpoint Destination\\\\\": \\\\\"MONDIAL_POLITICS\\\\\", \\\\\"Class Destination\\\\\": \\\\\"Politics\\\\\", \\\\\"Properties Destination\\\\\": \\\\\"Country\\\\\"}\\\\n{\\\\\"Endpoint Source\\\\\": \\\\\"MONDIAL_GEO\\\\\", \\\\\"Class Source\\\\\": \\\\\"encompasses\\\\\", \\\\\"Properties Source\\\\\": \\\\\"Country\\\\\", \\\\\"Endpoint Destination\\\\\": \\\\\"MONDIAL_ECONOMY\\\\\", \\\\\"Class Destination\\\\\": \\\\\"Economy\\\\\", \\\\\"Properties Destination\\\\\": \\\\\"Country\\\\\"}\\\\n{\\\\\"Endpoint Source\\\\\": \\\\\"MONDIAL_GEO\\\\\", \\\\\"Class Source\\\\\": \\\\\"encompasses\\\\\", \\\\\"Properties Source\\\\\": \\\\\"Country\\\\\", \\\\\"Endpoint Destination\\\\\": \\\\\"MONDIAL_ECONOMY\\\\\", \\\\\"Class Destination\\\\\": \\\\\"Population\\\\\", \\\\\"Properties Destination\\\\\": \\\\\"Country\\\\\"}\\\\n{\\\\\"Endpoint Source\\\\\": \\\\\"MONDIAL_POLITICS\\\\\", \\\\\"Class Source\\\\\": \\\\\"isMember\\\\\", \\\\\"Properties Source\\\\\": \\\\\"Country\\\\\", \\\\\"Endpoint Destination\\\\\": \\\\\"MONDIAL_SOCIAL\\\\\", \\\\\"Class Destination\\\\\": \\\\\"Religion\\\\\", \\\\\"Properties Destination\\\\\": \\\\\"Country\\\\\"}\\\\n{\\\\\"Endpoint Source\\\\\": \\\\\"MONDIAL_POLITICS\\\\\", \\\\\"Class Source\\\\\": \\\\\"isMember\\\\\", \\\\\"Properties Source\\\\\": \\\\\"Country\\\\\", \\\\\"Endpoint Destination\\\\\": \\\\\"MONDIAL_ECONOMY\\\\\", \\\\\"Class Destination\\\\\": \\\\\"Economy\\\\\", \\\\\"Properties Destination\\\\\": \\\\\"Country\\\\\"}\\\\n{\\\\\"Endpoint Source\\\\\": \\\\\"MONDIAL_GEO\\\\\", \\\\\"Class Source\\\\\": \\\\\"geo_Mountain\\\\\", \\\\\"Properties Source\\\\\": \\\\\"Country\\\\\", \\\\\"Endpoint Destination\\\\\": \\\\\"MONDIAL_SOCIAL\\\\\", \\\\\"Class Destination\\\\\": \\\\\"Religion\\\\\", \\\\\"Properties Destination\\\\\": \\\\\"Country\\\\\"}\\\\n{\\\\\"Endpoint Source\\\\\": \\\\\"MONDIAL_GEO\\\\\", \\\\\"Class Source\\\\\": \\\\\"geo_Mountain\\\\\", \\\\\"Properties Source\\\\\": \\\\\"Country\\\\\", \\\\\"Endpoint Destination\\\\\": \\\\\"MONDIAL_ECONOMY\\\\\", \\\\\"Class Destination\\\\\": \\\\\"Economy\\\\\", \\\\\"Properties Destination\\\\\": \\\\\"Country\\\\\"}\"}', 'name': 'get_subqueries'}, 'type': 'function'}], 'refusal': None}, response_metadata={'token_usage': {'completion_tokens': 1870, 'prompt_tokens': 6719, 'total_tokens': 8589, 'completion_tokens_details': {'accepted_prediction_tokens': 0, 'audio_tokens': 0, 'reasoning_tokens': 0, 'rejected_prediction_tokens': 0}, 'prompt_tokens_details': {'audio_tokens': 0, 'cached_tokens': 2560}}, 'model_name': 'gpt-4o-2024-08-06', 'system_fingerprint': 'fp_5f20662549', 'finish_reason': 'tool_calls', 'logprobs': None}, id='run-c05a135e-7f74-46e1-b6b9-4b9f8871f2d9-0', tool_calls=[{'name': 'get_subqueries', 'args': {'query': 'Retrieve the GDP and religion of countries in South America?', 'relationships': '{\"Endpoint Source\": \"MONDIAL_ECONOMY\", \"Class Source\": \"Economy\", \"Properties Source\": \"country\", \"Endpoint Destination\": \"MONDIAL_SOCIAL\", \"Class Destination\": \"Religion\", \"Properties Destination\": \"Country\"}\\n{\"Endpoint Source\": \"MONDIAL_ECONOMY\", \"Class Source\": \"Economy\", \"Properties Source\": \"country\", \"Endpoint Destination\": \"MONDIAL_SOCIAL\", \"Class Destination\": \"EthnicGroup\", \"Properties Destination\": \"Country\"}\\n{\"Endpoint Source\": \"MONDIAL_ECONOMY\", \"Class Source\": \"Economy\", \"Properties Source\": \"country\", \"Endpoint Destination\": \"MONDIAL_SOCIAL\", \"Class Destination\": \"Language\", \"Properties Destination\": \"Country\"}\\n{\"Endpoint Source\": \"MONDIAL_ECONOMY\", \"Class Source\": \"Economy\", \"Properties Source\": \"country\", \"Endpoint Destination\": \"MONDIAL_SOCIAL\", \"Class Destination\": \"Countrylocalname\", \"Properties Destination\": \"Country\"}\\n{\"Endpoint Source\": \"MONDIAL_ECONOMY\", \"Class Source\": \"Economy\", \"Properties Source\": \"country\", \"Endpoint Destination\": \"MONDIAL_SOCIAL\", \"Class Destination\": \"Countryothername\", \"Properties Destination\": \"Country\"}\\n{\"Endpoint Source\": \"MONDIAL_ECONOMY\", \"Class Source\": \"Economy\", \"Properties Source\": \"country\", \"Endpoint Destination\": \"MONDIAL_SOCIAL\", \"Class Destination\": \"Countrypops\", \"Properties Destination\": \"Country\"}\\n{\"Endpoint Source\": \"MONDIAL_ECONOMY\", \"Class Source\": \"Economy\", \"Properties Source\": \"country\", \"Endpoint Destination\": \"MONDIAL_GEO\", \"Class Destination\": \"Country\", \"Properties Destination\": \"Code\"}\\n{\"Endpoint Source\": \"MONDIAL_ECONOMY\", \"Class Source\": \"Economy\", \"Properties Source\": \"country\", \"Endpoint Destination\": \"MONDIAL_GEO\", \"Class Destination\": \"encompasses\", \"Properties Destination\": \"Country\"}\\n{\"Endpoint Source\": \"MONDIAL_ECONOMY\", \"Class Source\": \"Economy\", \"Properties Source\": \"country\", \"Endpoint Destination\": \"MONDIAL_POLITICS\", \"Class Destination\": \"Politics\", \"Properties Destination\": \"Country\"}\\n{\"Endpoint Source\": \"MONDIAL_ECONOMY\", \"Class Source\": \"Economy\", \"Properties Source\": \"country\", \"Endpoint Destination\": \"MONDIAL_POLITICS\", \"Class Destination\": \"borders\", \"Properties Destination\": \"Country1\"}\\n{\"Endpoint Source\": \"MONDIAL_ECONOMY\", \"Class Source\": \"Economy\", \"Properties Source\": \"country\", \"Endpoint Destination\": \"MONDIAL_POLITICS\", \"Class Destination\": \"borders\", \"Properties Destination\": \"Country2\"}\\n{\"Endpoint Source\": \"MONDIAL_ECONOMY\", \"Class Source\": \"Economy\", \"Properties Source\": \"country\", \"Endpoint Destination\": \"MONDIAL_POLITICS\", \"Class Destination\": \"Organization\", \"Properties Destination\": \"Country\"}\\n{\"Endpoint Source\": \"MONDIAL_ECONOMY\", \"Class Source\": \"Economy\", \"Properties Source\": \"country\", \"Endpoint Destination\": \"MONDIAL_POLITICS\", \"Class Destination\": \"isMember\", \"Properties Destination\": \"Country\"}\\n{\"Endpoint Source\": \"MONDIAL_SOCIAL\", \"Class Source\": \"CountryLocalName\", \"Properties Source\": \"country\", \"Endpoint Destination\": \"MONDIAL_ECONOMY\", \"Class Destination\": \"Economy\", \"Properties Destination\": \"Country\"}\\n{\"Endpoint Source\": \"MONDIAL_SOCIAL\", \"Class Source\": \"Religion\", \"Properties Source\": \"Country\", \"Endpoint Destination\": \"MONDIAL_GEO\", \"Class Destination\": \"Country\", \"Properties Destination\": \"Code\"}\\n{\"Endpoint Source\": \"MONDIAL_SOCIAL\", \"Class Source\": \"Religion\", \"Properties Source\": \"Country\", \"Endpoint Destination\": \"MONDIAL_POLITICS\", \"Class Destination\": \"Politics\", \"Properties Destination\": \"Country\"}\\n{\"Endpoint Source\": \"MONDIAL_SOCIAL\", \"Class Source\": \"Religion\", \"Properties Source\": \"Country\", \"Endpoint Destination\": \"MONDIAL_ECONOMY\", \"Class Destination\": \"Economy\", \"Properties Destination\": \"Country\"}\\n{\"Endpoint Source\": \"MONDIAL_SOCIAL\", \"Class Source\": \"Religion\", \"Properties Source\": \"Country\", \"Endpoint Destination\": \"MONDIAL_ECONOMY\", \"Class Destination\": \"Population\", \"Properties Destination\": \"Country\"}\\n{\"Endpoint Source\": \"MONDIAL_POLITICS\", \"Class Source\": \"borders\", \"Properties Source\": \"Country1\", \"Endpoint Destination\": \"MONDIAL_SOCIAL\", \"Class Destination\": \"Religion\", \"Properties Destination\": \"Country\"}\\n{\"Endpoint Source\": \"MONDIAL_POLITICS\", \"Class Source\": \"borders\", \"Properties Source\": \"Country1\", \"Endpoint Destination\": \"MONDIAL_GEO\", \"Class Destination\": \"encompasses\", \"Properties Destination\": \"Country\"}\\n{\"Endpoint Source\": \"MONDIAL_POLITICS\", \"Class Source\": \"borders\", \"Properties Source\": \"Country2\", \"Endpoint Destination\": \"MONDIAL_SOCIAL\", \"Class Destination\": \"Religion\", \"Properties Destination\": \"Country\"}\\n{\"Endpoint Source\": \"MONDIAL_POLITICS\", \"Class Source\": \"borders\", \"Properties Source\": \"Country2\", \"Endpoint Destination\": \"MONDIAL_GEO\", \"Class Destination\": \"encompasses\", \"Properties Destination\": \"Country\"}\\n{\"Endpoint Source\": \"MONDIAL_GEO\", \"Class Source\": \"encompasses\", \"Properties Source\": \"Country\", \"Endpoint Destination\": \"MONDIAL_SOCIAL\", \"Class Destination\": \"Religion\", \"Properties Destination\": \"Country\"}\\n{\"Endpoint Source\": \"MONDIAL_GEO\", \"Class Source\": \"encompasses\", \"Properties Source\": \"Country\", \"Endpoint Destination\": \"MONDIAL_SOCIAL\", \"Class Destination\": \"EthnicGroup\", \"Properties Destination\": \"Country\"}\\n{\"Endpoint Source\": \"MONDIAL_GEO\", \"Class Source\": \"encompasses\", \"Properties Source\": \"Country\", \"Endpoint Destination\": \"MONDIAL_SOCIAL\", \"Class Destination\": \"Language\", \"Properties Destination\": \"Country\"}\\n{\"Endpoint Source\": \"MONDIAL_GEO\", \"Class Source\": \"encompasses\", \"Properties Source\": \"Country\", \"Endpoint Destination\": \"MONDIAL_SOCIAL\", \"Class Destination\": \"Countrypops\", \"Properties Destination\": \"Country\"}\\n{\"Endpoint Source\": \"MONDIAL_GEO\", \"Class Source\": \"encompasses\", \"Properties Source\": \"Country\", \"Endpoint Destination\": \"MONDIAL_POLITICS\", \"Class Destination\": \"Politics\", \"Properties Destination\": \"Country\"}\\n{\"Endpoint Source\": \"MONDIAL_GEO\", \"Class Source\": \"encompasses\", \"Properties Source\": \"Country\", \"Endpoint Destination\": \"MONDIAL_ECONOMY\", \"Class Destination\": \"Economy\", \"Properties Destination\": \"Country\"}\\n{\"Endpoint Source\": \"MONDIAL_GEO\", \"Class Source\": \"encompasses\", \"Properties Source\": \"Country\", \"Endpoint Destination\": \"MONDIAL_ECONOMY\", \"Class Destination\": \"Population\", \"Properties Destination\": \"Country\"}\\n{\"Endpoint Source\": \"MONDIAL_POLITICS\", \"Class Source\": \"isMember\", \"Properties Source\": \"Country\", \"Endpoint Destination\": \"MONDIAL_SOCIAL\", \"Class Destination\": \"Religion\", \"Properties Destination\": \"Country\"}\\n{\"Endpoint Source\": \"MONDIAL_POLITICS\", \"Class Source\": \"isMember\", \"Properties Source\": \"Country\", \"Endpoint Destination\": \"MONDIAL_ECONOMY\", \"Class Destination\": \"Economy\", \"Properties Destination\": \"Country\"}\\n{\"Endpoint Source\": \"MONDIAL_GEO\", \"Class Source\": \"geo_Mountain\", \"Properties Source\": \"Country\", \"Endpoint Destination\": \"MONDIAL_SOCIAL\", \"Class Destination\": \"Religion\", \"Properties Destination\": \"Country\"}\\n{\"Endpoint Source\": \"MONDIAL_GEO\", \"Class Source\": \"geo_Mountain\", \"Properties Source\": \"Country\", \"Endpoint Destination\": \"MONDIAL_ECONOMY\", \"Class Destination\": \"Economy\", \"Properties Destination\": \"Country\"}'}, 'id': 'call_piUL1kTdW3rlYLwqjhi2bQNY', 'type': 'tool_call'}], usage_metadata={'input_tokens': 6719, 'output_tokens': 1870, 'total_tokens': 8589, 'input_token_details': {'audio': 0, 'cache_read': 2560}, 'output_token_details': {'audio': 0, 'reasoning': 0}}),\n  ToolMessage(content='```json\\n{\\n  \"subqueries\": [\\n    {\\n      \"schema\": \"MONDIAL_GEO\",\\n      \"tables\": [\"encompasses\", \"Country\"],\\n      \"columns\": [\"Country.Code\"],\\n      \"conditions\": [\"encompasses.Continent = \\'South America\\'\", \"encompasses.Country = Country.Code\"],\\n      \"sql\": \"SELECT Country.Code FROM encompasses JOIN Country ON encompasses.Country = Country.Code WHERE encompasses.Continent = \\'South America\\'\"\\n    },\\n    {\\n      \"schema\": \"MONDIAL_ECONOMY\",\\n      \"tables\": [\"Economy\"],\\n      \"columns\": [\"Economy.GDP\", \"Economy.Country\"],\\n      \"conditions\": [\"Economy.Country IN (SELECT Country.Code FROM encompasses JOIN Country ON encompasses.Country = Country.Code WHERE encompasses.Continent = \\'South America\\')\"],\\n      \"sql\": \"SELECT Economy.GDP, Economy.Country FROM Economy WHERE Economy.Country IN (SELECT Country.Code FROM encompasses JOIN Country ON encompasses.Country = Country.Code WHERE encompasses.Continent = \\'South America\\')\"\\n    },\\n    {\\n      \"schema\": \"MONDIAL_SOCIAL\",\\n      \"tables\": [\"Religion\"],\\n      \"columns\": [\"Religion.Name\", \"Religion.Percentage\", \"Religion.Country\"],\\n      \"conditions\": [\"Religion.Country IN (SELECT Country.Code FROM encompasses JOIN Country ON encompasses.Country = Country.Code WHERE encompasses.Continent = \\'South America\\')\"],\\n      \"sql\": \"SELECT Religion.Name, Religion.Percentage, Religion.Country FROM Religion WHERE Religion.Country IN (SELECT Country.Code FROM encompasses JOIN Country ON encompasses.Country = Country.Code WHERE encompasses.Continent = \\'South America\\')\"\\n    }\\n  ]\\n}\\n```', name='get_subqueries', id='1c397e18-9af4-4a3b-9f15-0901907a0e4a', tool_call_id='call_piUL1kTdW3rlYLwqjhi2bQNY'),\n  AIMessage(content=\"To retrieve the GDP and religion of countries in South America, the following subqueries can be used:\\n\\n1. **Retrieve Country Codes for South America:**\\n   ```sql\\n   SELECT Country.Code \\n   FROM encompasses \\n   JOIN Country ON encompasses.Country = Country.Code \\n   WHERE encompasses.Continent = 'South America'\\n   ```\\n\\n2. **Retrieve GDP for South American Countries:**\\n   ```sql\\n   SELECT Economy.GDP, Economy.Country \\n   FROM Economy \\n   WHERE Economy.Country IN (\\n       SELECT Country.Code \\n       FROM encompasses \\n       JOIN Country ON encompasses.Country = Country.Code \\n       WHERE encompasses.Continent = 'South America'\\n   )\\n   ```\\n\\n3. **Retrieve Religion for South American Countries:**\\n   ```sql\\n   SELECT Religion.Name, Religion.Percentage, Religion.Country \\n   FROM Religion \\n   WHERE Religion.Country IN (\\n       SELECT Country.Code \\n       FROM encompasses \\n       JOIN Country ON encompasses.Country = Country.Code \\n       WHERE encompasses.Continent = 'South America'\\n   )\\n   ```\\n\\nThese queries will provide the GDP and religious composition of countries located in South America.\", additional_kwargs={'refusal': None}, response_metadata={'token_usage': {'completion_tokens': 227, 'prompt_tokens': 7495, 'total_tokens': 7722, 'completion_tokens_details': {'accepted_prediction_tokens': 0, 'audio_tokens': 0, 'reasoning_tokens': 0, 'rejected_prediction_tokens': 0}, 'prompt_tokens_details': {'audio_tokens': 0, 'cached_tokens': 0}}, 'model_name': 'gpt-4o-2024-08-06', 'system_fingerprint': 'fp_5f20662549', 'finish_reason': 'stop', 'logprobs': None}, id='run-7cc770ef-ebb2-40eb-bf77-871b7beaa72e-0', usage_metadata={'input_tokens': 7495, 'output_tokens': 227, 'total_tokens': 7722, 'input_token_details': {'audio': 0, 'cache_read': 0}, 'output_token_details': {'audio': 0, 'reasoning': 0}})]}"
     },
     "execution_count": 67,
     "metadata": {},
     "output_type": "execute_result"
    }
   ],
   "source": [
    "result"
   ],
   "metadata": {
    "collapsed": false,
    "ExecuteTime": {
     "end_time": "2024-12-28T17:25:05.477561Z",
     "start_time": "2024-12-28T17:25:05.466997Z"
    }
   },
   "id": "9a731d831cc970f8",
   "execution_count": 67
  },
  {
   "cell_type": "code",
   "outputs": [
    {
     "name": "stdout",
     "output_type": "stream",
     "text": [
      "Retrieve the GDP and religion of countries in South America?\n",
      "--------------------------------------------------\n",
      "\n",
      "--------------------------------------------------\n",
      "[\"Economy\", \"Religion\", \"encompasses\"]\n",
      "--------------------------------------------------\n",
      "\n",
      "--------------------------------------------------\n",
      "{\"Endpoint Source\": \"MONDIAL_ECONOMY\", \"Class Source\": \"Economy\", \"Properties Source\": \"country\", \"Endpoint Destination\": \"MONDIAL_SOCIAL\", \"Class Destination\": \"Religion\", \"Properties Destination\": \"Country\"}\n",
      "{\"Endpoint Source\": \"MONDIAL_ECONOMY\", \"Class Source\": \"Economy\", \"Properties Source\": \"country\", \"Endpoint Destination\": \"MONDIAL_SOCIAL\", \"Class Destination\": \"EthnicGroup\", \"Properties Destination\": \"Country\"}\n",
      "{\"Endpoint Source\": \"MONDIAL_ECONOMY\", \"Class Source\": \"Economy\", \"Properties Source\": \"country\", \"Endpoint Destination\": \"MONDIAL_SOCIAL\", \"Class Destination\": \"Language\", \"Properties Destination\": \"Country\"}\n",
      "{\"Endpoint Source\": \"MONDIAL_ECONOMY\", \"Class Source\": \"Economy\", \"Properties Source\": \"country\", \"Endpoint Destination\": \"MONDIAL_SOCIAL\", \"Class Destination\": \"Countrylocalname\", \"Properties Destination\": \"Country\"}\n",
      "{\"Endpoint Source\": \"MONDIAL_ECONOMY\", \"Class Source\": \"Economy\", \"Properties Source\": \"country\", \"Endpoint Destination\": \"MONDIAL_SOCIAL\", \"Class Destination\": \"Countryothername\", \"Properties Destination\": \"Country\"}\n",
      "{\"Endpoint Source\": \"MONDIAL_ECONOMY\", \"Class Source\": \"Economy\", \"Properties Source\": \"country\", \"Endpoint Destination\": \"MONDIAL_SOCIAL\", \"Class Destination\": \"Countrypops\", \"Properties Destination\": \"Country\"}\n",
      "{\"Endpoint Source\": \"MONDIAL_ECONOMY\", \"Class Source\": \"Economy\", \"Properties Source\": \"country\", \"Endpoint Destination\": \"MONDIAL_GEO\", \"Class Destination\": \"Country\", \"Properties Destination\": \"Code\"}\n",
      "{\"Endpoint Source\": \"MONDIAL_ECONOMY\", \"Class Source\": \"Economy\", \"Properties Source\": \"country\", \"Endpoint Destination\": \"MONDIAL_GEO\", \"Class Destination\": \"encompasses\", \"Properties Destination\": \"Country\"}\n",
      "{\"Endpoint Source\": \"MONDIAL_ECONOMY\", \"Class Source\": \"Economy\", \"Properties Source\": \"country\", \"Endpoint Destination\": \"MONDIAL_POLITICS\", \"Class Destination\": \"Politics\", \"Properties Destination\": \"Country\"}\n",
      "{\"Endpoint Source\": \"MONDIAL_ECONOMY\", \"Class Source\": \"Economy\", \"Properties Source\": \"country\", \"Endpoint Destination\": \"MONDIAL_POLITICS\", \"Class Destination\": \"borders\", \"Properties Destination\": \"Country1\"}\n",
      "{\"Endpoint Source\": \"MONDIAL_ECONOMY\", \"Class Source\": \"Economy\", \"Properties Source\": \"country\", \"Endpoint Destination\": \"MONDIAL_POLITICS\", \"Class Destination\": \"borders\", \"Properties Destination\": \"Country2\"}\n",
      "{\"Endpoint Source\": \"MONDIAL_ECONOMY\", \"Class Source\": \"Economy\", \"Properties Source\": \"country\", \"Endpoint Destination\": \"MONDIAL_POLITICS\", \"Class Destination\": \"Organization\", \"Properties Destination\": \"Country\"}\n",
      "{\"Endpoint Source\": \"MONDIAL_ECONOMY\", \"Class Source\": \"Economy\", \"Properties Source\": \"country\", \"Endpoint Destination\": \"MONDIAL_POLITICS\", \"Class Destination\": \"isMember\", \"Properties Destination\": \"Country\"}\n",
      "{\"Endpoint Source\": \"MONDIAL_SOCIAL\", \"Class Source\": \"CountryLocalName\", \"Properties Source\": \"country\", \"Endpoint Destination\": \"MONDIAL_ECONOMY\", \"Class Destination\": \"Economy\", \"Properties Destination\": \"Country\"}\n",
      "{\"Endpoint Source\": \"MONDIAL_SOCIAL\", \"Class Source\": \"Religion\", \"Properties Source\": \"Country\", \"Endpoint Destination\": \"MONDIAL_GEO\", \"Class Destination\": \"Country\", \"Properties Destination\": \"Code\"}\n",
      "{\"Endpoint Source\": \"MONDIAL_SOCIAL\", \"Class Source\": \"Religion\", \"Properties Source\": \"Country\", \"Endpoint Destination\": \"MONDIAL_POLITICS\", \"Class Destination\": \"Politics\", \"Properties Destination\": \"Country\"}\n",
      "{\"Endpoint Source\": \"MONDIAL_SOCIAL\", \"Class Source\": \"Religion\", \"Properties Source\": \"Country\", \"Endpoint Destination\": \"MONDIAL_ECONOMY\", \"Class Destination\": \"Economy\", \"Properties Destination\": \"Country\"}\n",
      "{\"Endpoint Source\": \"MONDIAL_SOCIAL\", \"Class Source\": \"Religion\", \"Properties Source\": \"Country\", \"Endpoint Destination\": \"MONDIAL_ECONOMY\", \"Class Destination\": \"Population\", \"Properties Destination\": \"Country\"}\n",
      "{\"Endpoint Source\": \"MONDIAL_POLITICS\", \"Class Source\": \"borders\", \"Properties Source\": \"Country1\", \"Endpoint Destination\": \"MONDIAL_SOCIAL\", \"Class Destination\": \"Religion\", \"Properties Destination\": \"Country\"}\n",
      "{\"Endpoint Source\": \"MONDIAL_POLITICS\", \"Class Source\": \"borders\", \"Properties Source\": \"Country1\", \"Endpoint Destination\": \"MONDIAL_GEO\", \"Class Destination\": \"encompasses\", \"Properties Destination\": \"Country\"}\n",
      "{\"Endpoint Source\": \"MONDIAL_POLITICS\", \"Class Source\": \"borders\", \"Properties Source\": \"Country2\", \"Endpoint Destination\": \"MONDIAL_SOCIAL\", \"Class Destination\": \"Religion\", \"Properties Destination\": \"Country\"}\n",
      "{\"Endpoint Source\": \"MONDIAL_POLITICS\", \"Class Source\": \"borders\", \"Properties Source\": \"Country2\", \"Endpoint Destination\": \"MONDIAL_GEO\", \"Class Destination\": \"encompasses\", \"Properties Destination\": \"Country\"}\n",
      "{\"Endpoint Source\": \"MONDIAL_GEO\", \"Class Source\": \"encompasses\", \"Properties Source\": \"Country\", \"Endpoint Destination\": \"MONDIAL_SOCIAL\", \"Class Destination\": \"Religion\", \"Properties Destination\": \"Country\"}\n",
      "{\"Endpoint Source\": \"MONDIAL_GEO\", \"Class Source\": \"encompasses\", \"Properties Source\": \"Country\", \"Endpoint Destination\": \"MONDIAL_SOCIAL\", \"Class Destination\": \"EthnicGroup\", \"Properties Destination\": \"Country\"}\n",
      "{\"Endpoint Source\": \"MONDIAL_GEO\", \"Class Source\": \"encompasses\", \"Properties Source\": \"Country\", \"Endpoint Destination\": \"MONDIAL_SOCIAL\", \"Class Destination\": \"Language\", \"Properties Destination\": \"Country\"}\n",
      "{\"Endpoint Source\": \"MONDIAL_GEO\", \"Class Source\": \"encompasses\", \"Properties Source\": \"Country\", \"Endpoint Destination\": \"MONDIAL_SOCIAL\", \"Class Destination\": \"Countrypops\", \"Properties Destination\": \"Country\"}\n",
      "{\"Endpoint Source\": \"MONDIAL_GEO\", \"Class Source\": \"encompasses\", \"Properties Source\": \"Country\", \"Endpoint Destination\": \"MONDIAL_POLITICS\", \"Class Destination\": \"Politics\", \"Properties Destination\": \"Country\"}\n",
      "{\"Endpoint Source\": \"MONDIAL_GEO\", \"Class Source\": \"encompasses\", \"Properties Source\": \"Country\", \"Endpoint Destination\": \"MONDIAL_ECONOMY\", \"Class Destination\": \"Economy\", \"Properties Destination\": \"Country\"}\n",
      "{\"Endpoint Source\": \"MONDIAL_GEO\", \"Class Source\": \"encompasses\", \"Properties Source\": \"Country\", \"Endpoint Destination\": \"MONDIAL_ECONOMY\", \"Class Destination\": \"Population\", \"Properties Destination\": \"Country\"}\n",
      "{\"Endpoint Source\": \"MONDIAL_POLITICS\", \"Class Source\": \"isMember\", \"Properties Source\": \"Country\", \"Endpoint Destination\": \"MONDIAL_SOCIAL\", \"Class Destination\": \"Religion\", \"Properties Destination\": \"Country\"}\n",
      "{\"Endpoint Source\": \"MONDIAL_POLITICS\", \"Class Source\": \"isMember\", \"Properties Source\": \"Country\", \"Endpoint Destination\": \"MONDIAL_ECONOMY\", \"Class Destination\": \"Economy\", \"Properties Destination\": \"Country\"}\n",
      "{\"Endpoint Source\": \"MONDIAL_GEO\", \"Class Source\": \"geo_Mountain\", \"Properties Source\": \"Country\", \"Endpoint Destination\": \"MONDIAL_SOCIAL\", \"Class Destination\": \"Religion\", \"Properties Destination\": \"Country\"}\n",
      "{\"Endpoint Source\": \"MONDIAL_GEO\", \"Class Source\": \"geo_Mountain\", \"Properties Source\": \"Country\", \"Endpoint Destination\": \"MONDIAL_ECONOMY\", \"Class Destination\": \"Economy\", \"Properties Destination\": \"Country\"}\n",
      "\n",
      "--------------------------------------------------\n",
      "\n",
      "--------------------------------------------------\n",
      "```json\n",
      "{\n",
      "  \"subqueries\": [\n",
      "    {\n",
      "      \"schema\": \"MONDIAL_GEO\",\n",
      "      \"tables\": [\"encompasses\", \"Country\"],\n",
      "      \"columns\": [\"Country.Code\"],\n",
      "      \"conditions\": [\"encompasses.Continent = 'South America'\", \"encompasses.Country = Country.Code\"],\n",
      "      \"sql\": \"SELECT Country.Code FROM encompasses JOIN Country ON encompasses.Country = Country.Code WHERE encompasses.Continent = 'South America'\"\n",
      "    },\n",
      "    {\n",
      "      \"schema\": \"MONDIAL_ECONOMY\",\n",
      "      \"tables\": [\"Economy\"],\n",
      "      \"columns\": [\"Economy.GDP\", \"Economy.Country\"],\n",
      "      \"conditions\": [\"Economy.Country IN (SELECT Country.Code FROM encompasses JOIN Country ON encompasses.Country = Country.Code WHERE encompasses.Continent = 'South America')\"],\n",
      "      \"sql\": \"SELECT Economy.GDP, Economy.Country FROM Economy WHERE Economy.Country IN (SELECT Country.Code FROM encompasses JOIN Country ON encompasses.Country = Country.Code WHERE encompasses.Continent = 'South America')\"\n",
      "    },\n",
      "    {\n",
      "      \"schema\": \"MONDIAL_SOCIAL\",\n",
      "      \"tables\": [\"Religion\"],\n",
      "      \"columns\": [\"Religion.Name\", \"Religion.Percentage\", \"Religion.Country\"],\n",
      "      \"conditions\": [\"Religion.Country IN (SELECT Country.Code FROM encompasses JOIN Country ON encompasses.Country = Country.Code WHERE encompasses.Continent = 'South America')\"],\n",
      "      \"sql\": \"SELECT Religion.Name, Religion.Percentage, Religion.Country FROM Religion WHERE Religion.Country IN (SELECT Country.Code FROM encompasses JOIN Country ON encompasses.Country = Country.Code WHERE encompasses.Continent = 'South America')\"\n",
      "    }\n",
      "  ]\n",
      "}\n",
      "```\n",
      "--------------------------------------------------\n",
      "To retrieve the GDP and religion of countries in South America, the following subqueries can be used:\n",
      "\n",
      "1. **Retrieve Country Codes for South America:**\n",
      "   ```sql\n",
      "   SELECT Country.Code \n",
      "   FROM encompasses \n",
      "   JOIN Country ON encompasses.Country = Country.Code \n",
      "   WHERE encompasses.Continent = 'South America'\n",
      "   ```\n",
      "\n",
      "2. **Retrieve GDP for South American Countries:**\n",
      "   ```sql\n",
      "   SELECT Economy.GDP, Economy.Country \n",
      "   FROM Economy \n",
      "   WHERE Economy.Country IN (\n",
      "       SELECT Country.Code \n",
      "       FROM encompasses \n",
      "       JOIN Country ON encompasses.Country = Country.Code \n",
      "       WHERE encompasses.Continent = 'South America'\n",
      "   )\n",
      "   ```\n",
      "\n",
      "3. **Retrieve Religion for South American Countries:**\n",
      "   ```sql\n",
      "   SELECT Religion.Name, Religion.Percentage, Religion.Country \n",
      "   FROM Religion \n",
      "   WHERE Religion.Country IN (\n",
      "       SELECT Country.Code \n",
      "       FROM encompasses \n",
      "       JOIN Country ON encompasses.Country = Country.Code \n",
      "       WHERE encompasses.Continent = 'South America'\n",
      "   )\n",
      "   ```\n",
      "\n",
      "These queries will provide the GDP and religious composition of countries located in South America.\n",
      "--------------------------------------------------\n"
     ]
    }
   ],
   "source": [
    "for message in result[\"messages\"]:\n",
    "    print(message.content)\n",
    "    print(\"-\"*50)"
   ],
   "metadata": {
    "collapsed": false,
    "ExecuteTime": {
     "end_time": "2024-12-28T17:27:30.662200Z",
     "start_time": "2024-12-28T17:27:30.639454Z"
    }
   },
   "id": "e4a37dc677becced",
   "execution_count": 68
  },
  {
   "cell_type": "code",
   "outputs": [],
   "source": [],
   "metadata": {
    "collapsed": false
   },
   "id": "8a1f00e88ae735c0"
  }
 ],
 "metadata": {
  "kernelspec": {
   "display_name": "Python 3",
   "language": "python",
   "name": "python3"
  },
  "language_info": {
   "codemirror_mode": {
    "name": "ipython",
    "version": 2
   },
   "file_extension": ".py",
   "mimetype": "text/x-python",
   "name": "python",
   "nbconvert_exporter": "python",
   "pygments_lexer": "ipython2",
   "version": "2.7.6"
  }
 },
 "nbformat": 4,
 "nbformat_minor": 5
}
