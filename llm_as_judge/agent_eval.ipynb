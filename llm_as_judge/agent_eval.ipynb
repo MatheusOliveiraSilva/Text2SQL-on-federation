{
 "cells": [
  {
   "cell_type": "code",
   "execution_count": 1,
   "id": "initial_id",
   "metadata": {
    "collapsed": true,
    "ExecuteTime": {
     "end_time": "2025-01-03T18:11:50.078330Z",
     "start_time": "2025-01-03T18:11:42.824209Z"
    }
   },
   "outputs": [],
   "source": [
    "import json\n",
    "from langgraph.prebuilt import tools_condition, ToolNode\n",
    "from langgraph.graph import START, StateGraph, MessagesState\n",
    "from langchain_core.messages import HumanMessage, AIMessage, ToolCall, ToolMessage\n",
    "from llm_as_judge.nodes import assistant\n",
    "import llm_as_judge.tools as t\n",
    "from dotenv import load_dotenv\n",
    "from llm_utils.langchain_utils import get_llm\n",
    "from text2sql_mondial_v1 import graph as agent\n",
    "\n",
    "load_dotenv()\n",
    "llm = get_llm()\n",
    "\n",
    "with open(\"dataset/federated_mondial_dataset.json\", \"r\") as f:\n",
    "    dataset = json.load(f)\n",
    "\n",
    "DATASET = dataset[\"dataset\"]"
   ]
  },
  {
   "cell_type": "code",
   "outputs": [],
   "source": [
    "tools = [\n",
    "    t.interact_with_agent\n",
    "]\n",
    "\n",
    "# Build graph\n",
    "builder = StateGraph(MessagesState)\n",
    "builder.add_node(\"assistant\", assistant)\n",
    "builder.add_node(\"tools\", ToolNode(tools))\n",
    "builder.add_edge(START, \"assistant\")\n",
    "builder.add_conditional_edges(\"assistant\", tools_condition)\n",
    "builder.add_edge(\"tools\", \"assistant\")\n",
    "\n",
    "# Compile graph\n",
    "graph = builder.compile()"
   ],
   "metadata": {
    "collapsed": false,
    "ExecuteTime": {
     "end_time": "2025-01-03T18:11:50.778402Z",
     "start_time": "2025-01-03T18:11:50.264176Z"
    }
   },
   "id": "210c818e5d5b742e",
   "execution_count": 2
  },
  {
   "cell_type": "code",
   "outputs": [
    {
     "data": {
      "text/plain": "[{'id': '3',\n  'type': 'medium',\n  'question': 'What are the languages spoken in Poland?',\n  'query': \"SELECT mondial_language.name FROM mondial_language INNER JOIN mondial_country ON mondial_language.country = mondial_country.code WHERE mondial_country.name = 'Poland'\",\n  'keywords': '',\n  'answer': [{'uri': '/results_table/3.csv'}],\n  'tables': ['language', 'country']},\n {'id': '6',\n  'type': 'complex',\n  'question': 'What is the percentage of religious people are hindu in thailand?',\n  'query': \"SELECT r.percentage FROM mondial_religion r INNER JOIN mondial_country c ON r.country = c.code WHERE c.name = 'Thailand' AND r.name LIKE '%Hindu%'\",\n  'keywords': '',\n  'answer': [{'uri': '/results_table/6.csv'}],\n  'tables': ['religion', 'country']},\n {'id': '8',\n  'type': 'complex',\n  'question': 'Find all countries that became independent between 8/1/1910 and 8/1/1950.',\n  'query': \"SELECT c.name FROM mondial_country c \\nINNER JOIN mondial_politics p ON c.code = p.country \\nWHERE independence > DATE '1910-08-01' AND independence < DATE '1950-08-01'\",\n  'keywords': '',\n  'answer': [{'uri': '/results_table/8.csv'}],\n  'tables': ['country', 'politics']},\n {'id': '15',\n  'type': 'medium',\n  'question': 'Tell me the economy of the Caribbean Sea.',\n  'query': \"SELECT DISTINCT e.* FROM mondial_economy e \\nINNER JOIN mondial_country c ON e.country = c.code\\nINNER JOIN mondial_geo_sea gs ON gs.country = c.code\\nINNER JOIN mondial_sea s ON s.name = gs.sea\\nWHERE s.name LIKE '%Caribbean Sea%'\",\n  'keywords': '',\n  'answer': [{'uri': '/results_table/15.csv'}],\n  'tables': ['economy', 'country', 'geo_sea', 'sea']},\n {'id': '17',\n  'type': 'complex',\n  'question': 'Select cities whose population is greater than 100000, altitude greater than 2500, and the country you belong to has population growth greater than 1.',\n  'query': 'SELECT ci.name FROM mondial_city ci\\nINNER JOIN mondial_country c ON c.code = ci.country\\nINNER JOIN mondial_population p ON p.country = c.code \\nWHERE ci.population > 100000 AND ci.elevation > 2500 AND \\np.population_growth > 1',\n  'keywords': '',\n  'answer': [{'uri': '/results_table/17.csv'}],\n  'tables': ['city', 'country', 'population']},\n {'id': '20',\n  'type': 'complex',\n  'question': 'What is the percentage of mulatto ethnicity in Brazil?',\n  'query': \"SELECT eg.percentage FROM mondial_ethnicgroup eg INNER JOIN mondial_country c ON c.code = eg.country WHERE c.name = 'Brazil' AND eg.name LIKE '%Mulatto%'\",\n  'keywords': '',\n  'answer': [{'uri': '/results_table/20.csv'}],\n  'tables': ['ethnicgroup', 'country']},\n {'id': '25',\n  'type': 'medium',\n  'question': 'For all countries, give the sum of the population of all its neighbors',\n  'query': 'SELECT c.name AS country_name, SUM(c1.population) AS total_neighbor_population\\nFROM mondial_Country c\\nJOIN mondial_Borders b ON c.code = b.country1\\nJOIN mondial_Country c1 ON b.country2 = c1.code\\nGROUP BY c.name;',\n  'keywords': '',\n  'answer': [{'uri': '/results_table/25.csv'}],\n  'tables': ['country', 'borders']},\n {'id': '28',\n  'type': 'complex',\n  'question': 'The codes of all countries for which at least one river that originates in this country has its estuary in a neighboring country.',\n  'query': 'SELECT DISTINCT s.country\\nFROM mondial_geo_estuary e, mondial_borders b, mondial_geo_source s\\nWHERE ((e.country = b.country1 AND s.country = b.country2)\\nOR (e.country = b.country2 AND s.country = b.country1))\\nAND e.river = s.river;',\n  'keywords': '',\n  'answer': [{'uri': '/results_table/28.csv'}],\n  'tables': ['geo_estuary', 'borders', 'geo_source']},\n {'id': '34',\n  'type': 'medium',\n  'question': 'What are the religions practiced in Mexico?',\n  'query': \"SELECT r.name FROM mondial_religion r INNER JOIN mondial_country c ON c.code = r.country WHERE c.name = 'Mexico'\",\n  'keywords': '',\n  'answer': [{'uri': '/results_table/34.csv'}],\n  'tables': ['religion', 'country']},\n {'id': '36',\n  'type': 'complex',\n  'question': 'List African countries by number of neighbors.',\n  'query': \"SELECT c.name, COUNT(b.country2) AS num_neighbors FROM mondial_country c INNER JOIN mondial_borders b ON c.code = b.country1 \\nINNER JOIN mondial_encompasses e ON c.code = e.country \\nINNER JOIN mondial_continent co ON e.continent = co.name \\nWHERE co.name = 'Africa' GROUP BY c.name ORDER BY num_neighbors DESC;\",\n  'keywords': '',\n  'answer': [{'uri': '/results_table/36.csv'}],\n  'tables': ['country', 'borders', 'encompasses', 'continent']},\n {'id': '37',\n  'type': 'simple',\n  'question': 'What is the average infant mortality rate for each continent?',\n  'query': 'SELECT c.name AS continent, AVG(p.infant_mortality) AS avg_infant_mortality\\nFROM mondial_continent c\\nJOIN mondial_encompasses e ON c.name = e.continent\\nJOIN mondial_population p ON e.country = p.country\\nGROUP BY c.name;',\n  'keywords': '',\n  'answer': [{'uri': '/results_table/37.csv'}],\n  'tables': ['continent', 'encompasses', 'population']},\n {'id': '38',\n  'type': 'complex',\n  'question': 'What is the average mortality rate of the countries in America without considering Brazil?',\n  'query': \"SELECT AVG(p.infant_mortality) AS avg_infant_mortality\\nFROM mondial_Country c\\nJOIN mondial_Population p ON c.code = p.country\\nJOIN mondial_encompasses e ON c.code = e.country\\nJOIN mondial_Continent ct ON e.continent = ct.name\\nWHERE ct.name = 'America' AND c.name != 'Brazil';\",\n  'keywords': '',\n  'answer': [{'uri': '/results_table/38.csv'}],\n  'tables': ['country', 'population', 'encompasses', 'continent']},\n {'id': '48',\n  'type': 'complex',\n  'question': 'What percentage of people speak French in Andorra?',\n  'query': \"SELECT l.percentage FROM mondial_language l \\nINNER JOIN mondial_country c ON l.country = c.code\\nWHERE l.name LIKE '%French%' AND c.name = 'Andorra'\",\n  'keywords': '',\n  'answer': [{'uri': '/results_table/48.csv'}],\n  'tables': ['language', 'country']},\n {'id': '50',\n  'type': 'simple',\n  'question': 'Which country had the lowest population growth?',\n  'query': 'SELECT c.name FROM mondial_country c \\nINNER JOIN mondial_population p ON p.country = c.code \\nORDER BY p.population_growth ASC FETCH FIRST 1 ROWS ONLY',\n  'keywords': '',\n  'answer': [{'uri': '/results_table/50.csv'}],\n  'tables': ['country', 'population']},\n {'id': '55',\n  'type': 'complex',\n  'question': 'List the names of countries which are members of only one organization',\n  'query': 'SELECT c.name\\nFROM mondial_country c\\nJOIN mondial_ismember m\\nON c.code=m.country\\nWHERE m.organization=ALL(SELECT organization\\nFROM mondial_ismember m\\nWHERE\\nm.country=c.code)',\n  'keywords': '',\n  'answer': [{'uri': '/results_table/55.csv'}],\n  'tables': ['country', 'ismember']},\n {'id': '56',\n  'type': 'complex',\n  'question': 'List the name of countries which are not a member of NATO.',\n  'query': \"SELECT c.name\\nFROM mondial_country c\\nWHERE c.code NOT IN (SELECT m.country\\nFROM mondial_ismember m\\nWHERE organization='NATO')\",\n  'keywords': '',\n  'answer': [{'uri': '/results_table/56.csv'}],\n  'tables': ['country', 'ismember']},\n {'id': '57',\n  'type': 'medium',\n  'question': 'List the name of countries which are a member of NATO.',\n  'query': \"SELECT c.name\\nFROM mondial_country c\\nJOIN mondial_ismember m\\nON c.code=m.country\\nWHERE organization='NATO'\",\n  'keywords': '',\n  'answer': [{'uri': '/results_table/57.csv'}],\n  'tables': ['country', 'ismember']},\n {'id': '60',\n  'type': 'complex',\n  'question': 'List the names of capital cities which are the base for organizations in alphabetical order',\n  'query': 'SELECT c.capital\\nFROM mondial_country c\\nWHERE c.capital IN (SELECT o.city\\nFROM mondial_organization o) ORDER BY c.capital ASC',\n  'keywords': '',\n  'answer': [{'uri': '/results_table/60.csv'}],\n  'tables': ['country', 'organization']},\n {'id': '61',\n  'type': 'complex',\n  'question': 'List the name of organizations that do not have countries with an area smaller than 4000 and of the member type',\n  'query': \"SELECT o.name\\nFROM mondial_organization o\\nWHERE NOT EXISTS (SELECT *\\nFROM mondial_ismember m\\nJOIN mondial_country c\\nON m.country=c.code\\nWHERE m.organization=o.abbreviation\\nAND c.area <=4000\\nAND m.type= 'member')\",\n  'keywords': '',\n  'answer': [{'uri': '/results_table/61.csv'}],\n  'tables': ['organization', 'ismember', 'country']},\n {'id': '62',\n  'type': 'complex',\n  'question': 'List the name of organizations that do not have countries with  an area greater than 10000 and population smaller than 3000 and of the member type',\n  'query': \"SELECT o.name\\nFROM mondial_organization o\\nWHERE NOT EXISTS (SELECT *\\nFROM mondial_ismember m\\nJOIN mondial_country c\\nON m.country=c.code\\nWHERE m.organization=o.abbreviation\\nAND c.area > 10000\\nAND c.population < 3000\\nAND m.type= 'member')\",\n  'keywords': '',\n  'answer': [{'uri': '/results_table/62.csv'}],\n  'tables': ['organization', 'ismember', 'country']},\n {'id': '63',\n  'type': 'complex',\n  'question': 'Show the inflation rate sorted of countries that are washed by the Arabian Sea',\n  'query': \"SELECT DISTINCT e.inflation FROM mondial_economy e \\nINNER JOIN mondial_country c ON e.country = c.code\\nINNER JOIN mondial_geo_sea gs ON gs.country = c.code\\nINNER JOIN mondial_sea s ON s.name = gs.sea\\nWHERE s.name LIKE '%Arabian Sea%' ORDER BY e.inflation\",\n  'keywords': '',\n  'answer': [{'uri': '/results_table/63.csv'}],\n  'tables': ['economy', 'country', 'geo_sea', 'sea']},\n {'id': '65',\n  'type': 'complex',\n  'question': 'Show the inflation rate of the countries bathed by the Arabian Sea and there is no inflation with null value',\n  'query': \"SELECT DISTINCT e.inflation FROM mondial_economy e \\nINNER JOIN mondial_country c ON e.country = c.code\\nINNER JOIN mondial_geo_sea gs ON gs.country = c.code\\nINNER JOIN mondial_sea s ON s.name = gs.sea\\nWHERE s.name LIKE '%Arabian Sea%' AND e.INFLATION IS NOT NULL\",\n  'keywords': '',\n  'answer': [{'uri': '/results_table/65.csv'}],\n  'tables': ['economy', 'country', 'geo_sea', 'sea']},\n {'id': '67',\n  'type': 'complex',\n  'question': 'List the name of countries that are not members of NATO and UNESCO',\n  'query': \"SELECT name FROM country WHERE code NOT IN (SELECT country FROM ismember WHERE organization = 'NATO')\\nINTERSECT SELECT name FROM country WHERE code NOT IN (SELECT country FROM ismember WHERE organization = 'UNESCO')\",\n  'keywords': '',\n  'answer': [{'uri': '/results_table/67.csv'}],\n  'tables': ['country', 'ismember']},\n {'id': '75',\n  'type': 'complex',\n  'question': 'List the countries that belong to the continent with the largest area and whose language is English',\n  'query': \"SELECT c.name\\nFROM mondial_country c\\nINNER JOIN mondial_encompasses e ON e.country = c.code\\nINNER JOIN mondial_continent co ON co.name = e.continent\\nINNER JOIN mondial_language l ON l.country = c.code\\nWHERE e.continent = (\\n    SELECT name\\n    FROM mondial_continent\\n    GROUP BY name\\n    ORDER BY MAX(area) DESC\\n    FETCH FIRST 1 ROWS ONLY\\n) AND l.name='English';\",\n  'keywords': '',\n  'answer': [{'uri': '/results_table/75.csv'}],\n  'tables': ['country', 'encompasses', 'continent', 'language']},\n {'id': '79',\n  'type': 'simple',\n  'question': 'List the country names and percentage of use of language where  French are used as languages.',\n  'query': \"SELECT c.name, l.percentage FROM mondial_language l INNER JOIN mondial_country c\\nON l.country = c.code WHERE l.name = 'French'\",\n  'keywords': '',\n  'answer': [{'uri': '/results_table/79.csv'}],\n  'tables': ['language', 'country']},\n {'id': '80',\n  'type': 'medium',\n  'question': 'What are the cities where �Portuguese� is spoken?',\n  'query': \"SELECT ci.name\\nFROM mondial_city ci\\nINNER JOIN mondial_country co\\nON co.code = ci.country\\nINNER JOIN mondial_language l\\nON l.country = co.code\\nWHERE l.name = 'Portuguese';\",\n  'keywords': '',\n  'answer': [{'uri': '/results_table/80.csv'}],\n  'tables': ['city', 'country', 'language']},\n {'id': '90',\n  'type': 'medium',\n  'question': 'List cities with another name in Brazil',\n  'query': \"SELECT cio.othername\\nFROM mondial_cityothername cio\\nINNER JOIN mondial_country c\\nON cio.country = c.code\\nWHERE c.name = 'Brazil'\",\n  'keywords': '',\n  'answer': [{'uri': '/results_table/90.csv'}],\n  'tables': ['cityothername', 'country']},\n {'id': '92',\n  'type': 'medium',\n  'question': 'Show the number of cities with another name in countries with an area greater than 30000',\n  'query': 'SELECT count(DISTINCT cio.city)\\nFROM mondial_cityothername cio\\nINNER JOIN mondial_country c\\nON cio.country = c.code\\nWHERE c.area >30000',\n  'keywords': '',\n  'answer': [{'uri': '/results_table/92.csv'}],\n  'tables': ['cityothername', 'country']},\n {'id': '98',\n  'type': 'medium',\n  'question': \"What was Germany's inflation?\",\n  'query': \"SELECT e.inflation FROM mondial_country c JOIN mondial_economy e ON c.code=e.country WHERE c.name LIKE '%Germany%'\",\n  'keywords': '',\n  'answer': [{'uri': '/results_table/98.csv'}],\n  'tables': ['country', 'economy']},\n {'id': '99',\n  'type': 'medium',\n  'question': 'What type of government is Iran?',\n  'query': \"SELECT p.government\\nFROM mondial_country c\\nINNER JOIN mondial_politics p\\nON p.country = c.code\\nWHERE c.name = 'Iran'\",\n  'keywords': '',\n  'answer': [{'uri': '/results_table/99.csv'}],\n  'tables': ['country', 'politics']},\n {'id': '100',\n  'type': 'medium',\n  'question': \"What is the percentage of industries in relation to Japan's economy?\",\n  'query': \"SELECT e.industry \\nFROM mondial_economy e\\nINNER JOIN mondial_country c\\nON c.code = e.country\\nWHERE c.name = 'Japan'\",\n  'keywords': '',\n  'answer': [{'uri': '/results_table/100.csv'}],\n  'tables': ['economy', 'country']}]"
     },
     "execution_count": 3,
     "metadata": {},
     "output_type": "execute_result"
    }
   ],
   "source": [
    "DATASET"
   ],
   "metadata": {
    "collapsed": false,
    "ExecuteTime": {
     "end_time": "2025-01-03T18:11:51.029596Z",
     "start_time": "2025-01-03T18:11:50.891178Z"
    }
   },
   "id": "a2be077937bab92d",
   "execution_count": 3
  },
  {
   "cell_type": "code",
   "outputs": [
    {
     "name": "stdout",
     "output_type": "stream",
     "text": [
      "0\n",
      "Rodando o exemplo... \n",
      " {'id': '3', 'type': 'medium', 'question': 'What are the languages spoken in Poland?', 'query': \"SELECT mondial_language.name FROM mondial_language INNER JOIN mondial_country ON mondial_language.country = mondial_country.code WHERE mondial_country.name = 'Poland'\", 'keywords': '', 'answer': [{'uri': '/results_table/3.csv'}], 'tables': ['language', 'country']}\n",
      "--------------------------------------------------\n",
      "Run the example identifier: 0 on the agent.\n",
      "\n",
      "Question: What are the languages spoken in Poland?\n",
      "\n",
      "Ground truth SQL: SELECT mondial_language.name FROM mondial_language INNER JOIN mondial_country ON mondial_language.country = mondial_country.code WHERE mondial_country.name = 'Poland'\n",
      "\n",
      "Ground truth tables: ['language', 'country']\n",
      "\n",
      "--------------------------------------------------\n",
      "\n",
      "--------------------------------------------------\n",
      "{'messages': [HumanMessage(content='What are the languages spoken in Poland?', additional_kwargs={}, response_metadata={}, id='ba6faadb-0f6a-469c-9519-2efd96d973a6'), AIMessage(content='', additional_kwargs={'tool_calls': [{'id': 'call_U7i7gRsE7Vvrp8U7QCpUKNr2', 'function': {'arguments': '{\"question\":\"What are the languages spoken in Poland?\"}', 'name': 'get_relevant_tables'}, 'type': 'function'}], 'refusal': None}, response_metadata={'token_usage': {'completion_tokens': 23, 'prompt_tokens': 3179, 'total_tokens': 3202, 'completion_tokens_details': {'accepted_prediction_tokens': 0, 'audio_tokens': 0, 'reasoning_tokens': 0, 'rejected_prediction_tokens': 0}, 'prompt_tokens_details': {'audio_tokens': 0, 'cached_tokens': 0}}, 'model_name': 'gpt-4o-2024-05-13', 'system_fingerprint': 'fp_f3927aa00d', 'prompt_filter_results': [{'prompt_index': 0, 'content_filter_results': {'hate': {'filtered': False, 'severity': 'safe'}, 'jailbreak': {'filtered': False, 'detected': False}, 'self_harm': {'filtered': False, 'severity': 'safe'}, 'sexual': {'filtered': False, 'severity': 'safe'}, 'violence': {'filtered': False, 'severity': 'safe'}}}], 'finish_reason': 'tool_calls', 'logprobs': None, 'content_filter_results': {}}, id='run-e8791ee3-5850-46ff-a22f-bfeba60fee16-0', tool_calls=[{'name': 'get_relevant_tables', 'args': {'question': 'What are the languages spoken in Poland?'}, 'id': 'call_U7i7gRsE7Vvrp8U7QCpUKNr2', 'type': 'tool_call'}], usage_metadata={'input_tokens': 3179, 'output_tokens': 23, 'total_tokens': 3202, 'input_token_details': {'audio': 0, 'cache_read': 0}, 'output_token_details': {'audio': 0, 'reasoning': 0}}), ToolMessage(content='[\"Language\", \"Country\"]', name='get_relevant_tables', id='fae1f15b-742b-43cf-bd6e-3b672e2f39bb', tool_call_id='call_U7i7gRsE7Vvrp8U7QCpUKNr2'), AIMessage(content='', additional_kwargs={'tool_calls': [{'id': 'call_HSaw76ZdyrYRUMpPSqkS91sb', 'function': {'arguments': '{\"query\":\"What are the languages spoken in Poland?\",\"relevant_tables\":[\"Language\",\"Country\"]}', 'name': 'get_subqueries'}, 'type': 'function'}], 'refusal': None}, response_metadata={'token_usage': {'completion_tokens': 31, 'prompt_tokens': 3217, 'total_tokens': 3248, 'completion_tokens_details': {'accepted_prediction_tokens': 0, 'audio_tokens': 0, 'reasoning_tokens': 0, 'rejected_prediction_tokens': 0}, 'prompt_tokens_details': {'audio_tokens': 0, 'cached_tokens': 0}}, 'model_name': 'gpt-4o-2024-05-13', 'system_fingerprint': 'fp_f3927aa00d', 'prompt_filter_results': [{'prompt_index': 0, 'content_filter_results': {'hate': {'filtered': False, 'severity': 'safe'}, 'jailbreak': {'filtered': False, 'detected': False}, 'self_harm': {'filtered': False, 'severity': 'safe'}, 'sexual': {'filtered': False, 'severity': 'safe'}, 'violence': {'filtered': False, 'severity': 'safe'}}}], 'finish_reason': 'tool_calls', 'logprobs': None, 'content_filter_results': {}}, id='run-14619716-489a-4f51-9f17-ea0278e2f6bf-0', tool_calls=[{'name': 'get_subqueries', 'args': {'query': 'What are the languages spoken in Poland?', 'relevant_tables': ['Language', 'Country']}, 'id': 'call_HSaw76ZdyrYRUMpPSqkS91sb', 'type': 'tool_call'}], usage_metadata={'input_tokens': 3217, 'output_tokens': 31, 'total_tokens': 3248, 'input_token_details': {'audio': 0, 'cache_read': 0}, 'output_token_details': {'audio': 0, 'reasoning': 0}}), ToolMessage(content='```json\\n{\\n  \"subqueries\": [\\n    {\\n      \"schema\": \"MONDIAL_GEO\",\\n      \"tables\": [\"Country\"],\\n      \"columns\": [\"Code\"],\\n      \"conditions\": [\"Name = \\'Poland\\'\"],\\n      \"sql\": \"SELECT Code FROM Country WHERE Name = \\'Poland\\'\"\\n    },\\n    {\\n      \"schema\": \"MONDIAL_SOCIAL\",\\n      \"tables\": [\"Language\"],\\n      \"columns\": [\"Country\", \"Name\", \"Percentage\"],\\n      \"conditions\": [],\\n      \"sql\": \"SELECT Country, Name, Percentage FROM Language\"\\n    }\\n  ]\\n}\\n```', name='get_subqueries', id='12fed82c-cd81-40b6-97ad-973264b56352', tool_call_id='call_HSaw76ZdyrYRUMpPSqkS91sb'), AIMessage(content=\"We need to query over multiple databases to answer your question. Here's the plan:\\n\\n1. First, we will get the country code for Poland from the `Country` table.\\n2. Then, we will use this country code to find the languages spoken in Poland from the `Language` table.\\n\\nWould you like to proceed with this approach?\", additional_kwargs={'refusal': None}, response_metadata={'token_usage': {'completion_tokens': 69, 'prompt_tokens': 3501, 'total_tokens': 3570, 'completion_tokens_details': {'accepted_prediction_tokens': 0, 'audio_tokens': 0, 'reasoning_tokens': 0, 'rejected_prediction_tokens': 0}, 'prompt_tokens_details': {'audio_tokens': 0, 'cached_tokens': 0}}, 'model_name': 'gpt-4o-2024-05-13', 'system_fingerprint': 'fp_f3927aa00d', 'prompt_filter_results': [{'prompt_index': 0, 'content_filter_results': {'hate': {'filtered': False, 'severity': 'safe'}, 'jailbreak': {'filtered': False, 'detected': False}, 'self_harm': {'filtered': False, 'severity': 'safe'}, 'sexual': {'filtered': False, 'severity': 'safe'}, 'violence': {'filtered': False, 'severity': 'safe'}}}], 'finish_reason': 'stop', 'logprobs': None, 'content_filter_results': {'hate': {'filtered': False, 'severity': 'safe'}, 'protected_material_code': {'filtered': False, 'detected': False}, 'protected_material_text': {'filtered': False, 'detected': False}, 'self_harm': {'filtered': False, 'severity': 'safe'}, 'sexual': {'filtered': False, 'severity': 'safe'}, 'violence': {'filtered': False, 'severity': 'safe'}}}, id='run-3b834efa-acc4-4dae-8a7c-06dd7a217d51-0', usage_metadata={'input_tokens': 3501, 'output_tokens': 69, 'total_tokens': 3570, 'input_token_details': {'audio': 0, 'cache_read': 0}, 'output_token_details': {'audio': 0, 'reasoning': 0}}), HumanMessage(content='Yes sure.', additional_kwargs={}, response_metadata={}, id='7f782305-b96c-44f2-bbfb-4a1d6a7a3dc4'), AIMessage(content='', additional_kwargs={'tool_calls': [{'id': 'call_zvrzSgEgsVO97Rm8WoH418pk', 'function': {'arguments': '{\"subqueries\":\"SELECT Code FROM Country WHERE Name = \\'Poland\\'; SELECT Country, Name, Percentage FROM Language;\",\"relevant_tables\":[\"Language\",\"Country\"]}', 'name': 'join_subqueries'}, 'type': 'function'}], 'refusal': None}, response_metadata={'token_usage': {'completion_tokens': 44, 'prompt_tokens': 3457, 'total_tokens': 3501, 'completion_tokens_details': None, 'prompt_tokens_details': None}, 'model_name': 'gpt-4o-2024-05-13', 'system_fingerprint': 'fp_65792305e4', 'prompt_filter_results': [{'prompt_index': 0, 'content_filter_results': {'hate': {'filtered': False, 'severity': 'safe'}, 'jailbreak': {'filtered': False, 'detected': False}, 'self_harm': {'filtered': False, 'severity': 'safe'}, 'sexual': {'filtered': False, 'severity': 'safe'}, 'violence': {'filtered': False, 'severity': 'safe'}}}], 'finish_reason': 'tool_calls', 'logprobs': None, 'content_filter_results': {}}, id='run-b514af54-16c9-4f27-b18a-47be8b8d691d-0', tool_calls=[{'name': 'join_subqueries', 'args': {'subqueries': \"SELECT Code FROM Country WHERE Name = 'Poland'; SELECT Country, Name, Percentage FROM Language;\", 'relevant_tables': ['Language', 'Country']}, 'id': 'call_zvrzSgEgsVO97Rm8WoH418pk', 'type': 'tool_call'}], usage_metadata={'input_tokens': 3457, 'output_tokens': 44, 'total_tokens': 3501, 'input_token_details': {}, 'output_token_details': {}}), ToolMessage(content='```json\\n{\\n  \"integration_plan\": {\\n    \"method\": \"JOIN\",\\n    \"columns\": [\"Code\", \"Country\"],\\n    \"sql\": \"SELECT L.Country, L.Name, L.Percentage FROM (SELECT Code FROM Country WHERE Name = \\'Poland\\') AS C JOIN Language AS L ON C.Code = L.Country\"\\n  }\\n}\\n```', name='join_subqueries', id='56c936ee-d171-4961-999f-d92e0cbb98d7', tool_call_id='call_zvrzSgEgsVO97Rm8WoH418pk'), AIMessage(content=\"To find the languages spoken in Poland, we will execute the following query:\\n\\n```sql\\nSELECT L.Country, L.Name, L.Percentage \\nFROM (SELECT Code FROM Country WHERE Name = 'Poland') AS C \\nJOIN Language AS L ON C.Code = L.Country;\\n```\\n\\nThis query will provide us with the languages spoken in Poland along with their respective percentages.\", additional_kwargs={'refusal': None}, response_metadata={'token_usage': {'completion_tokens': 76, 'prompt_tokens': 3652, 'total_tokens': 3728, 'completion_tokens_details': None, 'prompt_tokens_details': None}, 'model_name': 'gpt-4o-2024-05-13', 'system_fingerprint': 'fp_65792305e4', 'prompt_filter_results': [{'prompt_index': 0, 'content_filter_results': {'hate': {'filtered': False, 'severity': 'safe'}, 'jailbreak': {'filtered': False, 'detected': False}, 'self_harm': {'filtered': False, 'severity': 'safe'}, 'sexual': {'filtered': False, 'severity': 'safe'}, 'violence': {'filtered': False, 'severity': 'safe'}}}], 'finish_reason': 'stop', 'logprobs': None, 'content_filter_results': {'hate': {'filtered': False, 'severity': 'safe'}, 'protected_material_code': {'filtered': False, 'detected': False}, 'protected_material_text': {'filtered': False, 'detected': False}, 'self_harm': {'filtered': False, 'severity': 'safe'}, 'sexual': {'filtered': False, 'severity': 'safe'}, 'violence': {'filtered': False, 'severity': 'safe'}}}, id='run-c7c0cae3-c9ca-4a58-b6d0-ad49a5432d66-0', usage_metadata={'input_tokens': 3652, 'output_tokens': 76, 'total_tokens': 3728, 'input_token_details': {}, 'output_token_details': {}})]}\n",
      "--------------------------------------------------\n",
      "Based on the agent's responses and the ground truth provided, let's evaluate the performance:\n",
      "\n",
      "### Questions:\n",
      "\n",
      "a. **Are we able to retrieve the relevant tables?**\n",
      "   - **Yes**, the agent correctly identified the relevant tables: `Language` and `Country`.\n",
      "\n",
      "b. **Is the federated subqueries syntactically correct? It is also semantically correct?**\n",
      "   - **Syntactically Correct**: Yes, the subqueries provided are syntactically correct.\n",
      "   - **Semantically Correct**: Yes, the subqueries are semantically correct. The first subquery retrieves the country code for Poland, and the second subquery retrieves the languages spoken in various countries.\n",
      "\n",
      "c. **Does the federated query after the integration step is syntactically correct? It is also semantically correct?**\n",
      "   - **Syntactically Correct**: Yes, the federated query is syntactically correct.\n",
      "   - **Semantically Correct**: Yes, the federated query is semantically correct. It correctly joins the results of the subqueries to find the languages spoken in Poland.\n",
      "\n",
      "### Conclusion:\n",
      "The agent successfully retrieved the relevant tables, generated correct subqueries, and produced a correct federated query. The final query is both syntactically and semantically correct.\n"
     ]
    }
   ],
   "source": [
    "from langgraph.checkpoint.memory import MemorySaver\n",
    "\n",
    "memory = MemorySaver()\n",
    "\n",
    "def run_example(n: str):\n",
    "    \n",
    "    example = DATASET[n]\n",
    "    config = {\"configurable\": {\"thread_id\": example[\"id\"]}}\n",
    "    \n",
    "    judge_messages = [\n",
    "        HumanMessage(\n",
    "            content=f\"Run the example identifier: {n} on the agent.\\n\\n\"\n",
    "                    f\"Question: {example['question']}\\n\\n\"\n",
    "                    f\"Ground truth SQL: {example['query']}\\n\\n\"\n",
    "                    f\"Ground truth tables: {example['tables']}\\n\"\n",
    "        )\n",
    "    ]\n",
    "    \n",
    "    print(\"Rodando o exemplo... \\n\", str(example))\n",
    "    result = graph.invoke({\"messages\": judge_messages}, config)\n",
    "    \n",
    "    return result\n",
    "\n",
    "new_example = None\n",
    "\n",
    "for i, example in enumerate(DATASET):\n",
    "    print(i)\n",
    "    result = run_example(i)\n",
    "    \n",
    "    for message in result[\"messages\"]:\n",
    "        print(\"-\"*50)\n",
    "        print(message.content)\n",
    "    \n",
    "    new_example = result\n",
    "    break"
   ],
   "metadata": {
    "collapsed": false,
    "ExecuteTime": {
     "end_time": "2025-01-03T18:12:09.893772Z",
     "start_time": "2025-01-03T18:11:51.090703Z"
    }
   },
   "id": "3af7c7e8660cfbdc",
   "execution_count": 4
  }
 ],
 "metadata": {
  "kernelspec": {
   "display_name": "Python 3",
   "language": "python",
   "name": "python3"
  },
  "language_info": {
   "codemirror_mode": {
    "name": "ipython",
    "version": 2
   },
   "file_extension": ".py",
   "mimetype": "text/x-python",
   "name": "python",
   "nbconvert_exporter": "python",
   "pygments_lexer": "ipython2",
   "version": "2.7.6"
  }
 },
 "nbformat": 4,
 "nbformat_minor": 5
}
