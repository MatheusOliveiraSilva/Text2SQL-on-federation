{
 "cells": [
  {
   "cell_type": "code",
   "execution_count": 10,
   "id": "initial_id",
   "metadata": {
    "collapsed": true,
    "ExecuteTime": {
     "end_time": "2025-01-02T14:59:33.404302Z",
     "start_time": "2025-01-02T14:59:33.380386Z"
    }
   },
   "outputs": [
    {
     "name": "stdout",
     "output_type": "stream",
     "text": [
      "{'id': '1', 'type': 'simple', 'question': 'What is the area of Thailand?', 'query': \"SELECT max(area) FROM mondial_country where name  = 'Thailand'\", 'keywords': '', 'answer': [{'uri': '/results_table/1.csv'}], 'tables': ['country']}\n"
     ]
    }
   ],
   "source": [
    "import json\n",
    "\n",
    "with open(\"mondial_full_dataset.json\", \"r\") as f:\n",
    "    data = json.load(f)\n",
    "    \n",
    "for item in data[\"dataset\"]:\n",
    "    print(item)\n",
    "    break\n",
    "    \n",
    "dataset = data[\"dataset\"]"
   ]
  },
  {
   "cell_type": "markdown",
   "source": [
    "## Limpando o dataset, para temos apenas itens que participam de mais de um banco da federação"
   ],
   "metadata": {
    "collapsed": false
   },
   "id": "8ac1532ccb3754ad"
  },
  {
   "cell_type": "code",
   "outputs": [
    {
     "name": "stdout",
     "output_type": "stream",
     "text": [
      "Economy tables: ['economy', 'population']\n",
      "--------------------\n",
      "Geography tables: ['country', 'riverthrough', 'encompasses', 'continent', 'city', 'province', 'mountain', 'desert', 'island', 'lake', 'sea', 'river', 'airport', 'geo_mountain', 'geo_desert', 'geo_island', 'geo_river', 'geo_sea', 'geo_lake', 'geo_source', 'geo_estuary', 'located', 'locatedon', 'islandin', 'mountainonisland', 'lakeonisland', 'riveronisland', 'mergeswith']\n",
      "--------------------\n",
      "Social tables: ['religion', 'ethnicgroup', 'language', 'sublanguage', 'countrylocalname', 'countryothername', 'provincelocalname', 'provinceothername', 'citylocalname', 'cityothername', 'countrypops', 'provpops', 'citypops']\n",
      "--------------------\n",
      "Politics tables: ['politics', 'borders', 'organization', 'ismember']\n"
     ]
    }
   ],
   "source": [
    "from schemas.mondial_federated_schema import MONDIAL_SOCIAL, MONDIAL_POlITICS, MONDIAL_GEO, MONDIAL_ECONOMY\n",
    "\n",
    "# pega a lista de tabelas para cada banco da federação\n",
    "def get_table_names(schema):\n",
    "    table_names = []\n",
    "    for table in schema.split(\"CREATE TABLE \"):\n",
    "        table_name = table.split(\"\\n\")[0]\n",
    "        table_names.append(table_name.lower())\n",
    "    return table_names[1:] # exlui o primeiro que é vazio.\n",
    "\n",
    "# pega a lista de tabelas para cada banco da federação\n",
    "economy_db_tables_names = get_table_names(MONDIAL_ECONOMY)\n",
    "geo_db_tables_names = get_table_names(MONDIAL_GEO)\n",
    "social_db_tables_names = get_table_names(MONDIAL_SOCIAL)\n",
    "politics_db_tables_names = get_table_names(MONDIAL_POlITICS)\n",
    "\n",
    "print(\"Economy tables:\", economy_db_tables_names)\n",
    "print(\"--------------------\")\n",
    "print(\"Geography tables:\", geo_db_tables_names)\n",
    "print(\"--------------------\")\n",
    "print(\"Social tables:\", social_db_tables_names)\n",
    "print(\"--------------------\")\n",
    "print(\"Politics tables:\", politics_db_tables_names)"
   ],
   "metadata": {
    "collapsed": false,
    "ExecuteTime": {
     "end_time": "2025-01-02T15:05:30.551197Z",
     "start_time": "2025-01-02T15:05:30.511424Z"
    }
   },
   "id": "3985e4cf70197d26",
   "execution_count": 23
  },
  {
   "cell_type": "code",
   "outputs": [
    {
     "name": "stdout",
     "output_type": "stream",
     "text": [
      "100\n",
      "31\n"
     ]
    }
   ],
   "source": [
    "new_dataset = []\n",
    "\n",
    "# Passa por todos itens e verifica se tem mais de um banco da federação envolvido nas tabelas do item.\n",
    "for item in dataset:\n",
    "    if len(item[\"tables\"]) > 1:\n",
    "        tables_involved = set()\n",
    "        for table in item[\"tables\"]:\n",
    "            if table in economy_db_tables_names:\n",
    "                tables_involved.add(\"economy\")\n",
    "            elif table in geo_db_tables_names:\n",
    "                tables_involved.add(\"geography\")\n",
    "            elif table in social_db_tables_names:\n",
    "                tables_involved.add(\"social\")\n",
    "            elif table in politics_db_tables_names:\n",
    "                tables_involved.add(\"politics\")\n",
    "        \n",
    "            if len(tables_involved) > 1:\n",
    "                new_dataset.append(item)\n",
    "                break\n",
    "\n",
    "print(len(dataset))\n",
    "print(len(new_dataset))"
   ],
   "metadata": {
    "collapsed": false,
    "ExecuteTime": {
     "end_time": "2025-01-02T15:13:21.801127Z",
     "start_time": "2025-01-02T15:13:21.707090Z"
    }
   },
   "id": "43dfc3c65ddbbe5f",
   "execution_count": 27
  },
  {
   "cell_type": "markdown",
   "source": [
    "## Disso vemos que do dataset original, apenas 31 exemplos podem ser testados em cima da nossa federação criada. Mas vamos trabalhar com eles."
   ],
   "metadata": {
    "collapsed": false
   },
   "id": "3a9e6c252f378bf7"
  },
  {
   "cell_type": "code",
   "outputs": [],
   "source": [
    "# salva em um novo .json\n",
    "\n",
    "with open(\"federated_mondial_dataset.json\", \"w\") as f:\n",
    "    json.dump({\"dataset\": new_dataset}, f)"
   ],
   "metadata": {
    "collapsed": false,
    "ExecuteTime": {
     "end_time": "2025-01-02T15:09:35.499681Z",
     "start_time": "2025-01-02T15:09:35.465071Z"
    }
   },
   "id": "ce29cbc8e6024c4f",
   "execution_count": 26
  }
 ],
 "metadata": {
  "kernelspec": {
   "display_name": "Python 3",
   "language": "python",
   "name": "python3"
  },
  "language_info": {
   "codemirror_mode": {
    "name": "ipython",
    "version": 2
   },
   "file_extension": ".py",
   "mimetype": "text/x-python",
   "name": "python",
   "nbconvert_exporter": "python",
   "pygments_lexer": "ipython2",
   "version": "2.7.6"
  }
 },
 "nbformat": 4,
 "nbformat_minor": 5
}
