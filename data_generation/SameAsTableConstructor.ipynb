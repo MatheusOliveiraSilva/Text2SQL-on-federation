{
 "cells": [
  {
   "cell_type": "code",
   "execution_count": 2,
   "id": "initial_id",
   "metadata": {
    "collapsed": true,
    "ExecuteTime": {
     "end_time": "2024-12-30T19:18:37.541203Z",
     "start_time": "2024-12-30T19:18:37.432349Z"
    }
   },
   "outputs": [
    {
     "data": {
      "text/plain": "['Economy: economical information about the countries.\\ncountry: the country code\\nGDP: gross domestic product (in million $)\\nagriculture: percentage of agriculture of the GDP\\nservice: percentage of services of the GDP\\nindustry: percentage of industry of the GDP\\ninflation: inflation rate (per annum)\\nunemployment: unemployment rate',\n 'Population: information about the population of the countries.\\ncountry: the country code\\npopulation growth: population growth rate (per annum)\\ninfant mortality: infant mortality (per thousand)']"
     },
     "execution_count": 2,
     "metadata": {},
     "output_type": "execute_result"
    }
   ],
   "source": [
    "import re\n",
    "import os\n",
    "import sys\n",
    "import json\n",
    "import langchain\n",
    "import pandas as pd\n",
    "from pathlib import Path\n",
    "from dotenv import load_dotenv\n",
    "from langchain.chains import LLMChain\n",
    "from langchain_openai import ChatOpenAI\n",
    "from langgraph.prebuilt import tools_condition, ToolNode\n",
    "from langgraph.graph import START, StateGraph, MessagesState\n",
    "from langchain_core.messages import SystemMessage, HumanMessage\n",
    "from schemas.mondial_federated_schema import MONDIAL_ECONOMY, MONDIAL_GEO, MONDIAL_POlITICS, MONDIAL_SOCIAL, MONDIAL_FULL_SCHEMA\n",
    "\n",
    "load_dotenv()\n",
    "\n",
    "# Leitura do arquivo PDF extraído como texto\n",
    "with open(\"../schemas/mondial-RS.txt\", \"r\") as file:\n",
    "    content = file.read()\n",
    "\n",
    "table_chunks = re.findall(r\"---\\n(.*?)\\n---\", content, flags=re.DOTALL)\n",
    "table_chunks[:2]"
   ]
  },
  {
   "cell_type": "markdown",
   "source": [
    "## Acima, temos o esquema relacional de todas as tabelas do Mondial.\n",
    "## Vamos extrair as tabelas, e criar uma estrutura de dados structured_data que armazene as informações."
   ],
   "metadata": {
    "collapsed": false
   },
   "id": "d475fc7621dbc30a"
  },
  {
   "cell_type": "code",
   "outputs": [
    {
     "name": "stdout",
     "output_type": "stream",
     "text": [
      "{\n",
      "  \"Economy\": {\n",
      "    \"description\": \"economical information about the countries.\",\n",
      "    \"columns\": {\n",
      "      \"country\": \"the country code\",\n",
      "      \"GDP\": \"gross domestic product (in million $)\",\n",
      "      \"agriculture\": \"percentage of agriculture of the GDP\",\n",
      "      \"service\": \"percentage of services of the GDP\",\n",
      "      \"industry\": \"percentage of industry of the GDP\",\n",
      "      \"inflation\": \"inflation rate (per annum)\",\n",
      "      \"unemployment\": \"unemployment rate\"\n",
      "    }\n",
      "  },\n",
      "  \"Population\": {\n",
      "    \"description\": \"information about the population of the countries.\",\n",
      "    \"columns\": {\n",
      "      \"country\": \"the country code\",\n",
      "      \"population growth\": \"population growth rate (per annum)\",\n",
      "      \"infant mortality\": \"infant mortality (per thousand)\"\n",
      "    }\n",
      "  },\n",
      "  \"CountryLocalName\": {\n",
      "    \"description\": \"information about the local name of the country.\",\n",
      "    \"columns\": {\n",
      "      \"country\": \"the country code\",\n",
      "      \"localname\": \"the local name, usually in a local alphabet (UTF-8)\"\n",
      "    }\n",
      "  },\n",
      "  \"Religion\": {\n",
      "    \"description\": \"information about the religions in a country\",\n",
      "    \"columns\": {\n",
      "      \"country\": \"the country code\",\n",
      "      \"name\": \"name of the religion\",\n",
      "      \"percentage\": \"percentage of the language in this country\"\n",
      "    }\n",
      "  },\n",
      "  \"borders\": {\n",
      "    \"description\": \"informations about neighboring countries. Note that in this relation, for every pair of\",\n",
      "    \"columns\": {\n",
      "      \"country1\": \"a country code\",\n",
      "      \"country2\": \"a country code\",\n",
      "      \"length\": \"length of the border between country1 and country2\"\n",
      "    }\n",
      "  },\n",
      "  \"encompasses\": {\n",
      "    \"description\": \"information to which continents a country belongs.\",\n",
      "    \"columns\": {\n",
      "      \"country\": \"the country code\",\n",
      "      \"continent\": \"the continent name\",\n",
      "      \"percentage\": \"percentage, how much of the area of a country belongs to the continent\"\n",
      "    }\n",
      "  },\n",
      "  \"Citypops\": {\n",
      "    \"description\": \"information about the population number of the cities in different years.\",\n",
      "    \"columns\": {\n",
      "      \"city\": \"the name of the city\",\n",
      "      \"province\": \"the name of the province\",\n",
      "      \"country\": \"the code of the country where it belongs to\",\n",
      "      \"population\": \"number of inhabitants\",\n",
      "      \"year\": \"in which year\"\n",
      "    }\n",
      "  },\n",
      "  \"Province\": {\n",
      "    \"description\": \"information about administrative divisions.\",\n",
      "    \"columns\": {\n",
      "      \"name\": \"the name of the administrative division\",\n",
      "      \"country\": \"the country code where it belongs to\",\n",
      "      \"area\": \"the total area of the province\",\n",
      "      \"population\": \"the population of the province\",\n",
      "      \"capital\": \"the name of the capital\",\n",
      "      \"capprov\": \"the name of the province where the capital belongs to\"\n",
      "    }\n",
      "  },\n",
      "  \"ProvinceLocalName\": {\n",
      "    \"description\": \"information about the local name of the province.\",\n",
      "    \"columns\": {\n",
      "      \"province\": \"the name of the province\",\n",
      "      \"country\": \"the code of the country where it belongs to\",\n",
      "      \"localname\": \"the local name, usually in a local alphabet (UTF-8)\"\n",
      "    }\n",
      "  },\n",
      "  \"isMember\": {\n",
      "    \"description\": \"memberships in political and economical organizations.\",\n",
      "    \"columns\": {\n",
      "      \"organization\": \"the abbreviation of the organization\",\n",
      "      \"country\": \"the code of the member country\",\n",
      "      \"type\": \"the type of membership\"\n",
      "    }\n",
      "  },\n",
      "  \"Sea\": {\n",
      "    \"description\": \"information about seas.\",\n",
      "    \"columns\": {\n",
      "      \"name\": \"the name of the sea\",\n",
      "      \"depth\": \"the maximal depth of the sea\",\n",
      "      \"area\": \"the total area of the sea\"\n",
      "    }\n",
      "  },\n",
      "  \"RiverThrough\": {\n",
      "    \"description\": \"information about rivers flowing through lakes.\",\n",
      "    \"columns\": {\n",
      "      \"river\": \"the name of the river\",\n",
      "      \"lake\": \"the lake where it flows through\"\n",
      "    }\n",
      "  },\n",
      "  \"Island\": {\n",
      "    \"description\": \"information about islands\",\n",
      "    \"columns\": {\n",
      "      \"name\": \"the name of the island\",\n",
      "      \"islands\": \"the group of islands where it belongs to\",\n",
      "      \"area\": \"the area of the island\",\n",
      "      \"elevation\": \"the maximal elevation of the island\",\n",
      "      \"type\": \"the type of the island, e.g. volcanic, coral, atoll, ...\",\n",
      "      \"coordinates\": \"its geographical coordinates as (latitude, longitude)\"\n",
      "    }\n",
      "  },\n",
      "  \"geo Mountain\": {\n",
      "    \"description\": \"geographical information about mountains\",\n",
      "    \"columns\": {\n",
      "      \"mountain\": \"the name of the mountain\",\n",
      "      \"country\": \"the country code where it is located\",\n",
      "      \"province\": \"the province of this country\"\n",
      "    }\n",
      "  },\n",
      "  \"located\": {\n",
      "    \"description\": \"information about cities located at rivers, lakes, and seas.\",\n",
      "    \"columns\": {\n",
      "      \"city\": \"the name of the city\",\n",
      "      \"country\": \"the country code where the city belongs to\",\n",
      "      \"province\": \"the province where the city belongs to\",\n",
      "      \"river\": \"the river where it is located at\",\n",
      "      \"lake\": \"the lake where it is located at\",\n",
      "      \"sea\": \"the sea where it is located at\"\n",
      "    }\n",
      "  },\n",
      "  \"islandIn\": {\n",
      "    \"description\": \"information the waters where the islands are located in.\",\n",
      "    \"columns\": {\n",
      "      \"island\": \"the name of the island\",\n",
      "      \"sea\": \"the sea where the island is located in\",\n",
      "      \"lake\": \"the lake where the island is located in\",\n",
      "      \"river\": \"the river where the island is located in\"\n",
      "    }\n",
      "  },\n",
      "  \"RiverOnIsland\": {\n",
      "    \"description\": \"information which rivers are located on islands.\",\n",
      "    \"columns\": {\n",
      "      \"river\": \"the name of the river\",\n",
      "      \"island\": \"the name of the island\"\n",
      "    }\n",
      "  }\n",
      "}\n"
     ]
    }
   ],
   "source": [
    "import re\n",
    "import json\n",
    "\n",
    "# Função para processar cada chunk e extrair informações\n",
    "def process_chunks(table_chunks):\n",
    "    tables = {}\n",
    "\n",
    "    for chunk in table_chunks:\n",
    "        # Separar o nome da tabela e descrição\n",
    "        header_match = re.match(r\"^(.*?): (.*?)\\n\", chunk, flags=re.DOTALL)\n",
    "        if not header_match:\n",
    "            continue\n",
    "        table_name = header_match.group(1).strip()\n",
    "        description = header_match.group(2).strip()\n",
    "        \n",
    "        # Extrair colunas e descrições\n",
    "        columns = {}\n",
    "        for line in chunk.split(\"\\n\")[1:]:  # Ignorar a primeira linha\n",
    "            column_match = re.match(r\"^(.*?): (.*)\", line)\n",
    "            if column_match:\n",
    "                column_name = column_match.group(1).strip()\n",
    "                column_description = column_match.group(2).strip()\n",
    "                columns[column_name] = column_description\n",
    "        \n",
    "        # Estruturar os dados da tabela\n",
    "        tables[table_name] = {\n",
    "            \"description\": description,\n",
    "            \"columns\": columns\n",
    "        }\n",
    "    \n",
    "    return tables\n",
    "\n",
    "# Processar os chunks\n",
    "structured_data = process_chunks(table_chunks)\n",
    "\n",
    "# Exibir o resultado\n",
    "print(json.dumps(structured_data, indent=2, ensure_ascii=False))"
   ],
   "metadata": {
    "collapsed": false,
    "ExecuteTime": {
     "end_time": "2024-12-30T19:18:39.566314Z",
     "start_time": "2024-12-30T19:18:39.429121Z"
    }
   },
   "id": "fbe75e907c14ffee",
   "execution_count": 3
  },
  {
   "cell_type": "code",
   "outputs": [
    {
     "name": "stdout",
     "output_type": "stream",
     "text": [
      "\n",
      "Tabelas do banco de dados de economia: ['Economy', 'Population']\n",
      "\n",
      "Tabelas do banco de dados de geografia: ['Country', 'RiverThrough', 'encompasses', 'Continent', 'City', 'Province', 'Mountain', 'Desert', 'Island', 'Lake', 'Sea', 'River', 'Airport', 'geo_Mountain', 'geo_Desert', 'geo_Island', 'geo_River', 'geo_Sea', 'geo_Lake', 'geo_Source', 'geo_Estuary', 'located', 'locatedOn', 'islandIn', 'MountainOnIsland', 'LakeOnIsland', 'RiverOnIsland', 'mergesWith']\n",
      "\n",
      "Tabelas do banco de dados social: ['Religion', 'EthnicGroup', 'Language', 'Sublanguage', 'Countrylocalname', 'Countryothername', 'Provincelocalname', 'Provinceothername', 'Citylocalname', 'Cityothername', 'Countrypops', 'Provpops', 'Citypops']\n",
      "\n",
      "Tabelas do banco de dados de politica: ['Politics', 'borders', 'Organization', 'isMember']\n"
     ]
    }
   ],
   "source": [
    "from schemas.mondial_federated_schema import MONDIAL_ECONOMY, MONDIAL_GEO, MONDIAL_POlITICS, MONDIAL_SOCIAL, MONDIAL_FULL_SCHEMA\n",
    "\n",
    "economy_db_tables_names = []\n",
    "economy_db_tables = MONDIAL_ECONOMY.split(\"CREATE TABLE \")\n",
    "for table in economy_db_tables:\n",
    "    table_name = table.split(\"\\n\")[0]\n",
    "    economy_db_tables_names.append(table_name)\n",
    "    \n",
    "economy_db_tables_names = economy_db_tables_names[1:]\n",
    "print(\"\\nTabelas do banco de dados de economia:\", economy_db_tables_names)\n",
    "\n",
    "geo_db_tables_names = []\n",
    "geo_db_tables = MONDIAL_GEO.split(\"CREATE TABLE \")\n",
    "for table in geo_db_tables:\n",
    "    table_name = table.split(\"\\n\")[0]\n",
    "    geo_db_tables_names.append(table_name)\n",
    "\n",
    "geo_db_tables_names = geo_db_tables_names[1:]\n",
    "print(\"\\nTabelas do banco de dados de geografia:\", geo_db_tables_names)\n",
    "\n",
    "social_db_tables_names = []\n",
    "social_db_tables = MONDIAL_SOCIAL.split(\"CREATE TABLE \")\n",
    "for table in social_db_tables:\n",
    "    table_name = table.split(\"\\n\")[0]\n",
    "    social_db_tables_names.append(table_name)\n",
    "\n",
    "social_db_tables_names = social_db_tables_names[1:]\n",
    "print(\"\\nTabelas do banco de dados social:\", social_db_tables_names)\n",
    "\n",
    "politics_db_tables_names = []\n",
    "politics_db_tables = MONDIAL_POlITICS.split(\"CREATE TABLE \")\n",
    "for table in politics_db_tables:\n",
    "    table_name = table.split(\"\\n\")[0]\n",
    "    politics_db_tables_names.append(table_name)\n",
    "    \n",
    "politics_db_tables_names = politics_db_tables_names[1:]\n",
    "print(\"\\nTabelas do banco de dados de politica:\", politics_db_tables_names)"
   ],
   "metadata": {
    "collapsed": false,
    "ExecuteTime": {
     "end_time": "2024-12-30T19:18:40.378556Z",
     "start_time": "2024-12-30T19:18:40.335235Z"
    }
   },
   "id": "b668fbb140521007",
   "execution_count": 4
  },
  {
   "cell_type": "markdown",
   "source": [
    "## Agora que temos os dados de quais tabelas pertencem à qual banco de dados da federação, e quais tabelas pertencem aos bancos de dados, vamos criar um prompt para criar as conexões SameAsTable, intrabancos."
   ],
   "metadata": {
    "collapsed": false
   },
   "id": "3a0a037d3464a007"
  },
  {
   "cell_type": "code",
   "outputs": [],
   "source": [
    "prompt = \"\"\"\n",
    "You are an intelligent assistant responsible for identifying `SameAsTable` relationships between tables in different federated databases. Your task is to determine columns in the input table that represent equivalent data or have the same logical meaning as columns in tables from other databases.\n",
    "\n",
    "!!! Attention !!!\n",
    "1. Respond **only in JSON format**, with no additional text or explanation.\n",
    "2. Identify **only SameAsTable relationships**.\n",
    "3. Prioritize connections between the input table and tables in other databases. Avoid connections within the same database.\n",
    "\n",
    "Example:\n",
    "The `Economy` table contains economic information. A relevant `SameAsTable` connection might be:\n",
    "{{\n",
    "    \"Endpoint Source\": \"MONDIAL_ECONOMY\",\n",
    "    \"Class Source\": \"Economy\",\n",
    "    \"Properties Source\": \"country\",\n",
    "    \"Endpoint Destination\": \"MONDIAL_POLITICS\",\n",
    "    \"Class Destination\": \"Politics\",\n",
    "    \"Properties Destination\": \"country\"\n",
    "}}\n",
    "\n",
    "Now, for the table `{table_name}`:\n",
    "Description: {table_description}\n",
    "Columns and descriptions:\n",
    "{table_columns_info}\n",
    "\n",
    "Schemas of federated databases:\n",
    "MONDIAL_SOCIAL DATABASE SCHEMA:\n",
    "{social_db_schema}\n",
    "\n",
    "MONDIAL_GEO DATABASE SCHEMA:\n",
    "{geo_db_schema}\n",
    "\n",
    "MONDIAL_POLITICS DATABASE SCHEMA:\n",
    "{politics_db_schema}\n",
    "\n",
    "MONDIAL_ECONOMY DATABASE SCHEMA:\n",
    "{economy_db_schema}\n",
    "\n",
    "Question:\n",
    "Identify all `SameAsTable` relationships for the table `{table_name}`. Return the relationships **only in JSON format**.\n",
    "\"\"\""
   ],
   "metadata": {
    "collapsed": false,
    "ExecuteTime": {
     "end_time": "2024-12-30T19:18:42.286170Z",
     "start_time": "2024-12-30T19:18:42.169806Z"
    }
   },
   "id": "5d847f8c55878b87",
   "execution_count": 5
  },
  {
   "cell_type": "code",
   "outputs": [
    {
     "name": "stdout",
     "output_type": "stream",
     "text": [
      "```json\n",
      "[\n",
      "    {\n",
      "        \"Endpoint Source\": \"MONDIAL_ECONOMY\",\n",
      "        \"Class Source\": \"Economy\",\n",
      "        \"Properties Source\": \"country\",\n",
      "        \"Endpoint Destination\": \"MONDIAL_SOCIAL\",\n",
      "        \"Class Destination\": \"Countrypops\",\n",
      "        \"Properties Destination\": \"Country\"\n",
      "    },\n",
      "    {\n",
      "        \"Endpoint Source\": \"MONDIAL_ECONOMY\",\n",
      "        \"Class Source\": \"Economy\",\n",
      "        \"Properties Source\": \"country\",\n",
      "        \"Endpoint Destination\": \"MONDIAL_GEO\",\n",
      "        \"Class Destination\": \"Country\",\n",
      "        \"Properties Destination\": \"Code\"\n",
      "    },\n",
      "    {\n",
      "        \"Endpoint Source\": \"MONDIAL_ECONOMY\",\n",
      "        \"Class Source\": \"Economy\",\n",
      "        \"Properties Source\": \"country\",\n",
      "        \"Endpoint Destination\": \"MONDIAL_POLITICS\",\n",
      "        \"Class Destination\": \"Politics\",\n",
      "        \"Properties Destination\": \"Country\"\n",
      "    }\n",
      "]\n",
      "```\n",
      "Just processed table Economy.\n"
     ]
    }
   ],
   "source": [
    "from langchain_core.output_parsers import StrOutputParser\n",
    "from langchain_utils import get_llm\n",
    "\n",
    "llm = get_llm()\n",
    "\n",
    "results = []\n",
    "\n",
    "for table_name in structured_data:\n",
    "    table_info = structured_data[table_name]\n",
    "    \n",
    "    table_description = table_info[\"description\"]\n",
    "    table_columns_info = \"\\n\".join([f\"{column}: {description}\" for column, description in table_info[\"columns\"].items()])\n",
    "    \n",
    "    social_db_schema = MONDIAL_SOCIAL\n",
    "    geo_db_schema = MONDIAL_GEO\n",
    "    politics_db_schema = MONDIAL_POlITICS\n",
    "    economy_db_schema = MONDIAL_ECONOMY\n",
    "    \n",
    "    prompt_with_schema = prompt.format(\n",
    "        table_name=table_name,\n",
    "        table_description=table_description,\n",
    "        table_columns_info=table_columns_info,\n",
    "        social_db_schema=social_db_schema,\n",
    "        geo_db_schema=geo_db_schema,\n",
    "        politics_db_schema=politics_db_schema,\n",
    "        economy_db_schema=economy_db_schema\n",
    "    )\n",
    "    \n",
    "    human_msg = HumanMessage(\n",
    "        content=prompt_with_schema\n",
    "    )\n",
    "    \n",
    "    chain = llm | StrOutputParser()\n",
    "    \n",
    "    result = chain.invoke([human_msg])\n",
    "    \n",
    "    results.append(result)\n",
    "    \n",
    "    print(result)\n",
    "    print(f\"Just processed table {table_name}.\")\n",
    "    break"
   ],
   "metadata": {
    "collapsed": false,
    "ExecuteTime": {
     "end_time": "2024-12-30T19:19:15.453981Z",
     "start_time": "2024-12-30T19:19:11.742408Z"
    }
   },
   "id": "942f2cf7646ee432",
   "execution_count": 7
  },
  {
   "cell_type": "code",
   "outputs": [
    {
     "data": {
      "text/plain": "['```json\\n[\\n    {\\n        \"Endpoint Source\": \"MONDIAL_ECONOMY\",\\n        \"Class Source\": \"Economy\",\\n        \"Properties Source\": \"country\",\\n        \"Endpoint Destination\": \"MONDIAL_SOCIAL\",\\n        \"Class Destination\": \"Religion\",\\n        \"Properties Destination\": \"Country\"\\n    },\\n    {\\n        \"Endpoint Source\": \"MONDIAL_ECONOMY\",\\n        \"Class Source\": \"Economy\",\\n        \"Properties Source\": \"country\",\\n        \"Endpoint Destination\": \"MONDIAL_SOCIAL\",\\n        \"Class Destination\": \"EthnicGroup\",\\n        \"Properties Destination\": \"Country\"\\n    },\\n    {\\n        \"Endpoint Source\": \"MONDIAL_ECONOMY\",\\n        \"Class Source\": \"Economy\",\\n        \"Properties Source\": \"country\",\\n        \"Endpoint Destination\": \"MONDIAL_SOCIAL\",\\n        \"Class Destination\": \"Language\",\\n        \"Properties Destination\": \"Country\"\\n    },\\n    {\\n        \"Endpoint Source\": \"MONDIAL_ECONOMY\",\\n        \"Class Source\": \"Economy\",\\n        \"Properties Source\": \"country\",\\n        \"Endpoint Destination\": \"MONDIAL_SOCIAL\",\\n        \"Class Destination\": \"Countrylocalname\",\\n        \"Properties Destination\": \"Country\"\\n    },\\n    {\\n        \"Endpoint Source\": \"MONDIAL_ECONOMY\",\\n        \"Class Source\": \"Economy\",\\n        \"Properties Source\": \"country\",\\n        \"Endpoint Destination\": \"MONDIAL_SOCIAL\",\\n        \"Class Destination\": \"Countryothername\",\\n        \"Properties Destination\": \"Country\"\\n    },\\n    {\\n        \"Endpoint Source\": \"MONDIAL_ECONOMY\",\\n        \"Class Source\": \"Economy\",\\n        \"Properties Source\": \"country\",\\n        \"Endpoint Destination\": \"MONDIAL_SOCIAL\",\\n        \"Class Destination\": \"Countrypops\",\\n        \"Properties Destination\": \"Country\"\\n    },\\n    {\\n        \"Endpoint Source\": \"MONDIAL_ECONOMY\",\\n        \"Class Source\": \"Economy\",\\n        \"Properties Source\": \"country\",\\n        \"Endpoint Destination\": \"MONDIAL_GEO\",\\n        \"Class Destination\": \"Country\",\\n        \"Properties Destination\": \"Code\"\\n    },\\n    {\\n        \"Endpoint Source\": \"MONDIAL_ECONOMY\",\\n        \"Class Source\": \"Economy\",\\n        \"Properties Source\": \"country\",\\n        \"Endpoint Destination\": \"MONDIAL_GEO\",\\n        \"Class Destination\": \"encompasses\",\\n        \"Properties Destination\": \"Country\"\\n    },\\n    {\\n        \"Endpoint Source\": \"MONDIAL_ECONOMY\",\\n        \"Class Source\": \"Economy\",\\n        \"Properties Source\": \"country\",\\n        \"Endpoint Destination\": \"MONDIAL_POLITICS\",\\n        \"Class Destination\": \"Politics\",\\n        \"Properties Destination\": \"Country\"\\n    },\\n    {\\n        \"Endpoint Source\": \"MONDIAL_ECONOMY\",\\n        \"Class Source\": \"Economy\",\\n        \"Properties Source\": \"country\",\\n        \"Endpoint Destination\": \"MONDIAL_POLITICS\",\\n        \"Class Destination\": \"borders\",\\n        \"Properties Destination\": \"Country1\"\\n    },\\n    {\\n        \"Endpoint Source\": \"MONDIAL_ECONOMY\",\\n        \"Class Source\": \"Economy\",\\n        \"Properties Source\": \"country\",\\n        \"Endpoint Destination\": \"MONDIAL_POLITICS\",\\n        \"Class Destination\": \"borders\",\\n        \"Properties Destination\": \"Country2\"\\n    },\\n    {\\n        \"Endpoint Source\": \"MONDIAL_ECONOMY\",\\n        \"Class Source\": \"Economy\",\\n        \"Properties Source\": \"country\",\\n        \"Endpoint Destination\": \"MONDIAL_POLITICS\",\\n        \"Class Destination\": \"Organization\",\\n        \"Properties Destination\": \"Country\"\\n    },\\n    {\\n        \"Endpoint Source\": \"MONDIAL_ECONOMY\",\\n        \"Class Source\": \"Economy\",\\n        \"Properties Source\": \"country\",\\n        \"Endpoint Destination\": \"MONDIAL_POLITICS\",\\n        \"Class Destination\": \"isMember\",\\n        \"Properties Destination\": \"Country\"\\n    }\\n]\\n```',\n '```json\\n[\\n    {\\n        \"Endpoint Source\": \"MONDIAL_ECONOMY\",\\n        \"Class Source\": \"Population\",\\n        \"Properties Source\": \"country\",\\n        \"Endpoint Destination\": \"MONDIAL_SOCIAL\",\\n        \"Class Destination\": \"Countrypops\",\\n        \"Properties Destination\": \"Country\"\\n    },\\n    {\\n        \"Endpoint Source\": \"MONDIAL_ECONOMY\",\\n        \"Class Source\": \"Population\",\\n        \"Properties Source\": \"country\",\\n        \"Endpoint Destination\": \"MONDIAL_GEO\",\\n        \"Class Destination\": \"Country\",\\n        \"Properties Destination\": \"Code\"\\n    },\\n    {\\n        \"Endpoint Source\": \"MONDIAL_ECONOMY\",\\n        \"Class Source\": \"Population\",\\n        \"Properties Source\": \"country\",\\n        \"Endpoint Destination\": \"MONDIAL_POLITICS\",\\n        \"Class Destination\": \"Politics\",\\n        \"Properties Destination\": \"Country\"\\n    }\\n]\\n```',\n '```json\\n[\\n    {\\n        \"Endpoint Source\": \"MONDIAL_SOCIAL\",\\n        \"Class Source\": \"CountryLocalName\",\\n        \"Properties Source\": \"country\",\\n        \"Endpoint Destination\": \"MONDIAL_GEO\",\\n        \"Class Destination\": \"Country\",\\n        \"Properties Destination\": \"Code\"\\n    },\\n    {\\n        \"Endpoint Source\": \"MONDIAL_SOCIAL\",\\n        \"Class Source\": \"CountryLocalName\",\\n        \"Properties Source\": \"country\",\\n        \"Endpoint Destination\": \"MONDIAL_POLITICS\",\\n        \"Class Destination\": \"Politics\",\\n        \"Properties Destination\": \"Country\"\\n    },\\n    {\\n        \"Endpoint Source\": \"MONDIAL_SOCIAL\",\\n        \"Class Source\": \"CountryLocalName\",\\n        \"Properties Source\": \"country\",\\n        \"Endpoint Destination\": \"MONDIAL_ECONOMY\",\\n        \"Class Destination\": \"Economy\",\\n        \"Properties Destination\": \"Country\"\\n    },\\n    {\\n        \"Endpoint Source\": \"MONDIAL_SOCIAL\",\\n        \"Class Source\": \"CountryLocalName\",\\n        \"Properties Source\": \"country\",\\n        \"Endpoint Destination\": \"MONDIAL_ECONOMY\",\\n        \"Class Destination\": \"Population\",\\n        \"Properties Destination\": \"Country\"\\n    }\\n]\\n```',\n '```json\\n[\\n    {\\n        \"Endpoint Source\": \"MONDIAL_SOCIAL\",\\n        \"Class Source\": \"Religion\",\\n        \"Properties Source\": \"Country\",\\n        \"Endpoint Destination\": \"MONDIAL_GEO\",\\n        \"Class Destination\": \"Country\",\\n        \"Properties Destination\": \"Code\"\\n    },\\n    {\\n        \"Endpoint Source\": \"MONDIAL_SOCIAL\",\\n        \"Class Source\": \"Religion\",\\n        \"Properties Source\": \"Country\",\\n        \"Endpoint Destination\": \"MONDIAL_POLITICS\",\\n        \"Class Destination\": \"Politics\",\\n        \"Properties Destination\": \"Country\"\\n    },\\n    {\\n        \"Endpoint Source\": \"MONDIAL_SOCIAL\",\\n        \"Class Source\": \"Religion\",\\n        \"Properties Source\": \"Country\",\\n        \"Endpoint Destination\": \"MONDIAL_ECONOMY\",\\n        \"Class Destination\": \"Economy\",\\n        \"Properties Destination\": \"Country\"\\n    },\\n    {\\n        \"Endpoint Source\": \"MONDIAL_SOCIAL\",\\n        \"Class Source\": \"Religion\",\\n        \"Properties Source\": \"Country\",\\n        \"Endpoint Destination\": \"MONDIAL_ECONOMY\",\\n        \"Class Destination\": \"Population\",\\n        \"Properties Destination\": \"Country\"\\n    }\\n]\\n```',\n '```json\\n[\\n    {\\n        \"Endpoint Source\": \"MONDIAL_POLITICS\",\\n        \"Class Source\": \"borders\",\\n        \"Properties Source\": \"Country1\",\\n        \"Endpoint Destination\": \"MONDIAL_SOCIAL\",\\n        \"Class Destination\": \"Religion\",\\n        \"Properties Destination\": \"Country\"\\n    },\\n    {\\n        \"Endpoint Source\": \"MONDIAL_POLITICS\",\\n        \"Class Source\": \"borders\",\\n        \"Properties Source\": \"Country1\",\\n        \"Endpoint Destination\": \"MONDIAL_SOCIAL\",\\n        \"Class Destination\": \"EthnicGroup\",\\n        \"Properties Destination\": \"Country\"\\n    },\\n    {\\n        \"Endpoint Source\": \"MONDIAL_POLITICS\",\\n        \"Class Source\": \"borders\",\\n        \"Properties Source\": \"Country1\",\\n        \"Endpoint Destination\": \"MONDIAL_SOCIAL\",\\n        \"Class Destination\": \"Language\",\\n        \"Properties Destination\": \"Country\"\\n    },\\n    {\\n        \"Endpoint Source\": \"MONDIAL_POLITICS\",\\n        \"Class Source\": \"borders\",\\n        \"Properties Source\": \"Country1\",\\n        \"Endpoint Destination\": \"MONDIAL_SOCIAL\",\\n        \"Class Destination\": \"Countrylocalname\",\\n        \"Properties Destination\": \"Country\"\\n    },\\n    {\\n        \"Endpoint Source\": \"MONDIAL_POLITICS\",\\n        \"Class Source\": \"borders\",\\n        \"Properties Source\": \"Country1\",\\n        \"Endpoint Destination\": \"MONDIAL_SOCIAL\",\\n        \"Class Destination\": \"Countryothername\",\\n        \"Properties Destination\": \"Country\"\\n    },\\n    {\\n        \"Endpoint Source\": \"MONDIAL_POLITICS\",\\n        \"Class Source\": \"borders\",\\n        \"Properties Source\": \"Country1\",\\n        \"Endpoint Destination\": \"MONDIAL_SOCIAL\",\\n        \"Class Destination\": \"Countrypops\",\\n        \"Properties Destination\": \"Country\"\\n    },\\n    {\\n        \"Endpoint Source\": \"MONDIAL_POLITICS\",\\n        \"Class Source\": \"borders\",\\n        \"Properties Source\": \"Country1\",\\n        \"Endpoint Destination\": \"MONDIAL_GEO\",\\n        \"Class Destination\": \"Country\",\\n        \"Properties Destination\": \"Code\"\\n    },\\n    {\\n        \"Endpoint Source\": \"MONDIAL_POLITICS\",\\n        \"Class Source\": \"borders\",\\n        \"Properties Source\": \"Country1\",\\n        \"Endpoint Destination\": \"MONDIAL_GEO\",\\n        \"Class Destination\": \"encompasses\",\\n        \"Properties Destination\": \"Country\"\\n    },\\n    {\\n        \"Endpoint Source\": \"MONDIAL_POLITICS\",\\n        \"Class Source\": \"borders\",\\n        \"Properties Source\": \"Country1\",\\n        \"Endpoint Destination\": \"MONDIAL_GEO\",\\n        \"Class Destination\": \"City\",\\n        \"Properties Destination\": \"Country\"\\n    },\\n    {\\n        \"Endpoint Source\": \"MONDIAL_POLITICS\",\\n        \"Class Source\": \"borders\",\\n        \"Properties Source\": \"Country1\",\\n        \"Endpoint Destination\": \"MONDIAL_GEO\",\\n        \"Class Destination\": \"Province\",\\n        \"Properties Destination\": \"Country\"\\n    },\\n    {\\n        \"Endpoint Source\": \"MONDIAL_POLITICS\",\\n        \"Class Source\": \"borders\",\\n        \"Properties Source\": \"Country1\",\\n        \"Endpoint Destination\": \"MONDIAL_GEO\",\\n        \"Class Destination\": \"Airport\",\\n        \"Properties Destination\": \"Country\"\\n    },\\n    {\\n        \"Endpoint Source\": \"MONDIAL_POLITICS\",\\n        \"Class Source\": \"borders\",\\n        \"Properties Source\": \"Country1\",\\n        \"Endpoint Destination\": \"MONDIAL_POLITICS\",\\n        \"Class Destination\": \"Politics\",\\n        \"Properties Destination\": \"Country\"\\n    },\\n    {\\n        \"Endpoint Source\": \"MONDIAL_POLITICS\",\\n        \"Class Source\": \"borders\",\\n        \"Properties Source\": \"Country1\",\\n        \"Endpoint Destination\": \"MONDIAL_POLITICS\",\\n        \"Class Destination\": \"isMember\",\\n        \"Properties Destination\": \"Country\"\\n    },\\n    {\\n        \"Endpoint Source\": \"MONDIAL_POLITICS\",\\n        \"Class Source\": \"borders\",\\n        \"Properties Source\": \"Country2\",\\n        \"Endpoint Destination\": \"MONDIAL_SOCIAL\",\\n        \"Class Destination\": \"Religion\",\\n        \"Properties Destination\": \"Country\"\\n    },\\n    {\\n        \"Endpoint Source\": \"MONDIAL_POLITICS\",\\n        \"Class Source\": \"borders\",\\n        \"Properties Source\": \"Country2\",\\n        \"Endpoint Destination\": \"MONDIAL_SOCIAL\",\\n        \"Class Destination\": \"EthnicGroup\",\\n        \"Properties Destination\": \"Country\"\\n    },\\n    {\\n        \"Endpoint Source\": \"MONDIAL_POLITICS\",\\n        \"Class Source\": \"borders\",\\n        \"Properties Source\": \"Country2\",\\n        \"Endpoint Destination\": \"MONDIAL_SOCIAL\",\\n        \"Class Destination\": \"Language\",\\n        \"Properties Destination\": \"Country\"\\n    },\\n    {\\n        \"Endpoint Source\": \"MONDIAL_POLITICS\",\\n        \"Class Source\": \"borders\",\\n        \"Properties Source\": \"Country2\",\\n        \"Endpoint Destination\": \"MONDIAL_SOCIAL\",\\n        \"Class Destination\": \"Countrylocalname\",\\n        \"Properties Destination\": \"Country\"\\n    },\\n    {\\n        \"Endpoint Source\": \"MONDIAL_POLITICS\",\\n        \"Class Source\": \"borders\",\\n        \"Properties Source\": \"Country2\",\\n        \"Endpoint Destination\": \"MONDIAL_SOCIAL\",\\n        \"Class Destination\": \"Countryothername\",\\n        \"Properties Destination\": \"Country\"\\n    },\\n    {\\n        \"Endpoint Source\": \"MONDIAL_POLITICS\",\\n        \"Class Source\": \"borders\",\\n        \"Properties Source\": \"Country2\",\\n        \"Endpoint Destination\": \"MONDIAL_SOCIAL\",\\n        \"Class Destination\": \"Countrypops\",\\n        \"Properties Destination\": \"Country\"\\n    },\\n    {\\n        \"Endpoint Source\": \"MONDIAL_POLITICS\",\\n        \"Class Source\": \"borders\",\\n        \"Properties Source\": \"Country2\",\\n        \"Endpoint Destination\": \"MONDIAL_GEO\",\\n        \"Class Destination\": \"Country\",\\n        \"Properties Destination\": \"Code\"\\n    },\\n    {\\n        \"Endpoint Source\": \"MONDIAL_POLITICS\",\\n        \"Class Source\": \"borders\",\\n        \"Properties Source\": \"Country2\",\\n        \"Endpoint Destination\": \"MONDIAL_GEO\",\\n        \"Class Destination\": \"encompasses\",\\n        \"Properties Destination\": \"Country\"\\n    },\\n    {\\n        \"Endpoint Source\": \"MONDIAL_POLITICS\",\\n        \"Class Source\": \"borders\",\\n        \"Properties Source\": \"Country2\",\\n        \"Endpoint Destination\": \"MONDIAL_GEO\",\\n        \"Class Destination\": \"City\",\\n        \"Properties Destination\": \"Country\"\\n    },\\n    {\\n        \"Endpoint Source\": \"MONDIAL_POLITICS\",\\n        \"Class Source\": \"borders\",\\n        \"Properties Source\": \"Country2\",\\n        \"Endpoint Destination\": \"MONDIAL_GEO\",\\n        \"Class Destination\": \"Province\",\\n        \"Properties Destination\": \"Country\"\\n    },\\n    {\\n        \"Endpoint Source\": \"MONDIAL_POLITICS\",\\n        \"Class Source\": \"borders\",\\n        \"Properties Source\": \"Country2\",\\n        \"Endpoint Destination\": \"MONDIAL_GEO\",\\n        \"Class Destination\": \"Airport\",\\n        \"Properties Destination\": \"Country\"\\n    },\\n    {\\n        \"Endpoint Source\": \"MONDIAL_POLITICS\",\\n        \"Class Source\": \"borders\",\\n        \"Properties Source\": \"Country2\",\\n        \"Endpoint Destination\": \"MONDIAL_POLITICS\",\\n        \"Class Destination\": \"Politics\",\\n        \"Properties Destination\": \"Country\"\\n    },\\n    {\\n        \"Endpoint Source\": \"MONDIAL_POLITICS\",\\n        \"Class Source\": \"borders\",\\n        \"Properties Source\": \"Country2\",\\n        \"Endpoint Destination\": \"MONDIAL_POLITICS\",\\n        \"Class Destination\": \"isMember\",\\n        \"Properties Destination\": \"Country\"\\n    }\\n]\\n```',\n '```json\\n[\\n    {\\n        \"Endpoint Source\": \"MONDIAL_GEO\",\\n        \"Class Source\": \"encompasses\",\\n        \"Properties Source\": \"Country\",\\n        \"Endpoint Destination\": \"MONDIAL_SOCIAL\",\\n        \"Class Destination\": \"Religion\",\\n        \"Properties Destination\": \"Country\"\\n    },\\n    {\\n        \"Endpoint Source\": \"MONDIAL_GEO\",\\n        \"Class Source\": \"encompasses\",\\n        \"Properties Source\": \"Country\",\\n        \"Endpoint Destination\": \"MONDIAL_SOCIAL\",\\n        \"Class Destination\": \"EthnicGroup\",\\n        \"Properties Destination\": \"Country\"\\n    },\\n    {\\n        \"Endpoint Source\": \"MONDIAL_GEO\",\\n        \"Class Source\": \"encompasses\",\\n        \"Properties Source\": \"Country\",\\n        \"Endpoint Destination\": \"MONDIAL_SOCIAL\",\\n        \"Class Destination\": \"Language\",\\n        \"Properties Destination\": \"Country\"\\n    },\\n    {\\n        \"Endpoint Source\": \"MONDIAL_GEO\",\\n        \"Class Source\": \"encompasses\",\\n        \"Properties Source\": \"Country\",\\n        \"Endpoint Destination\": \"MONDIAL_SOCIAL\",\\n        \"Class Destination\": \"Countrypops\",\\n        \"Properties Destination\": \"Country\"\\n    },\\n    {\\n        \"Endpoint Source\": \"MONDIAL_GEO\",\\n        \"Class Source\": \"encompasses\",\\n        \"Properties Source\": \"Country\",\\n        \"Endpoint Destination\": \"MONDIAL_POLITICS\",\\n        \"Class Destination\": \"Politics\",\\n        \"Properties Destination\": \"Country\"\\n    },\\n    {\\n        \"Endpoint Source\": \"MONDIAL_GEO\",\\n        \"Class Source\": \"encompasses\",\\n        \"Properties Source\": \"Country\",\\n        \"Endpoint Destination\": \"MONDIAL_ECONOMY\",\\n        \"Class Destination\": \"Economy\",\\n        \"Properties Destination\": \"Country\"\\n    },\\n    {\\n        \"Endpoint Source\": \"MONDIAL_GEO\",\\n        \"Class Source\": \"encompasses\",\\n        \"Properties Source\": \"Country\",\\n        \"Endpoint Destination\": \"MONDIAL_ECONOMY\",\\n        \"Class Destination\": \"Population\",\\n        \"Properties Destination\": \"Country\"\\n    }\\n]\\n```',\n '```json\\n[\\n    {\\n        \"Endpoint Source\": \"MONDIAL_SOCIAL\",\\n        \"Class Source\": \"Citypops\",\\n        \"Properties Source\": \"City\",\\n        \"Endpoint Destination\": \"MONDIAL_GEO\",\\n        \"Class Destination\": \"City\",\\n        \"Properties Destination\": \"Name\"\\n    },\\n    {\\n        \"Endpoint Source\": \"MONDIAL_SOCIAL\",\\n        \"Class Source\": \"Citypops\",\\n        \"Properties Source\": \"Country\",\\n        \"Endpoint Destination\": \"MONDIAL_GEO\",\\n        \"Class Destination\": \"City\",\\n        \"Properties Destination\": \"Country\"\\n    },\\n    {\\n        \"Endpoint Source\": \"MONDIAL_SOCIAL\",\\n        \"Class Source\": \"Citypops\",\\n        \"Properties Source\": \"Province\",\\n        \"Endpoint Destination\": \"MONDIAL_GEO\",\\n        \"Class Destination\": \"City\",\\n        \"Properties Destination\": \"Province\"\\n    }\\n]\\n```',\n '```json\\n[\\n    {\\n        \"Endpoint Source\": \"MONDIAL_GEO\",\\n        \"Class Source\": \"Province\",\\n        \"Properties Source\": \"name\",\\n        \"Endpoint Destination\": \"MONDIAL_SOCIAL\",\\n        \"Class Destination\": \"Provincelocalname\",\\n        \"Properties Destination\": \"Province\"\\n    },\\n    {\\n        \"Endpoint Source\": \"MONDIAL_GEO\",\\n        \"Class Source\": \"Province\",\\n        \"Properties Source\": \"country\",\\n        \"Endpoint Destination\": \"MONDIAL_SOCIAL\",\\n        \"Class Destination\": \"Provincelocalname\",\\n        \"Properties Destination\": \"Country\"\\n    },\\n    {\\n        \"Endpoint Source\": \"MONDIAL_GEO\",\\n        \"Class Source\": \"Province\",\\n        \"Properties Source\": \"name\",\\n        \"Endpoint Destination\": \"MONDIAL_SOCIAL\",\\n        \"Class Destination\": \"Provinceothername\",\\n        \"Properties Destination\": \"Province\"\\n    },\\n    {\\n        \"Endpoint Source\": \"MONDIAL_GEO\",\\n        \"Class Source\": \"Province\",\\n        \"Properties Source\": \"country\",\\n        \"Endpoint Destination\": \"MONDIAL_SOCIAL\",\\n        \"Class Destination\": \"Provinceothername\",\\n        \"Properties Destination\": \"Country\"\\n    },\\n    {\\n        \"Endpoint Source\": \"MONDIAL_GEO\",\\n        \"Class Source\": \"Province\",\\n        \"Properties Source\": \"population\",\\n        \"Endpoint Destination\": \"MONDIAL_SOCIAL\",\\n        \"Class Destination\": \"Provpops\",\\n        \"Properties Destination\": \"Population\"\\n    },\\n    {\\n        \"Endpoint Source\": \"MONDIAL_GEO\",\\n        \"Class Source\": \"Province\",\\n        \"Properties Source\": \"name\",\\n        \"Endpoint Destination\": \"MONDIAL_SOCIAL\",\\n        \"Class Destination\": \"Provpops\",\\n        \"Properties Destination\": \"Province\"\\n    },\\n    {\\n        \"Endpoint Source\": \"MONDIAL_GEO\",\\n        \"Class Source\": \"Province\",\\n        \"Properties Source\": \"country\",\\n        \"Endpoint Destination\": \"MONDIAL_SOCIAL\",\\n        \"Class Destination\": \"Provpops\",\\n        \"Properties Destination\": \"Country\"\\n    }\\n]\\n```',\n '```json\\n[\\n    {\\n        \"Endpoint Source\": \"MONDIAL_SOCIAL\",\\n        \"Class Source\": \"ProvinceLocalName\",\\n        \"Properties Source\": \"province\",\\n        \"Endpoint Destination\": \"MONDIAL_GEO\",\\n        \"Class Destination\": \"Province\",\\n        \"Properties Destination\": \"Name\"\\n    },\\n    {\\n        \"Endpoint Source\": \"MONDIAL_SOCIAL\",\\n        \"Class Source\": \"ProvinceLocalName\",\\n        \"Properties Source\": \"country\",\\n        \"Endpoint Destination\": \"MONDIAL_GEO\",\\n        \"Class Destination\": \"Country\",\\n        \"Properties Destination\": \"Code\"\\n    },\\n    {\\n        \"Endpoint Source\": \"MONDIAL_SOCIAL\",\\n        \"Class Source\": \"ProvinceLocalName\",\\n        \"Properties Source\": \"localname\",\\n        \"Endpoint Destination\": \"MONDIAL_SOCIAL\",\\n        \"Class Destination\": \"Provincelocalname\",\\n        \"Properties Destination\": \"localname\"\\n    }\\n]\\n```',\n '```json\\n[\\n    {\\n        \"Endpoint Source\": \"MONDIAL_POLITICS\",\\n        \"Class Source\": \"isMember\",\\n        \"Properties Source\": \"Country\",\\n        \"Endpoint Destination\": \"MONDIAL_SOCIAL\",\\n        \"Class Destination\": \"Religion\",\\n        \"Properties Destination\": \"Country\"\\n    },\\n    {\\n        \"Endpoint Source\": \"MONDIAL_POLITICS\",\\n        \"Class Source\": \"isMember\",\\n        \"Properties Source\": \"Country\",\\n        \"Endpoint Destination\": \"MONDIAL_SOCIAL\",\\n        \"Class Destination\": \"EthnicGroup\",\\n        \"Properties Destination\": \"Country\"\\n    },\\n    {\\n        \"Endpoint Source\": \"MONDIAL_POLITICS\",\\n        \"Class Source\": \"isMember\",\\n        \"Properties Source\": \"Country\",\\n        \"Endpoint Destination\": \"MONDIAL_SOCIAL\",\\n        \"Class Destination\": \"Language\",\\n        \"Properties Destination\": \"Country\"\\n    },\\n    {\\n        \"Endpoint Source\": \"MONDIAL_POLITICS\",\\n        \"Class Source\": \"isMember\",\\n        \"Properties Source\": \"Country\",\\n        \"Endpoint Destination\": \"MONDIAL_SOCIAL\",\\n        \"Class Destination\": \"Countrylocalname\",\\n        \"Properties Destination\": \"Country\"\\n    },\\n    {\\n        \"Endpoint Source\": \"MONDIAL_POLITICS\",\\n        \"Class Source\": \"isMember\",\\n        \"Properties Source\": \"Country\",\\n        \"Endpoint Destination\": \"MONDIAL_SOCIAL\",\\n        \"Class Destination\": \"Countryothername\",\\n        \"Properties Destination\": \"Country\"\\n    },\\n    {\\n        \"Endpoint Source\": \"MONDIAL_POLITICS\",\\n        \"Class Source\": \"isMember\",\\n        \"Properties Source\": \"Country\",\\n        \"Endpoint Destination\": \"MONDIAL_SOCIAL\",\\n        \"Class Destination\": \"Countrypops\",\\n        \"Properties Destination\": \"Country\"\\n    },\\n    {\\n        \"Endpoint Source\": \"MONDIAL_POLITICS\",\\n        \"Class Source\": \"isMember\",\\n        \"Properties Source\": \"Country\",\\n        \"Endpoint Destination\": \"MONDIAL_GEO\",\\n        \"Class Destination\": \"Country\",\\n        \"Properties Destination\": \"Code\"\\n    },\\n    {\\n        \"Endpoint Source\": \"MONDIAL_POLITICS\",\\n        \"Class Source\": \"isMember\",\\n        \"Properties Source\": \"Country\",\\n        \"Endpoint Destination\": \"MONDIAL_GEO\",\\n        \"Class Destination\": \"City\",\\n        \"Properties Destination\": \"Country\"\\n    },\\n    {\\n        \"Endpoint Source\": \"MONDIAL_POLITICS\",\\n        \"Class Source\": \"isMember\",\\n        \"Properties Source\": \"Country\",\\n        \"Endpoint Destination\": \"MONDIAL_GEO\",\\n        \"Class Destination\": \"Province\",\\n        \"Properties Destination\": \"Country\"\\n    },\\n    {\\n        \"Endpoint Source\": \"MONDIAL_POLITICS\",\\n        \"Class Source\": \"isMember\",\\n        \"Properties Source\": \"Country\",\\n        \"Endpoint Destination\": \"MONDIAL_GEO\",\\n        \"Class Destination\": \"Airport\",\\n        \"Properties Destination\": \"Country\"\\n    },\\n    {\\n        \"Endpoint Source\": \"MONDIAL_POLITICS\",\\n        \"Class Source\": \"isMember\",\\n        \"Properties Source\": \"Country\",\\n        \"Endpoint Destination\": \"MONDIAL_GEO\",\\n        \"Class Destination\": \"geo_Mountain\",\\n        \"Properties Destination\": \"Country\"\\n    },\\n    {\\n        \"Endpoint Source\": \"MONDIAL_POLITICS\",\\n        \"Class Source\": \"isMember\",\\n        \"Properties Source\": \"Country\",\\n        \"Endpoint Destination\": \"MONDIAL_GEO\",\\n        \"Class Destination\": \"geo_Desert\",\\n        \"Properties Destination\": \"Country\"\\n    },\\n    {\\n        \"Endpoint Source\": \"MONDIAL_POLITICS\",\\n        \"Class Source\": \"isMember\",\\n        \"Properties Source\": \"Country\",\\n        \"Endpoint Destination\": \"MONDIAL_GEO\",\\n        \"Class Destination\": \"geo_Island\",\\n        \"Properties Destination\": \"Country\"\\n    },\\n    {\\n        \"Endpoint Source\": \"MONDIAL_POLITICS\",\\n        \"Class Source\": \"isMember\",\\n        \"Properties Source\": \"Country\",\\n        \"Endpoint Destination\": \"MONDIAL_GEO\",\\n        \"Class Destination\": \"geo_River\",\\n        \"Properties Destination\": \"Country\"\\n    },\\n    {\\n        \"Endpoint Source\": \"MONDIAL_POLITICS\",\\n        \"Class Source\": \"isMember\",\\n        \"Properties Source\": \"Country\",\\n        \"Endpoint Destination\": \"MONDIAL_GEO\",\\n        \"Class Destination\": \"geo_Sea\",\\n        \"Properties Destination\": \"Country\"\\n    },\\n    {\\n        \"Endpoint Source\": \"MONDIAL_POLITICS\",\\n        \"Class Source\": \"isMember\",\\n        \"Properties Source\": \"Country\",\\n        \"Endpoint Destination\": \"MONDIAL_GEO\",\\n        \"Class Destination\": \"geo_Lake\",\\n        \"Properties Destination\": \"Country\"\\n    },\\n    {\\n        \"Endpoint Source\": \"MONDIAL_POLITICS\",\\n        \"Class Source\": \"isMember\",\\n        \"Properties Source\": \"Organization\",\\n        \"Endpoint Destination\": \"MONDIAL_POLITICS\",\\n        \"Class Destination\": \"Organization\",\\n        \"Properties Destination\": \"Abbreviation\"\\n    },\\n    {\\n        \"Endpoint Source\": \"MONDIAL_POLITICS\",\\n        \"Class Source\": \"isMember\",\\n        \"Properties Source\": \"Country\",\\n        \"Endpoint Destination\": \"MONDIAL_ECONOMY\",\\n        \"Class Destination\": \"Economy\",\\n        \"Properties Destination\": \"Country\"\\n    },\\n    {\\n        \"Endpoint Source\": \"MONDIAL_POLITICS\",\\n        \"Class Source\": \"isMember\",\\n        \"Properties Source\": \"Country\",\\n        \"Endpoint Destination\": \"MONDIAL_ECONOMY\",\\n        \"Class Destination\": \"Population\",\\n        \"Properties Destination\": \"Country\"\\n    }\\n]\\n```',\n '```json\\n[\\n    {\\n        \"Endpoint Source\": \"MONDIAL_GEO\",\\n        \"Class Source\": \"Sea\",\\n        \"Properties Source\": \"name\",\\n        \"Endpoint Destination\": \"MONDIAL_GEO\",\\n        \"Class Destination\": \"geo_Sea\",\\n        \"Properties Destination\": \"Sea\"\\n    }\\n]\\n```',\n '```json\\n[\\n    {\\n        \"Endpoint Source\": \"MONDIAL_GEO\",\\n        \"Class Source\": \"RiverThrough\",\\n        \"Properties Source\": \"river\",\\n        \"Endpoint Destination\": \"MONDIAL_GEO\",\\n        \"Class Destination\": \"geo_River\",\\n        \"Properties Destination\": \"River\"\\n    },\\n    {\\n        \"Endpoint Source\": \"MONDIAL_GEO\",\\n        \"Class Source\": \"RiverThrough\",\\n        \"Properties Source\": \"lake\",\\n        \"Endpoint Destination\": \"MONDIAL_GEO\",\\n        \"Class Destination\": \"geo_Lake\",\\n        \"Properties Destination\": \"Lake\"\\n    }\\n]\\n```',\n '```json\\n[\\n    {\\n        \"Endpoint Source\": \"MONDIAL_GEO\",\\n        \"Class Source\": \"Island\",\\n        \"Properties Source\": \"name\",\\n        \"Endpoint Destination\": \"MONDIAL_GEO\",\\n        \"Class Destination\": \"geo_Island\",\\n        \"Properties Destination\": \"Island\"\\n    }\\n]\\n```',\n '```json\\n[\\n    {\\n        \"Endpoint Source\": \"MONDIAL_GEO\",\\n        \"Class Source\": \"geo_Mountain\",\\n        \"Properties Source\": \"Country\",\\n        \"Endpoint Destination\": \"MONDIAL_SOCIAL\",\\n        \"Class Destination\": \"Religion\",\\n        \"Properties Destination\": \"Country\"\\n    },\\n    {\\n        \"Endpoint Source\": \"MONDIAL_GEO\",\\n        \"Class Source\": \"geo_Mountain\",\\n        \"Properties Source\": \"Country\",\\n        \"Endpoint Destination\": \"MONDIAL_SOCIAL\",\\n        \"Class Destination\": \"EthnicGroup\",\\n        \"Properties Destination\": \"Country\"\\n    },\\n    {\\n        \"Endpoint Source\": \"MONDIAL_GEO\",\\n        \"Class Source\": \"geo_Mountain\",\\n        \"Properties Source\": \"Country\",\\n        \"Endpoint Destination\": \"MONDIAL_SOCIAL\",\\n        \"Class Destination\": \"Language\",\\n        \"Properties Destination\": \"Country\"\\n    },\\n    {\\n        \"Endpoint Source\": \"MONDIAL_GEO\",\\n        \"Class Source\": \"geo_Mountain\",\\n        \"Properties Source\": \"Country\",\\n        \"Endpoint Destination\": \"MONDIAL_SOCIAL\",\\n        \"Class Destination\": \"Countrylocalname\",\\n        \"Properties Destination\": \"Country\"\\n    },\\n    {\\n        \"Endpoint Source\": \"MONDIAL_GEO\",\\n        \"Class Source\": \"geo_Mountain\",\\n        \"Properties Source\": \"Country\",\\n        \"Endpoint Destination\": \"MONDIAL_SOCIAL\",\\n        \"Class Destination\": \"Countryothername\",\\n        \"Properties Destination\": \"Country\"\\n    },\\n    {\\n        \"Endpoint Source\": \"MONDIAL_GEO\",\\n        \"Class Source\": \"geo_Mountain\",\\n        \"Properties Source\": \"Country\",\\n        \"Endpoint Destination\": \"MONDIAL_SOCIAL\",\\n        \"Class Destination\": \"Countrypops\",\\n        \"Properties Destination\": \"Country\"\\n    },\\n    {\\n        \"Endpoint Source\": \"MONDIAL_GEO\",\\n        \"Class Source\": \"geo_Mountain\",\\n        \"Properties Source\": \"Country\",\\n        \"Endpoint Destination\": \"MONDIAL_POLITICS\",\\n        \"Class Destination\": \"Politics\",\\n        \"Properties Destination\": \"Country\"\\n    },\\n    {\\n        \"Endpoint Source\": \"MONDIAL_GEO\",\\n        \"Class Source\": \"geo_Mountain\",\\n        \"Properties Source\": \"Country\",\\n        \"Endpoint Destination\": \"MONDIAL_POLITICS\",\\n        \"Class Destination\": \"Organization\",\\n        \"Properties Destination\": \"Country\"\\n    },\\n    {\\n        \"Endpoint Source\": \"MONDIAL_GEO\",\\n        \"Class Source\": \"geo_Mountain\",\\n        \"Properties Source\": \"Country\",\\n        \"Endpoint Destination\": \"MONDIAL_POLITICS\",\\n        \"Class Destination\": \"isMember\",\\n        \"Properties Destination\": \"Country\"\\n    },\\n    {\\n        \"Endpoint Source\": \"MONDIAL_GEO\",\\n        \"Class Source\": \"geo_Mountain\",\\n        \"Properties Source\": \"Country\",\\n        \"Endpoint Destination\": \"MONDIAL_ECONOMY\",\\n        \"Class Destination\": \"Economy\",\\n        \"Properties Destination\": \"Country\"\\n    },\\n    {\\n        \"Endpoint Source\": \"MONDIAL_GEO\",\\n        \"Class Source\": \"geo_Mountain\",\\n        \"Properties Source\": \"Country\",\\n        \"Endpoint Destination\": \"MONDIAL_ECONOMY\",\\n        \"Class Destination\": \"Population\",\\n        \"Properties Destination\": \"Country\"\\n    },\\n    {\\n        \"Endpoint Source\": \"MONDIAL_GEO\",\\n        \"Class Source\": \"geo_Mountain\",\\n        \"Properties Source\": \"Province\",\\n        \"Endpoint Destination\": \"MONDIAL_SOCIAL\",\\n        \"Class Destination\": \"Provincelocalname\",\\n        \"Properties Destination\": \"Province\"\\n    },\\n    {\\n        \"Endpoint Source\": \"MONDIAL_GEO\",\\n        \"Class Source\": \"geo_Mountain\",\\n        \"Properties Source\": \"Province\",\\n        \"Endpoint Destination\": \"MONDIAL_SOCIAL\",\\n        \"Class Destination\": \"Provinceothername\",\\n        \"Properties Destination\": \"Province\"\\n    },\\n    {\\n        \"Endpoint Source\": \"MONDIAL_GEO\",\\n        \"Class Source\": \"geo_Mountain\",\\n        \"Properties Source\": \"Province\",\\n        \"Endpoint Destination\": \"MONDIAL_SOCIAL\",\\n        \"Class Destination\": \"Provpops\",\\n        \"Properties Destination\": \"Province\"\\n    }\\n]\\n```',\n '```json\\n[\\n    {\\n        \"Endpoint Source\": \"MONDIAL_GEO\",\\n        \"Class Source\": \"located\",\\n        \"Properties Source\": \"city\",\\n        \"Endpoint Destination\": \"MONDIAL_GEO\",\\n        \"Class Destination\": \"City\",\\n        \"Properties Destination\": \"Name\"\\n    },\\n    {\\n        \"Endpoint Source\": \"MONDIAL_GEO\",\\n        \"Class Source\": \"located\",\\n        \"Properties Source\": \"country\",\\n        \"Endpoint Destination\": \"MONDIAL_GEO\",\\n        \"Class Destination\": \"Country\",\\n        \"Properties Destination\": \"Code\"\\n    },\\n    {\\n        \"Endpoint Source\": \"MONDIAL_GEO\",\\n        \"Class Source\": \"located\",\\n        \"Properties Source\": \"province\",\\n        \"Endpoint Destination\": \"MONDIAL_GEO\",\\n        \"Class Destination\": \"Province\",\\n        \"Properties Destination\": \"Name\"\\n    },\\n    {\\n        \"Endpoint Source\": \"MONDIAL_GEO\",\\n        \"Class Source\": \"located\",\\n        \"Properties Source\": \"river\",\\n        \"Endpoint Destination\": \"MONDIAL_GEO\",\\n        \"Class Destination\": \"River\",\\n        \"Properties Destination\": \"Name\"\\n    },\\n    {\\n        \"Endpoint Source\": \"MONDIAL_GEO\",\\n        \"Class Source\": \"located\",\\n        \"Properties Source\": \"lake\",\\n        \"Endpoint Destination\": \"MONDIAL_GEO\",\\n        \"Class Destination\": \"Lake\",\\n        \"Properties Destination\": \"Name\"\\n    },\\n    {\\n        \"Endpoint Source\": \"MONDIAL_GEO\",\\n        \"Class Source\": \"located\",\\n        \"Properties Source\": \"sea\",\\n        \"Endpoint Destination\": \"MONDIAL_GEO\",\\n        \"Class Destination\": \"Sea\",\\n        \"Properties Destination\": \"Name\"\\n    }\\n]\\n```',\n '```json\\n[\\n    {\\n        \"Endpoint Source\": \"MONDIAL_GEO\",\\n        \"Class Source\": \"islandIn\",\\n        \"Properties Source\": \"island\",\\n        \"Endpoint Destination\": \"MONDIAL_GEO\",\\n        \"Class Destination\": \"geo_Island\",\\n        \"Properties Destination\": \"Island\"\\n    },\\n    {\\n        \"Endpoint Source\": \"MONDIAL_GEO\",\\n        \"Class Source\": \"islandIn\",\\n        \"Properties Source\": \"sea\",\\n        \"Endpoint Destination\": \"MONDIAL_GEO\",\\n        \"Class Destination\": \"geo_Sea\",\\n        \"Properties Destination\": \"Sea\"\\n    },\\n    {\\n        \"Endpoint Source\": \"MONDIAL_GEO\",\\n        \"Class Source\": \"islandIn\",\\n        \"Properties Source\": \"lake\",\\n        \"Endpoint Destination\": \"MONDIAL_GEO\",\\n        \"Class Destination\": \"geo_Lake\",\\n        \"Properties Destination\": \"Lake\"\\n    },\\n    {\\n        \"Endpoint Source\": \"MONDIAL_GEO\",\\n        \"Class Source\": \"islandIn\",\\n        \"Properties Source\": \"river\",\\n        \"Endpoint Destination\": \"MONDIAL_GEO\",\\n        \"Class Destination\": \"geo_River\",\\n        \"Properties Destination\": \"River\"\\n    }\\n]\\n```',\n '```json\\n[\\n    {\\n        \"Endpoint Source\": \"MONDIAL_GEO\",\\n        \"Class Source\": \"RiverOnIsland\",\\n        \"Properties Source\": \"river\",\\n        \"Endpoint Destination\": \"MONDIAL_GEO\",\\n        \"Class Destination\": \"geo_River\",\\n        \"Properties Destination\": \"River\"\\n    },\\n    {\\n        \"Endpoint Source\": \"MONDIAL_GEO\",\\n        \"Class Source\": \"RiverOnIsland\",\\n        \"Properties Source\": \"island\",\\n        \"Endpoint Destination\": \"MONDIAL_GEO\",\\n        \"Class Destination\": \"geo_Island\",\\n        \"Properties Destination\": \"Island\"\\n    }\\n]\\n```']"
     },
     "execution_count": 6,
     "metadata": {},
     "output_type": "execute_result"
    }
   ],
   "source": [
    "results"
   ],
   "metadata": {
    "collapsed": false,
    "ExecuteTime": {
     "end_time": "2024-12-28T10:31:33.893606Z",
     "start_time": "2024-12-28T10:31:33.887981Z"
    }
   },
   "id": "7cd8b37ed5c7495d",
   "execution_count": 6
  },
  {
   "cell_type": "markdown",
   "source": [
    "## Salva as relações `SameAsTable` em um arquivo JSON, apenas as uniques, evitando documentos duplicados."
   ],
   "metadata": {
    "collapsed": false
   },
   "id": "1a6ec3877220b84"
  },
  {
   "cell_type": "code",
   "outputs": [
    {
     "name": "stdout",
     "output_type": "stream",
     "text": [
      "Resultados consolidados salvos em 'consolidated_sameastable.json'.\n"
     ]
    }
   ],
   "source": [
    "import json\n",
    "\n",
    "# Função para extrair JSON de uma string de resultado\n",
    "def extract_json_from_result(result):\n",
    "    start = result.find(\"[\")\n",
    "    end = result.rfind(\"]\") + 1\n",
    "    if start != -1 and end != -1:\n",
    "        return json.loads(result[start:end])\n",
    "    return []\n",
    "\n",
    "# Consolidar resultados únicos\n",
    "consolidated_results = []\n",
    "seen = set()\n",
    "\n",
    "for result in results:\n",
    "    extracted_json = extract_json_from_result(result)\n",
    "    for entry in extracted_json:\n",
    "        entry_tuple = tuple(entry.items())\n",
    "        if entry_tuple not in seen:\n",
    "            seen.add(entry_tuple)\n",
    "            consolidated_results.append(entry)\n",
    "\n",
    "# Salvar resultados consolidados em um arquivo JSON\n",
    "with open(\"consolidated_sameastable.json\", \"w\") as json_file:\n",
    "    json.dump(consolidated_results, json_file, indent=2, ensure_ascii=False)\n",
    "\n",
    "print(\"Resultados consolidados salvos em 'consolidated_sameastable.json'.\")"
   ],
   "metadata": {
    "collapsed": false,
    "ExecuteTime": {
     "end_time": "2024-12-28T10:31:33.904680Z",
     "start_time": "2024-12-28T10:31:33.896575Z"
    }
   },
   "id": "213c26475db333e4",
   "execution_count": 7
  },
  {
   "cell_type": "code",
   "outputs": [],
   "source": [],
   "metadata": {
    "collapsed": false
   },
   "id": "6c0ede11023aaea1"
  }
 ],
 "metadata": {
  "kernelspec": {
   "display_name": "Python 3",
   "language": "python",
   "name": "python3"
  },
  "language_info": {
   "codemirror_mode": {
    "name": "ipython",
    "version": 2
   },
   "file_extension": ".py",
   "mimetype": "text/x-python",
   "name": "python",
   "nbconvert_exporter": "python",
   "pygments_lexer": "ipython2",
   "version": "2.7.6"
  }
 },
 "nbformat": 4,
 "nbformat_minor": 5
}
